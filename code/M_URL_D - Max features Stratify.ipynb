{
 "cells": [
  {
   "cell_type": "code",
   "execution_count": 1,
   "id": "5de3661c",
   "metadata": {},
   "outputs": [],
   "source": [
    "import pandas as pd\n",
    "import numpy as np\n",
    "import random\n",
    "\n",
    "import matplotlib.pyplot as plt\n",
    "from sklearn.feature_extraction.text import CountVectorizer\n",
    "from sklearn.feature_extraction.text import TfidfVectorizer\n",
    "from sklearn.linear_model import LogisticRegression\n",
    "from sklearn.model_selection import train_test_split\n",
    "\n",
    "from sklearn.metrics import classification_report\n",
    "from sklearn.metrics import confusion_matrix\n",
    "from sklearn.metrics import precision_score, recall_score, f1_score, accuracy_score\n",
    "\n",
    "import seaborn as sn\n",
    "\n",
    "import whois"
   ]
  },
  {
   "cell_type": "markdown",
   "id": "93ff7ecf",
   "metadata": {},
   "source": [
    "### Reading Data"
   ]
  },
  {
   "cell_type": "code",
   "execution_count": 2,
   "id": "d9fbb980",
   "metadata": {},
   "outputs": [
    {
     "data": {
      "text/html": [
       "<div>\n",
       "<style scoped>\n",
       "    .dataframe tbody tr th:only-of-type {\n",
       "        vertical-align: middle;\n",
       "    }\n",
       "\n",
       "    .dataframe tbody tr th {\n",
       "        vertical-align: top;\n",
       "    }\n",
       "\n",
       "    .dataframe thead th {\n",
       "        text-align: right;\n",
       "    }\n",
       "</style>\n",
       "<table border=\"1\" class=\"dataframe\">\n",
       "  <thead>\n",
       "    <tr style=\"text-align: right;\">\n",
       "      <th></th>\n",
       "      <th>url</th>\n",
       "      <th>label</th>\n",
       "    </tr>\n",
       "  </thead>\n",
       "  <tbody>\n",
       "    <tr>\n",
       "      <th>0</th>\n",
       "      <td>diaryofagameaddict.com</td>\n",
       "      <td>bad</td>\n",
       "    </tr>\n",
       "    <tr>\n",
       "      <th>1</th>\n",
       "      <td>espdesign.com.au</td>\n",
       "      <td>bad</td>\n",
       "    </tr>\n",
       "    <tr>\n",
       "      <th>2</th>\n",
       "      <td>iamagameaddict.com</td>\n",
       "      <td>bad</td>\n",
       "    </tr>\n",
       "    <tr>\n",
       "      <th>3</th>\n",
       "      <td>kalantzis.net</td>\n",
       "      <td>bad</td>\n",
       "    </tr>\n",
       "    <tr>\n",
       "      <th>4</th>\n",
       "      <td>slightlyoffcenter.net</td>\n",
       "      <td>bad</td>\n",
       "    </tr>\n",
       "    <tr>\n",
       "      <th>5</th>\n",
       "      <td>toddscarwash.com</td>\n",
       "      <td>bad</td>\n",
       "    </tr>\n",
       "    <tr>\n",
       "      <th>6</th>\n",
       "      <td>tubemoviez.com</td>\n",
       "      <td>bad</td>\n",
       "    </tr>\n",
       "    <tr>\n",
       "      <th>7</th>\n",
       "      <td>ipl.hk</td>\n",
       "      <td>bad</td>\n",
       "    </tr>\n",
       "    <tr>\n",
       "      <th>8</th>\n",
       "      <td>crackspider.us/toolbar/install.php?pack=exe</td>\n",
       "      <td>bad</td>\n",
       "    </tr>\n",
       "    <tr>\n",
       "      <th>9</th>\n",
       "      <td>pos-kupang.com/</td>\n",
       "      <td>bad</td>\n",
       "    </tr>\n",
       "  </tbody>\n",
       "</table>\n",
       "</div>"
      ],
      "text/plain": [
       "                                           url label\n",
       "0                       diaryofagameaddict.com   bad\n",
       "1                             espdesign.com.au   bad\n",
       "2                           iamagameaddict.com   bad\n",
       "3                                kalantzis.net   bad\n",
       "4                        slightlyoffcenter.net   bad\n",
       "5                             toddscarwash.com   bad\n",
       "6                               tubemoviez.com   bad\n",
       "7                                       ipl.hk   bad\n",
       "8  crackspider.us/toolbar/install.php?pack=exe   bad\n",
       "9                              pos-kupang.com/   bad"
      ]
     },
     "execution_count": 2,
     "metadata": {},
     "output_type": "execute_result"
    }
   ],
   "source": [
    "# Reading data from csv file\n",
    "data = pd.read_csv(\"data.csv\")\n",
    "data.head(10)"
   ]
  },
  {
   "cell_type": "code",
   "execution_count": 3,
   "id": "d1b2fa9f",
   "metadata": {},
   "outputs": [
    {
     "data": {
      "text/plain": [
       "(420464, 2)"
      ]
     },
     "execution_count": 3,
     "metadata": {},
     "output_type": "execute_result"
    }
   ],
   "source": [
    "data.shape"
   ]
  },
  {
   "cell_type": "code",
   "execution_count": 4,
   "id": "38f02beb",
   "metadata": {},
   "outputs": [
    {
     "data": {
      "text/plain": [
       "array(['bad', 'good'], dtype=object)"
      ]
     },
     "execution_count": 4,
     "metadata": {},
     "output_type": "execute_result"
    }
   ],
   "source": [
    "data['label'].unique()"
   ]
  },
  {
   "cell_type": "markdown",
   "id": "0488f392",
   "metadata": {},
   "source": [
    "### Data Preprocessing"
   ]
  },
  {
   "cell_type": "code",
   "execution_count": 5,
   "id": "88cc0133",
   "metadata": {},
   "outputs": [
    {
     "data": {
      "image/png": "[encoded data removed]",
      "text/plain": [
       "<Figure size 720x720 with 1 Axes>"
      ]
     },
     "metadata": {
      "needs_background": "light"
     },
     "output_type": "display_data"
    }
   ],
   "source": [
    "def plot_sample_length_distribution(urls):\n",
    "    plt.figure(figsize=(10,10))\n",
    "    plt.plot([x for x in range(len(urls))], [len(s) for s in urls])\n",
    "#     plt.hist([len(s) for s in urls], 50)\n",
    "    plt.xlabel('Sample number')\n",
    "    plt.ylabel('Length of URL')\n",
    "    plt.title('URLs length distribution')\n",
    "    plt.show()\n",
    "\n",
    "plot_sample_length_distribution(data['url'])"
   ]
  },
  {
   "cell_type": "code",
   "execution_count": 6,
   "id": "c3be7089",
   "metadata": {},
   "outputs": [
    {
     "data": {
      "text/plain": [
       "<matplotlib.legend.Legend at 0x17233898a00>"
      ]
     },
     "execution_count": 6,
     "metadata": {},
     "output_type": "execute_result"
    },
    {
     "data": {
      "image/png": "[encoded data removed]",
      "text/plain": [
       "<Figure size 432x288 with 1 Axes>"
      ]
     },
     "metadata": {},
     "output_type": "display_data"
    }
   ],
   "source": [
    "counts = data.groupby(['label']).size()\n",
    "\n",
    "plt.pie(counts, labels = ['bad', 'Good'], autopct='%.0f%%')\n",
    "plt.legend()\n"
   ]
  },
  {
   "cell_type": "markdown",
   "id": "f1a2f1b2",
   "metadata": {},
   "source": [
    "#### malicious = 1 <br> Normal = 0"
   ]
  },
  {
   "cell_type": "code",
   "execution_count": 7,
   "id": "1fb1207b",
   "metadata": {},
   "outputs": [],
   "source": [
    "data['label'] = np.where(data['label']=='bad',1,0)"
   ]
  },
  {
   "cell_type": "code",
   "execution_count": 8,
   "id": "853a968a",
   "metadata": {},
   "outputs": [],
   "source": [
    "# get target feature\n",
    "y = data[\"label\"]\n",
    "\n",
    "# get dependent features\n",
    "urls = data[\"url\"]"
   ]
  },
  {
   "cell_type": "code",
   "execution_count": 9,
   "id": "9af9ffa4",
   "metadata": {},
   "outputs": [],
   "source": [
    "# Split into training and testing dataset 80:20 ratio\n",
    "X_train, X_test, y_train, y_test = train_test_split(urls, y, test_size=0.2, random_state=42, stratify=y)"
   ]
  },
  {
   "cell_type": "markdown",
   "id": "04d7750e",
   "metadata": {},
   "source": [
    "### Using count vectorizer"
   ]
  },
  {
   "cell_type": "code",
   "execution_count": 10,
   "id": "7858ca50",
   "metadata": {},
   "outputs": [],
   "source": [
    "cv = CountVectorizer(max_features=10000)\n",
    "\n",
    "# creating vectors for traning data\n",
    "X_train_cv = cv.fit_transform(X_train)\n",
    "# creating vectors for testing data\n",
    "X_test_cv = cv.transform(X_test)"
   ]
  },
  {
   "cell_type": "code",
   "execution_count": 11,
   "id": "db22d85d",
   "metadata": {},
   "outputs": [
    {
     "data": {
      "text/plain": [
       "{'analyzer': 'word',\n",
       " 'binary': False,\n",
       " 'decode_error': 'strict',\n",
       " 'dtype': numpy.int64,\n",
       " 'encoding': 'utf-8',\n",
       " 'input': 'content',\n",
       " 'lowercase': True,\n",
       " 'max_df': 1.0,\n",
       " 'max_features': 10000,\n",
       " 'min_df': 1,\n",
       " 'ngram_range': (1, 1),\n",
       " 'preprocessor': None,\n",
       " 'stop_words': None,\n",
       " 'strip_accents': None,\n",
       " 'token_pattern': '(?u)\\\\b\\\\w\\\\w+\\\\b',\n",
       " 'tokenizer': None,\n",
       " 'vocabulary': None}"
      ]
     },
     "execution_count": 11,
     "metadata": {},
     "output_type": "execute_result"
    }
   ],
   "source": [
    "cv.get_params()"
   ]
  },
  {
   "cell_type": "code",
   "execution_count": 12,
   "id": "7724d9e7",
   "metadata": {},
   "outputs": [],
   "source": [
    "cv_results = []\n",
    "cv_results.append(('Classifier','Accurary','Precision', 'Recall','F1-Score'))"
   ]
  },
  {
   "cell_type": "markdown",
   "id": "861130f6",
   "metadata": {},
   "source": [
    "### logistic regression"
   ]
  },
  {
   "cell_type": "code",
   "execution_count": 13,
   "id": "3b95282a",
   "metadata": {},
   "outputs": [
    {
     "name": "stderr",
     "output_type": "stream",
     "text": [
      "c:\\Users\\ritik\\AppData\\Local\\Programs\\Python\\Python310\\lib\\site-packages\\sklearn\\linear_model\\_logistic.py:444: ConvergenceWarning: lbfgs failed to converge (status=1):\n",
      "STOP: TOTAL NO. of ITERATIONS REACHED LIMIT.\n",
      "\n",
      "Increase the number of iterations (max_iter) or scale the data as shown in:\n",
      "    https://scikit-learn.org/stable/modules/preprocessing.html\n",
      "Please also refer to the documentation for alternative solver options:\n",
      "    https://scikit-learn.org/stable/modules/linear_model.html#logistic-regression\n",
      "  n_iter_i = _check_optimize_result(\n"
     ]
    },
    {
     "data": {
      "text/html": [
       "<style>#sk-container-id-1 {color: black;background-color: white;}#sk-container-id-1 pre{padding: 0;}#sk-container-id-1 div.sk-toggleable {background-color: white;}#sk-container-id-1 label.sk-toggleable__label {cursor: pointer;display: block;width: 100%;margin-bottom: 0;padding: 0.3em;box-sizing: border-box;text-align: center;}#sk-container-id-1 label.sk-toggleable__label-arrow:before {content: \"▸\";float: left;margin-right: 0.25em;color: #696969;}#sk-container-id-1 label.sk-toggleable__label-arrow:hover:before {color: black;}#sk-container-id-1 div.sk-estimator:hover label.sk-toggleable__label-arrow:before {color: black;}#sk-container-id-1 div.sk-toggleable__content {max-height: 0;max-width: 0;overflow: hidden;text-align: left;background-color: #f0f8ff;}#sk-container-id-1 div.sk-toggleable__content pre {margin: 0.2em;color: black;border-radius: 0.25em;background-color: #f0f8ff;}#sk-container-id-1 input.sk-toggleable__control:checked~div.sk-toggleable__content {max-height: 200px;max-width: 100%;overflow: auto;}#sk-container-id-1 input.sk-toggleable__control:checked~label.sk-toggleable__label-arrow:before {content: \"▾\";}#sk-container-id-1 div.sk-estimator input.sk-toggleable__control:checked~label.sk-toggleable__label {background-color: #d4ebff;}#sk-container-id-1 div.sk-label input.sk-toggleable__control:checked~label.sk-toggleable__label {background-color: #d4ebff;}#sk-container-id-1 input.sk-hidden--visually {border: 0;clip: rect(1px 1px 1px 1px);clip: rect(1px, 1px, 1px, 1px);height: 1px;margin: -1px;overflow: hidden;padding: 0;position: absolute;width: 1px;}#sk-container-id-1 div.sk-estimator {font-family: monospace;background-color: #f0f8ff;border: 1px dotted black;border-radius: 0.25em;box-sizing: border-box;margin-bottom: 0.5em;}#sk-container-id-1 div.sk-estimator:hover {background-color: #d4ebff;}#sk-container-id-1 div.sk-parallel-item::after {content: \"\";width: 100%;border-bottom: 1px solid gray;flex-grow: 1;}#sk-container-id-1 div.sk-label:hover label.sk-toggleable__label {background-color: #d4ebff;}#sk-container-id-1 div.sk-serial::before {content: \"\";position: absolute;border-left: 1px solid gray;box-sizing: border-box;top: 0;bottom: 0;left: 50%;z-index: 0;}#sk-container-id-1 div.sk-serial {display: flex;flex-direction: column;align-items: center;background-color: white;padding-right: 0.2em;padding-left: 0.2em;position: relative;}#sk-container-id-1 div.sk-item {position: relative;z-index: 1;}#sk-container-id-1 div.sk-parallel {display: flex;align-items: stretch;justify-content: center;background-color: white;position: relative;}#sk-container-id-1 div.sk-item::before, #sk-container-id-1 div.sk-parallel-item::before {content: \"\";position: absolute;border-left: 1px solid gray;box-sizing: border-box;top: 0;bottom: 0;left: 50%;z-index: -1;}#sk-container-id-1 div.sk-parallel-item {display: flex;flex-direction: column;z-index: 1;position: relative;background-color: white;}#sk-container-id-1 div.sk-parallel-item:first-child::after {align-self: flex-end;width: 50%;}#sk-container-id-1 div.sk-parallel-item:last-child::after {align-self: flex-start;width: 50%;}#sk-container-id-1 div.sk-parallel-item:only-child::after {width: 0;}#sk-container-id-1 div.sk-dashed-wrapped {border: 1px dashed gray;margin: 0 0.4em 0.5em 0.4em;box-sizing: border-box;padding-bottom: 0.4em;background-color: white;}#sk-container-id-1 div.sk-label label {font-family: monospace;font-weight: bold;display: inline-block;line-height: 1.2em;}#sk-container-id-1 div.sk-label-container {text-align: center;}#sk-container-id-1 div.sk-container {/* jupyter's `normalize.less` sets `[hidden] { display: none; }` but bootstrap.min.css set `[hidden] { display: none !important; }` so we also need the `!important` here to be able to override the default hidden behavior on the sphinx rendered scikit-learn.org. See: https://github.com/scikit-learn/scikit-learn/issues/21755 */display: inline-block !important;position: relative;}#sk-container-id-1 div.sk-text-repr-fallback {display: none;}</style><div id=\"sk-container-id-1\" class=\"sk-top-container\"><div class=\"sk-text-repr-fallback\"><pre>LogisticRegression()</pre><b>In a Jupyter environment, please rerun this cell to show the HTML representation or trust the notebook. <br />On GitHub, the HTML representation is unable to render, please try loading this page with nbviewer.org.</b></div><div class=\"sk-container\" hidden><div class=\"sk-item\"><div class=\"sk-estimator sk-toggleable\"><input class=\"sk-toggleable__control sk-hidden--visually\" id=\"sk-estimator-id-1\" type=\"checkbox\" checked><label for=\"sk-estimator-id-1\" class=\"sk-toggleable__label sk-toggleable__label-arrow\">LogisticRegression</label><div class=\"sk-toggleable__content\"><pre>LogisticRegression()</pre></div></div></div></div></div>"
      ],
      "text/plain": [
       "LogisticRegression()"
      ]
     },
     "execution_count": 13,
     "metadata": {},
     "output_type": "execute_result"
    }
   ],
   "source": [
    "# Model Building using logistic regression\n",
    "logit = LogisticRegression()\n",
    "logit.fit(X_train_cv, y_train)"
   ]
  },
  {
   "cell_type": "code",
   "execution_count": 14,
   "id": "f7cc293d",
   "metadata": {},
   "outputs": [
    {
     "name": "stdout",
     "output_type": "stream",
     "text": [
      "Accuracy of Logistic Regression model is:  0.961019347627032\n",
      "\n",
      "              precision    recall  f1-score   support\n",
      "\n",
      "           0       0.96      0.99      0.98     68964\n",
      "           1       0.96      0.82      0.88     15129\n",
      "\n",
      "    accuracy                           0.96     84093\n",
      "   macro avg       0.96      0.91      0.93     84093\n",
      "weighted avg       0.96      0.96      0.96     84093\n",
      "\n"
     ]
    },
    {
     "data": {
      "image/png": "[encoded data removed]",
      "text/plain": [
       "<Figure size 432x288 with 1 Axes>"
      ]
     },
     "metadata": {
      "needs_background": "light"
     },
     "output_type": "display_data"
    }
   ],
   "source": [
    "logit_cv_pred = logit.predict(X_test_cv)\n",
    "\n",
    "cm = confusion_matrix(y_test, logit_cv_pred)\n",
    "ac = accuracy_score(y_test, logit_cv_pred)\n",
    "# Accuracy of Our Model\n",
    "print(\"Accuracy of Logistic Regression model is: \",ac)\n",
    "print()\n",
    "# print confusion matrix\n",
    "sn.heatmap(cm, square=True, annot=True, cmap='Blues', fmt='d', cbar=False)\n",
    "\n",
    "print(classification_report(y_test, logit_cv_pred))"
   ]
  },
  {
   "cell_type": "code",
   "execution_count": 15,
   "id": "351e67b7",
   "metadata": {},
   "outputs": [],
   "source": [
    "cv_results.append((\"LogR \", accuracy_score(y_test,  logit_cv_pred)*100,\n",
    "                precision_score(y_test,  logit_cv_pred)*100,\n",
    "                recall_score(y_test,  logit_cv_pred)*100,\n",
    "                f1_score(y_test,  logit_cv_pred)*100 ))"
   ]
  },
  {
   "cell_type": "code",
   "execution_count": 16,
   "id": "4eea6e73",
   "metadata": {},
   "outputs": [
    {
     "data": {
      "text/plain": [
       "[('Classifier', 'Accurary', 'Precision', 'Recall', 'F1-Score'),\n",
       " ('LogR ',\n",
       "  96.1019347627032,\n",
       "  95.87365487342262,\n",
       "  81.85603807257584,\n",
       "  88.31205876060756)]"
      ]
     },
     "execution_count": 16,
     "metadata": {},
     "output_type": "execute_result"
    }
   ],
   "source": [
    "cv_results"
   ]
  },
  {
   "cell_type": "markdown",
   "id": "8d5fa066",
   "metadata": {},
   "source": [
    "### Applying Naive Bayes"
   ]
  },
  {
   "cell_type": "code",
   "execution_count": 17,
   "id": "88c4f5c8",
   "metadata": {},
   "outputs": [
    {
     "name": "stdout",
     "output_type": "stream",
     "text": [
      "Accuracy of Naive Bayes model is:  0.9546811268476567\n",
      "              precision    recall  f1-score   support\n",
      "\n",
      "           0       0.96      0.99      0.97     68964\n",
      "           1       0.94      0.80      0.86     15129\n",
      "\n",
      "    accuracy                           0.95     84093\n",
      "   macro avg       0.95      0.90      0.92     84093\n",
      "weighted avg       0.95      0.95      0.95     84093\n",
      "\n"
     ]
    },
    {
     "data": {
      "image/png": "[encoded data removed]",
      "text/plain": [
       "<Figure size 432x288 with 1 Axes>"
      ]
     },
     "metadata": {
      "needs_background": "light"
     },
     "output_type": "display_data"
    }
   ],
   "source": [
    "from sklearn.naive_bayes import MultinomialNB\n",
    "mnb = MultinomialNB()\n",
    "mnb.fit(X_train_cv, y_train)\n",
    "\n",
    "mnb_cv_pred = mnb.predict(X_test_cv)\n",
    "\n",
    "cm = confusion_matrix(y_test, mnb_cv_pred)\n",
    "ac = accuracy_score(y_test, mnb_cv_pred)\n",
    "# Accuracy of Our Model\n",
    "print(\"Accuracy of Naive Bayes model is: \",ac)\n",
    "\n",
    "# print confusion matrix\n",
    "sn.heatmap(cm, square=True, annot=True, cmap='Blues', fmt='d', cbar=False)\n",
    "\n",
    "print(classification_report(y_test, mnb_cv_pred))"
   ]
  },
  {
   "cell_type": "code",
   "execution_count": 18,
   "id": "129b1746",
   "metadata": {},
   "outputs": [],
   "source": [
    "cv_results.append((\"MNB \", accuracy_score(y_test,  mnb_cv_pred)*100,\n",
    "                precision_score(y_test,  mnb_cv_pred)*100,\n",
    "                recall_score(y_test,  mnb_cv_pred)*100,\n",
    "                f1_score(y_test,  mnb_cv_pred)*100 ))"
   ]
  },
  {
   "cell_type": "markdown",
   "id": "4759549e",
   "metadata": {},
   "source": [
    "### Applying Decision Tree"
   ]
  },
  {
   "cell_type": "code",
   "execution_count": 19,
   "id": "3067ca81",
   "metadata": {},
   "outputs": [
    {
     "name": "stdout",
     "output_type": "stream",
     "text": [
      "Accuracy of Decision Tree model is:  0.9578442914392399\n",
      "              precision    recall  f1-score   support\n",
      "\n",
      "           0       0.96      0.99      0.97     68964\n",
      "           1       0.93      0.83      0.88     15129\n",
      "\n",
      "    accuracy                           0.96     84093\n",
      "   macro avg       0.94      0.91      0.93     84093\n",
      "weighted avg       0.96      0.96      0.96     84093\n",
      "\n"
     ]
    },
    {
     "data": {
      "image/png": "[encoded data removed]",
      "text/plain": [
       "<Figure size 432x288 with 1 Axes>"
      ]
     },
     "metadata": {
      "needs_background": "light"
     },
     "output_type": "display_data"
    }
   ],
   "source": [
    "from sklearn.tree import DecisionTreeClassifier\n",
    "dtc = DecisionTreeClassifier(criterion='entropy')\n",
    "dtc.fit(X_train_cv, y_train)\n",
    "\n",
    "dt_cv_pred = dtc.predict(X_test_cv)\n",
    "\n",
    "cm = confusion_matrix(y_test, dt_cv_pred)\n",
    "ac = accuracy_score(y_test, dt_cv_pred)\n",
    "# Accuracy of Our Model\n",
    "print(\"Accuracy of Decision Tree model is: \",ac)\n",
    "\n",
    "# print confusion matrix\n",
    "sn.heatmap(cm, square=True, annot=True, cmap='Blues', fmt='d', cbar=False)\n",
    "\n",
    "print(classification_report(y_test, dt_cv_pred))"
   ]
  },
  {
   "cell_type": "code",
   "execution_count": 20,
   "id": "7c4abbf5",
   "metadata": {},
   "outputs": [],
   "source": [
    "cv_results.append((\"DT \", accuracy_score(y_test,  dt_cv_pred)*100,\n",
    "                precision_score(y_test,  dt_cv_pred)*100,\n",
    "                recall_score(y_test,  dt_cv_pred)*100,\n",
    "                f1_score(y_test,  dt_cv_pred)*100 ))"
   ]
  },
  {
   "cell_type": "code",
   "execution_count": null,
   "id": "7dd9cf12",
   "metadata": {},
   "outputs": [],
   "source": []
  },
  {
   "cell_type": "code",
   "execution_count": 21,
   "id": "d3965e33",
   "metadata": {
    "scrolled": true
   },
   "outputs": [
    {
     "data": {
      "text/html": [
       "<div>\n",
       "<style scoped>\n",
       "    .dataframe tbody tr th:only-of-type {\n",
       "        vertical-align: middle;\n",
       "    }\n",
       "\n",
       "    .dataframe tbody tr th {\n",
       "        vertical-align: top;\n",
       "    }\n",
       "\n",
       "    .dataframe thead th {\n",
       "        text-align: right;\n",
       "    }\n",
       "</style>\n",
       "<table border=\"1\" class=\"dataframe\">\n",
       "  <thead>\n",
       "    <tr style=\"text-align: right;\">\n",
       "      <th></th>\n",
       "      <th>0</th>\n",
       "      <th>1</th>\n",
       "      <th>2</th>\n",
       "      <th>3</th>\n",
       "      <th>4</th>\n",
       "    </tr>\n",
       "  </thead>\n",
       "  <tbody>\n",
       "    <tr>\n",
       "      <th>0</th>\n",
       "      <td>Classifier</td>\n",
       "      <td>Accurary</td>\n",
       "      <td>Precision</td>\n",
       "      <td>Recall</td>\n",
       "      <td>F1-Score</td>\n",
       "    </tr>\n",
       "    <tr>\n",
       "      <th>1</th>\n",
       "      <td>LogR</td>\n",
       "      <td>96.101935</td>\n",
       "      <td>95.873655</td>\n",
       "      <td>81.856038</td>\n",
       "      <td>88.312059</td>\n",
       "    </tr>\n",
       "    <tr>\n",
       "      <th>2</th>\n",
       "      <td>MNB</td>\n",
       "      <td>95.468113</td>\n",
       "      <td>93.671863</td>\n",
       "      <td>80.230022</td>\n",
       "      <td>86.431445</td>\n",
       "    </tr>\n",
       "    <tr>\n",
       "      <th>3</th>\n",
       "      <td>DT</td>\n",
       "      <td>95.784429</td>\n",
       "      <td>92.519454</td>\n",
       "      <td>83.303589</td>\n",
       "      <td>87.669994</td>\n",
       "    </tr>\n",
       "  </tbody>\n",
       "</table>\n",
       "</div>"
      ],
      "text/plain": [
       "            0          1          2          3          4\n",
       "0  Classifier   Accurary  Precision     Recall   F1-Score\n",
       "1       LogR   96.101935  95.873655  81.856038  88.312059\n",
       "2        MNB   95.468113  93.671863  80.230022  86.431445\n",
       "3         DT   95.784429  92.519454  83.303589  87.669994"
      ]
     },
     "execution_count": 21,
     "metadata": {},
     "output_type": "execute_result"
    }
   ],
   "source": [
    "pd.DataFrame(cv_results)"
   ]
  },
  {
   "cell_type": "code",
   "execution_count": null,
   "id": "37757f08",
   "metadata": {},
   "outputs": [],
   "source": []
  },
  {
   "cell_type": "markdown",
   "id": "442e973d",
   "metadata": {},
   "source": [
    "### Creating TF-IDF Vectors "
   ]
  },
  {
   "cell_type": "code",
   "execution_count": 22,
   "id": "0b3d5312",
   "metadata": {
    "scrolled": false
   },
   "outputs": [],
   "source": [
    "# Using Tokenizer\n",
    "vectorizer = TfidfVectorizer(max_features=10000)\n",
    "\n",
    "# creating tf-idf vectors for traning data\n",
    "X_train_tf_idf = vectorizer.fit_transform(X_train)\n",
    "# creating tf-idf vectors for testing data\n",
    "X_test_tf_idf = vectorizer.transform(X_test)"
   ]
  },
  {
   "cell_type": "code",
   "execution_count": 23,
   "id": "75c6b80d",
   "metadata": {},
   "outputs": [
    {
     "data": {
      "text/plain": [
       "{'analyzer': 'word',\n",
       " 'binary': False,\n",
       " 'decode_error': 'strict',\n",
       " 'dtype': numpy.float64,\n",
       " 'encoding': 'utf-8',\n",
       " 'input': 'content',\n",
       " 'lowercase': True,\n",
       " 'max_df': 1.0,\n",
       " 'max_features': 10000,\n",
       " 'min_df': 1,\n",
       " 'ngram_range': (1, 1),\n",
       " 'norm': 'l2',\n",
       " 'preprocessor': None,\n",
       " 'smooth_idf': True,\n",
       " 'stop_words': None,\n",
       " 'strip_accents': None,\n",
       " 'sublinear_tf': False,\n",
       " 'token_pattern': '(?u)\\\\b\\\\w\\\\w+\\\\b',\n",
       " 'tokenizer': None,\n",
       " 'use_idf': True,\n",
       " 'vocabulary': None}"
      ]
     },
     "execution_count": 23,
     "metadata": {},
     "output_type": "execute_result"
    }
   ],
   "source": [
    "vectorizer.get_params()"
   ]
  },
  {
   "cell_type": "code",
   "execution_count": 49,
   "id": "42c87f56",
   "metadata": {},
   "outputs": [],
   "source": [
    "tf_idf_results = []\n",
    "tf_idf_results.append(('Classifier','Accurary','Precision', 'Recall','F1-Score'))"
   ]
  },
  {
   "cell_type": "markdown",
   "id": "20fd88fe",
   "metadata": {},
   "source": [
    "### Applying Logistic Regression"
   ]
  },
  {
   "cell_type": "code",
   "execution_count": 50,
   "id": "a8325144",
   "metadata": {},
   "outputs": [
    {
     "name": "stderr",
     "output_type": "stream",
     "text": [
      "c:\\Users\\ritik\\AppData\\Local\\Programs\\Python\\Python310\\lib\\site-packages\\sklearn\\linear_model\\_logistic.py:444: ConvergenceWarning: lbfgs failed to converge (status=1):\n",
      "STOP: TOTAL NO. of ITERATIONS REACHED LIMIT.\n",
      "\n",
      "Increase the number of iterations (max_iter) or scale the data as shown in:\n",
      "    https://scikit-learn.org/stable/modules/preprocessing.html\n",
      "Please also refer to the documentation for alternative solver options:\n",
      "    https://scikit-learn.org/stable/modules/linear_model.html#logistic-regression\n",
      "  n_iter_i = _check_optimize_result(\n"
     ]
    },
    {
     "data": {
      "text/html": [
       "<style>#sk-container-id-5 {color: black;background-color: white;}#sk-container-id-5 pre{padding: 0;}#sk-container-id-5 div.sk-toggleable {background-color: white;}#sk-container-id-5 label.sk-toggleable__label {cursor: pointer;display: block;width: 100%;margin-bottom: 0;padding: 0.3em;box-sizing: border-box;text-align: center;}#sk-container-id-5 label.sk-toggleable__label-arrow:before {content: \"▸\";float: left;margin-right: 0.25em;color: #696969;}#sk-container-id-5 label.sk-toggleable__label-arrow:hover:before {color: black;}#sk-container-id-5 div.sk-estimator:hover label.sk-toggleable__label-arrow:before {color: black;}#sk-container-id-5 div.sk-toggleable__content {max-height: 0;max-width: 0;overflow: hidden;text-align: left;background-color: #f0f8ff;}#sk-container-id-5 div.sk-toggleable__content pre {margin: 0.2em;color: black;border-radius: 0.25em;background-color: #f0f8ff;}#sk-container-id-5 input.sk-toggleable__control:checked~div.sk-toggleable__content {max-height: 200px;max-width: 100%;overflow: auto;}#sk-container-id-5 input.sk-toggleable__control:checked~label.sk-toggleable__label-arrow:before {content: \"▾\";}#sk-container-id-5 div.sk-estimator input.sk-toggleable__control:checked~label.sk-toggleable__label {background-color: #d4ebff;}#sk-container-id-5 div.sk-label input.sk-toggleable__control:checked~label.sk-toggleable__label {background-color: #d4ebff;}#sk-container-id-5 input.sk-hidden--visually {border: 0;clip: rect(1px 1px 1px 1px);clip: rect(1px, 1px, 1px, 1px);height: 1px;margin: -1px;overflow: hidden;padding: 0;position: absolute;width: 1px;}#sk-container-id-5 div.sk-estimator {font-family: monospace;background-color: #f0f8ff;border: 1px dotted black;border-radius: 0.25em;box-sizing: border-box;margin-bottom: 0.5em;}#sk-container-id-5 div.sk-estimator:hover {background-color: #d4ebff;}#sk-container-id-5 div.sk-parallel-item::after {content: \"\";width: 100%;border-bottom: 1px solid gray;flex-grow: 1;}#sk-container-id-5 div.sk-label:hover label.sk-toggleable__label {background-color: #d4ebff;}#sk-container-id-5 div.sk-serial::before {content: \"\";position: absolute;border-left: 1px solid gray;box-sizing: border-box;top: 0;bottom: 0;left: 50%;z-index: 0;}#sk-container-id-5 div.sk-serial {display: flex;flex-direction: column;align-items: center;background-color: white;padding-right: 0.2em;padding-left: 0.2em;position: relative;}#sk-container-id-5 div.sk-item {position: relative;z-index: 1;}#sk-container-id-5 div.sk-parallel {display: flex;align-items: stretch;justify-content: center;background-color: white;position: relative;}#sk-container-id-5 div.sk-item::before, #sk-container-id-5 div.sk-parallel-item::before {content: \"\";position: absolute;border-left: 1px solid gray;box-sizing: border-box;top: 0;bottom: 0;left: 50%;z-index: -1;}#sk-container-id-5 div.sk-parallel-item {display: flex;flex-direction: column;z-index: 1;position: relative;background-color: white;}#sk-container-id-5 div.sk-parallel-item:first-child::after {align-self: flex-end;width: 50%;}#sk-container-id-5 div.sk-parallel-item:last-child::after {align-self: flex-start;width: 50%;}#sk-container-id-5 div.sk-parallel-item:only-child::after {width: 0;}#sk-container-id-5 div.sk-dashed-wrapped {border: 1px dashed gray;margin: 0 0.4em 0.5em 0.4em;box-sizing: border-box;padding-bottom: 0.4em;background-color: white;}#sk-container-id-5 div.sk-label label {font-family: monospace;font-weight: bold;display: inline-block;line-height: 1.2em;}#sk-container-id-5 div.sk-label-container {text-align: center;}#sk-container-id-5 div.sk-container {/* jupyter's `normalize.less` sets `[hidden] { display: none; }` but bootstrap.min.css set `[hidden] { display: none !important; }` so we also need the `!important` here to be able to override the default hidden behavior on the sphinx rendered scikit-learn.org. See: https://github.com/scikit-learn/scikit-learn/issues/21755 */display: inline-block !important;position: relative;}#sk-container-id-5 div.sk-text-repr-fallback {display: none;}</style><div id=\"sk-container-id-5\" class=\"sk-top-container\"><div class=\"sk-text-repr-fallback\"><pre>LogisticRegression()</pre><b>In a Jupyter environment, please rerun this cell to show the HTML representation or trust the notebook. <br />On GitHub, the HTML representation is unable to render, please try loading this page with nbviewer.org.</b></div><div class=\"sk-container\" hidden><div class=\"sk-item\"><div class=\"sk-estimator sk-toggleable\"><input class=\"sk-toggleable__control sk-hidden--visually\" id=\"sk-estimator-id-5\" type=\"checkbox\" checked><label for=\"sk-estimator-id-5\" class=\"sk-toggleable__label sk-toggleable__label-arrow\">LogisticRegression</label><div class=\"sk-toggleable__content\"><pre>LogisticRegression()</pre></div></div></div></div></div>"
      ],
      "text/plain": [
       "LogisticRegression()"
      ]
     },
     "execution_count": 50,
     "metadata": {},
     "output_type": "execute_result"
    }
   ],
   "source": [
    "# Model Building using logistic regression\n",
    "logit = LogisticRegression()\n",
    "logit.fit(X_train_tf_idf, y_train)"
   ]
  },
  {
   "cell_type": "code",
   "execution_count": 51,
   "id": "b13a9223",
   "metadata": {},
   "outputs": [],
   "source": [
    "logit_tf_idf_pred = logit.predict(X_test_tf_idf)"
   ]
  },
  {
   "cell_type": "code",
   "execution_count": 52,
   "id": "5439f166",
   "metadata": {},
   "outputs": [
    {
     "name": "stdout",
     "output_type": "stream",
     "text": [
      "Accuracy of Logistic Regression model is:  0.9603772014317482\n"
     ]
    }
   ],
   "source": [
    "cm = confusion_matrix(y_test, logit_tf_idf_pred)\n",
    "ac = accuracy_score(y_test, logit_tf_idf_pred)\n",
    "# Accuracy of Our Model\n",
    "print(\"Accuracy of Logistic Regression model is: \",ac)"
   ]
  },
  {
   "cell_type": "code",
   "execution_count": 53,
   "id": "e5a89d39",
   "metadata": {},
   "outputs": [
    {
     "data": {
      "text/plain": [
       "<AxesSubplot:>"
      ]
     },
     "execution_count": 53,
     "metadata": {},
     "output_type": "execute_result"
    },
    {
     "data": {
      "image/png": "[encoded data removed]",
      "text/plain": [
       "<Figure size 432x288 with 1 Axes>"
      ]
     },
     "metadata": {
      "needs_background": "light"
     },
     "output_type": "display_data"
    }
   ],
   "source": [
    "# print confusion matrix\n",
    "sn.heatmap(cm, square=True, annot=True, cmap='Blues', fmt='d', cbar=False)"
   ]
  },
  {
   "cell_type": "code",
   "execution_count": 54,
   "id": "3e38349b",
   "metadata": {
    "scrolled": true
   },
   "outputs": [
    {
     "name": "stdout",
     "output_type": "stream",
     "text": [
      "              precision    recall  f1-score   support\n",
      "\n",
      "           0       0.96      0.99      0.98     68964\n",
      "           1       0.96      0.81      0.88     15129\n",
      "\n",
      "    accuracy                           0.96     84093\n",
      "   macro avg       0.96      0.90      0.93     84093\n",
      "weighted avg       0.96      0.96      0.96     84093\n",
      "\n"
     ]
    }
   ],
   "source": [
    "print(classification_report(y_test, logit_tf_idf_pred))"
   ]
  },
  {
   "cell_type": "code",
   "execution_count": 55,
   "id": "14b7672b",
   "metadata": {},
   "outputs": [],
   "source": [
    "tf_idf_results.append((\"LogR \", accuracy_score(y_test,  logit_tf_idf_pred)*100,\n",
    "                precision_score(y_test,  logit_tf_idf_pred)*100,\n",
    "                recall_score(y_test,  logit_tf_idf_pred)*100,\n",
    "                f1_score(y_test,  logit_tf_idf_pred)*100 ))\n"
   ]
  },
  {
   "cell_type": "markdown",
   "id": "75be9c7e",
   "metadata": {},
   "source": [
    "### Applying Naive Bayes"
   ]
  },
  {
   "cell_type": "code",
   "execution_count": 56,
   "id": "3a75c1ea",
   "metadata": {},
   "outputs": [
    {
     "data": {
      "text/html": [
       "<style>#sk-container-id-6 {color: black;background-color: white;}#sk-container-id-6 pre{padding: 0;}#sk-container-id-6 div.sk-toggleable {background-color: white;}#sk-container-id-6 label.sk-toggleable__label {cursor: pointer;display: block;width: 100%;margin-bottom: 0;padding: 0.3em;box-sizing: border-box;text-align: center;}#sk-container-id-6 label.sk-toggleable__label-arrow:before {content: \"▸\";float: left;margin-right: 0.25em;color: #696969;}#sk-container-id-6 label.sk-toggleable__label-arrow:hover:before {color: black;}#sk-container-id-6 div.sk-estimator:hover label.sk-toggleable__label-arrow:before {color: black;}#sk-container-id-6 div.sk-toggleable__content {max-height: 0;max-width: 0;overflow: hidden;text-align: left;background-color: #f0f8ff;}#sk-container-id-6 div.sk-toggleable__content pre {margin: 0.2em;color: black;border-radius: 0.25em;background-color: #f0f8ff;}#sk-container-id-6 input.sk-toggleable__control:checked~div.sk-toggleable__content {max-height: 200px;max-width: 100%;overflow: auto;}#sk-container-id-6 input.sk-toggleable__control:checked~label.sk-toggleable__label-arrow:before {content: \"▾\";}#sk-container-id-6 div.sk-estimator input.sk-toggleable__control:checked~label.sk-toggleable__label {background-color: #d4ebff;}#sk-container-id-6 div.sk-label input.sk-toggleable__control:checked~label.sk-toggleable__label {background-color: #d4ebff;}#sk-container-id-6 input.sk-hidden--visually {border: 0;clip: rect(1px 1px 1px 1px);clip: rect(1px, 1px, 1px, 1px);height: 1px;margin: -1px;overflow: hidden;padding: 0;position: absolute;width: 1px;}#sk-container-id-6 div.sk-estimator {font-family: monospace;background-color: #f0f8ff;border: 1px dotted black;border-radius: 0.25em;box-sizing: border-box;margin-bottom: 0.5em;}#sk-container-id-6 div.sk-estimator:hover {background-color: #d4ebff;}#sk-container-id-6 div.sk-parallel-item::after {content: \"\";width: 100%;border-bottom: 1px solid gray;flex-grow: 1;}#sk-container-id-6 div.sk-label:hover label.sk-toggleable__label {background-color: #d4ebff;}#sk-container-id-6 div.sk-serial::before {content: \"\";position: absolute;border-left: 1px solid gray;box-sizing: border-box;top: 0;bottom: 0;left: 50%;z-index: 0;}#sk-container-id-6 div.sk-serial {display: flex;flex-direction: column;align-items: center;background-color: white;padding-right: 0.2em;padding-left: 0.2em;position: relative;}#sk-container-id-6 div.sk-item {position: relative;z-index: 1;}#sk-container-id-6 div.sk-parallel {display: flex;align-items: stretch;justify-content: center;background-color: white;position: relative;}#sk-container-id-6 div.sk-item::before, #sk-container-id-6 div.sk-parallel-item::before {content: \"\";position: absolute;border-left: 1px solid gray;box-sizing: border-box;top: 0;bottom: 0;left: 50%;z-index: -1;}#sk-container-id-6 div.sk-parallel-item {display: flex;flex-direction: column;z-index: 1;position: relative;background-color: white;}#sk-container-id-6 div.sk-parallel-item:first-child::after {align-self: flex-end;width: 50%;}#sk-container-id-6 div.sk-parallel-item:last-child::after {align-self: flex-start;width: 50%;}#sk-container-id-6 div.sk-parallel-item:only-child::after {width: 0;}#sk-container-id-6 div.sk-dashed-wrapped {border: 1px dashed gray;margin: 0 0.4em 0.5em 0.4em;box-sizing: border-box;padding-bottom: 0.4em;background-color: white;}#sk-container-id-6 div.sk-label label {font-family: monospace;font-weight: bold;display: inline-block;line-height: 1.2em;}#sk-container-id-6 div.sk-label-container {text-align: center;}#sk-container-id-6 div.sk-container {/* jupyter's `normalize.less` sets `[hidden] { display: none; }` but bootstrap.min.css set `[hidden] { display: none !important; }` so we also need the `!important` here to be able to override the default hidden behavior on the sphinx rendered scikit-learn.org. See: https://github.com/scikit-learn/scikit-learn/issues/21755 */display: inline-block !important;position: relative;}#sk-container-id-6 div.sk-text-repr-fallback {display: none;}</style><div id=\"sk-container-id-6\" class=\"sk-top-container\"><div class=\"sk-text-repr-fallback\"><pre>MultinomialNB()</pre><b>In a Jupyter environment, please rerun this cell to show the HTML representation or trust the notebook. <br />On GitHub, the HTML representation is unable to render, please try loading this page with nbviewer.org.</b></div><div class=\"sk-container\" hidden><div class=\"sk-item\"><div class=\"sk-estimator sk-toggleable\"><input class=\"sk-toggleable__control sk-hidden--visually\" id=\"sk-estimator-id-6\" type=\"checkbox\" checked><label for=\"sk-estimator-id-6\" class=\"sk-toggleable__label sk-toggleable__label-arrow\">MultinomialNB</label><div class=\"sk-toggleable__content\"><pre>MultinomialNB()</pre></div></div></div></div></div>"
      ],
      "text/plain": [
       "MultinomialNB()"
      ]
     },
     "execution_count": 56,
     "metadata": {},
     "output_type": "execute_result"
    }
   ],
   "source": [
    "from sklearn.naive_bayes import MultinomialNB\n",
    "mnb = MultinomialNB()\n",
    "mnb.fit(X_train_tf_idf, y_train)"
   ]
  },
  {
   "cell_type": "code",
   "execution_count": 57,
   "id": "5c40665e",
   "metadata": {},
   "outputs": [],
   "source": [
    "mnb_tf_idf_pred = mnb.predict(X_test_tf_idf)"
   ]
  },
  {
   "cell_type": "code",
   "execution_count": 58,
   "id": "fb04a016",
   "metadata": {},
   "outputs": [
    {
     "name": "stdout",
     "output_type": "stream",
     "text": [
      "Accuracy of SVM model is:  0.9566670234145529\n"
     ]
    }
   ],
   "source": [
    "cm = confusion_matrix(y_test, mnb_tf_idf_pred)\n",
    "ac = accuracy_score(y_test, mnb_tf_idf_pred)\n",
    "# Accuracy of Our Model\n",
    "print(\"Accuracy of SVM model is: \",ac)"
   ]
  },
  {
   "cell_type": "code",
   "execution_count": 59,
   "id": "c2dd687a",
   "metadata": {},
   "outputs": [
    {
     "data": {
      "text/plain": [
       "<AxesSubplot:>"
      ]
     },
     "execution_count": 59,
     "metadata": {},
     "output_type": "execute_result"
    },
    {
     "data": {
      "image/png": "[encoded data removed]",
      "text/plain": [
       "<Figure size 432x288 with 1 Axes>"
      ]
     },
     "metadata": {
      "needs_background": "light"
     },
     "output_type": "display_data"
    }
   ],
   "source": [
    "# print confusion matrix\n",
    "sn.heatmap(cm, square=True, annot=True, cmap='Blues', fmt='d', cbar=False)"
   ]
  },
  {
   "cell_type": "code",
   "execution_count": 60,
   "id": "4da398c5",
   "metadata": {},
   "outputs": [
    {
     "name": "stdout",
     "output_type": "stream",
     "text": [
      "              precision    recall  f1-score   support\n",
      "\n",
      "           0       0.96      0.99      0.97     68964\n",
      "           1       0.96      0.80      0.87     15129\n",
      "\n",
      "    accuracy                           0.96     84093\n",
      "   macro avg       0.96      0.89      0.92     84093\n",
      "weighted avg       0.96      0.96      0.96     84093\n",
      "\n"
     ]
    }
   ],
   "source": [
    "print(classification_report(y_test, mnb_tf_idf_pred))"
   ]
  },
  {
   "cell_type": "code",
   "execution_count": 61,
   "id": "1a5ed919",
   "metadata": {},
   "outputs": [],
   "source": [
    "tf_idf_results.append((\"MNB \", accuracy_score(y_test,  mnb_tf_idf_pred)*100,\n",
    "                precision_score(y_test,  mnb_tf_idf_pred)*100,\n",
    "                recall_score(y_test,  mnb_tf_idf_pred)*100,\n",
    "                f1_score(y_test,  mnb_tf_idf_pred)*100 ))\n"
   ]
  },
  {
   "cell_type": "markdown",
   "id": "0380cd27",
   "metadata": {},
   "source": [
    "### Applying Decision Tree"
   ]
  },
  {
   "cell_type": "code",
   "execution_count": 62,
   "id": "40360d0c",
   "metadata": {},
   "outputs": [
    {
     "data": {
      "text/html": [
       "<style>#sk-container-id-7 {color: black;background-color: white;}#sk-container-id-7 pre{padding: 0;}#sk-container-id-7 div.sk-toggleable {background-color: white;}#sk-container-id-7 label.sk-toggleable__label {cursor: pointer;display: block;width: 100%;margin-bottom: 0;padding: 0.3em;box-sizing: border-box;text-align: center;}#sk-container-id-7 label.sk-toggleable__label-arrow:before {content: \"▸\";float: left;margin-right: 0.25em;color: #696969;}#sk-container-id-7 label.sk-toggleable__label-arrow:hover:before {color: black;}#sk-container-id-7 div.sk-estimator:hover label.sk-toggleable__label-arrow:before {color: black;}#sk-container-id-7 div.sk-toggleable__content {max-height: 0;max-width: 0;overflow: hidden;text-align: left;background-color: #f0f8ff;}#sk-container-id-7 div.sk-toggleable__content pre {margin: 0.2em;color: black;border-radius: 0.25em;background-color: #f0f8ff;}#sk-container-id-7 input.sk-toggleable__control:checked~div.sk-toggleable__content {max-height: 200px;max-width: 100%;overflow: auto;}#sk-container-id-7 input.sk-toggleable__control:checked~label.sk-toggleable__label-arrow:before {content: \"▾\";}#sk-container-id-7 div.sk-estimator input.sk-toggleable__control:checked~label.sk-toggleable__label {background-color: #d4ebff;}#sk-container-id-7 div.sk-label input.sk-toggleable__control:checked~label.sk-toggleable__label {background-color: #d4ebff;}#sk-container-id-7 input.sk-hidden--visually {border: 0;clip: rect(1px 1px 1px 1px);clip: rect(1px, 1px, 1px, 1px);height: 1px;margin: -1px;overflow: hidden;padding: 0;position: absolute;width: 1px;}#sk-container-id-7 div.sk-estimator {font-family: monospace;background-color: #f0f8ff;border: 1px dotted black;border-radius: 0.25em;box-sizing: border-box;margin-bottom: 0.5em;}#sk-container-id-7 div.sk-estimator:hover {background-color: #d4ebff;}#sk-container-id-7 div.sk-parallel-item::after {content: \"\";width: 100%;border-bottom: 1px solid gray;flex-grow: 1;}#sk-container-id-7 div.sk-label:hover label.sk-toggleable__label {background-color: #d4ebff;}#sk-container-id-7 div.sk-serial::before {content: \"\";position: absolute;border-left: 1px solid gray;box-sizing: border-box;top: 0;bottom: 0;left: 50%;z-index: 0;}#sk-container-id-7 div.sk-serial {display: flex;flex-direction: column;align-items: center;background-color: white;padding-right: 0.2em;padding-left: 0.2em;position: relative;}#sk-container-id-7 div.sk-item {position: relative;z-index: 1;}#sk-container-id-7 div.sk-parallel {display: flex;align-items: stretch;justify-content: center;background-color: white;position: relative;}#sk-container-id-7 div.sk-item::before, #sk-container-id-7 div.sk-parallel-item::before {content: \"\";position: absolute;border-left: 1px solid gray;box-sizing: border-box;top: 0;bottom: 0;left: 50%;z-index: -1;}#sk-container-id-7 div.sk-parallel-item {display: flex;flex-direction: column;z-index: 1;position: relative;background-color: white;}#sk-container-id-7 div.sk-parallel-item:first-child::after {align-self: flex-end;width: 50%;}#sk-container-id-7 div.sk-parallel-item:last-child::after {align-self: flex-start;width: 50%;}#sk-container-id-7 div.sk-parallel-item:only-child::after {width: 0;}#sk-container-id-7 div.sk-dashed-wrapped {border: 1px dashed gray;margin: 0 0.4em 0.5em 0.4em;box-sizing: border-box;padding-bottom: 0.4em;background-color: white;}#sk-container-id-7 div.sk-label label {font-family: monospace;font-weight: bold;display: inline-block;line-height: 1.2em;}#sk-container-id-7 div.sk-label-container {text-align: center;}#sk-container-id-7 div.sk-container {/* jupyter's `normalize.less` sets `[hidden] { display: none; }` but bootstrap.min.css set `[hidden] { display: none !important; }` so we also need the `!important` here to be able to override the default hidden behavior on the sphinx rendered scikit-learn.org. See: https://github.com/scikit-learn/scikit-learn/issues/21755 */display: inline-block !important;position: relative;}#sk-container-id-7 div.sk-text-repr-fallback {display: none;}</style><div id=\"sk-container-id-7\" class=\"sk-top-container\"><div class=\"sk-text-repr-fallback\"><pre>DecisionTreeClassifier(criterion=&#x27;entropy&#x27;)</pre><b>In a Jupyter environment, please rerun this cell to show the HTML representation or trust the notebook. <br />On GitHub, the HTML representation is unable to render, please try loading this page with nbviewer.org.</b></div><div class=\"sk-container\" hidden><div class=\"sk-item\"><div class=\"sk-estimator sk-toggleable\"><input class=\"sk-toggleable__control sk-hidden--visually\" id=\"sk-estimator-id-7\" type=\"checkbox\" checked><label for=\"sk-estimator-id-7\" class=\"sk-toggleable__label sk-toggleable__label-arrow\">DecisionTreeClassifier</label><div class=\"sk-toggleable__content\"><pre>DecisionTreeClassifier(criterion=&#x27;entropy&#x27;)</pre></div></div></div></div></div>"
      ],
      "text/plain": [
       "DecisionTreeClassifier(criterion='entropy')"
      ]
     },
     "execution_count": 62,
     "metadata": {},
     "output_type": "execute_result"
    }
   ],
   "source": [
    "from sklearn.tree import DecisionTreeClassifier\n",
    "dtc = DecisionTreeClassifier(criterion='entropy')\n",
    "dtc.fit(X_train_tf_idf, y_train)"
   ]
  },
  {
   "cell_type": "code",
   "execution_count": 63,
   "id": "b8e72515",
   "metadata": {},
   "outputs": [],
   "source": [
    "dt_tf_idf_pred = dtc.predict(X_test_tf_idf)"
   ]
  },
  {
   "cell_type": "code",
   "execution_count": 64,
   "id": "bc4f9585",
   "metadata": {},
   "outputs": [
    {
     "name": "stdout",
     "output_type": "stream",
     "text": [
      "Accuracy of SVM model is:  0.9571545788591203\n"
     ]
    }
   ],
   "source": [
    "cm = confusion_matrix(y_test, dt_tf_idf_pred)\n",
    "ac = accuracy_score(y_test, dt_tf_idf_pred)\n",
    "# Accuracy of Our Model\n",
    "print(\"Accuracy of SVM model is: \",ac)"
   ]
  },
  {
   "cell_type": "code",
   "execution_count": 65,
   "id": "34efac1d",
   "metadata": {},
   "outputs": [
    {
     "data": {
      "text/plain": [
       "<AxesSubplot:>"
      ]
     },
     "execution_count": 65,
     "metadata": {},
     "output_type": "execute_result"
    },
    {
     "data": {
      "image/png": "[encoded data removed]",
      "text/plain": [
       "<Figure size 432x288 with 1 Axes>"
      ]
     },
     "metadata": {
      "needs_background": "light"
     },
     "output_type": "display_data"
    }
   ],
   "source": [
    "# print confusion matrix\n",
    "sn.heatmap(cm, square=True, annot=True, cmap='Blues', fmt='d', cbar=False)"
   ]
  },
  {
   "cell_type": "code",
   "execution_count": 66,
   "id": "601e3235",
   "metadata": {
    "scrolled": true
   },
   "outputs": [
    {
     "name": "stdout",
     "output_type": "stream",
     "text": [
      "              precision    recall  f1-score   support\n",
      "\n",
      "           0       0.96      0.99      0.97     68964\n",
      "           1       0.93      0.82      0.87     15129\n",
      "\n",
      "    accuracy                           0.96     84093\n",
      "   macro avg       0.95      0.90      0.92     84093\n",
      "weighted avg       0.96      0.96      0.96     84093\n",
      "\n"
     ]
    }
   ],
   "source": [
    "print(classification_report(y_test, dt_tf_idf_pred))"
   ]
  },
  {
   "cell_type": "code",
   "execution_count": 67,
   "id": "1d6c98f3",
   "metadata": {},
   "outputs": [],
   "source": [
    "tf_idf_results.append((\"DT \", accuracy_score(y_test,  dt_tf_idf_pred)*100,\n",
    "                precision_score(y_test,  dt_tf_idf_pred)*100,\n",
    "                recall_score(y_test,  dt_tf_idf_pred)*100,\n",
    "                f1_score(y_test,  dt_tf_idf_pred)*100 ))\n"
   ]
  },
  {
   "cell_type": "code",
   "execution_count": 68,
   "id": "070fb755",
   "metadata": {},
   "outputs": [
    {
     "data": {
      "text/html": [
       "<div>\n",
       "<style scoped>\n",
       "    .dataframe tbody tr th:only-of-type {\n",
       "        vertical-align: middle;\n",
       "    }\n",
       "\n",
       "    .dataframe tbody tr th {\n",
       "        vertical-align: top;\n",
       "    }\n",
       "\n",
       "    .dataframe thead th {\n",
       "        text-align: right;\n",
       "    }\n",
       "</style>\n",
       "<table border=\"1\" class=\"dataframe\">\n",
       "  <thead>\n",
       "    <tr style=\"text-align: right;\">\n",
       "      <th></th>\n",
       "      <th>0</th>\n",
       "      <th>1</th>\n",
       "      <th>2</th>\n",
       "      <th>3</th>\n",
       "      <th>4</th>\n",
       "    </tr>\n",
       "  </thead>\n",
       "  <tbody>\n",
       "    <tr>\n",
       "      <th>0</th>\n",
       "      <td>Classifier</td>\n",
       "      <td>Accurary</td>\n",
       "      <td>Precision</td>\n",
       "      <td>Recall</td>\n",
       "      <td>F1-Score</td>\n",
       "    </tr>\n",
       "    <tr>\n",
       "      <th>1</th>\n",
       "      <td>LogR</td>\n",
       "      <td>96.03772</td>\n",
       "      <td>95.956369</td>\n",
       "      <td>81.40657</td>\n",
       "      <td>88.08468</td>\n",
       "    </tr>\n",
       "    <tr>\n",
       "      <th>2</th>\n",
       "      <td>MNB</td>\n",
       "      <td>95.666702</td>\n",
       "      <td>95.557319</td>\n",
       "      <td>79.615308</td>\n",
       "      <td>86.860893</td>\n",
       "    </tr>\n",
       "    <tr>\n",
       "      <th>3</th>\n",
       "      <td>DT</td>\n",
       "      <td>95.715458</td>\n",
       "      <td>93.369958</td>\n",
       "      <td>82.008064</td>\n",
       "      <td>87.32097</td>\n",
       "    </tr>\n",
       "  </tbody>\n",
       "</table>\n",
       "</div>"
      ],
      "text/plain": [
       "            0          1          2          3          4\n",
       "0  Classifier   Accurary  Precision     Recall   F1-Score\n",
       "1       LogR    96.03772  95.956369   81.40657   88.08468\n",
       "2        MNB   95.666702  95.557319  79.615308  86.860893\n",
       "3         DT   95.715458  93.369958  82.008064   87.32097"
      ]
     },
     "execution_count": 68,
     "metadata": {},
     "output_type": "execute_result"
    }
   ],
   "source": [
    "pd.DataFrame(tf_idf_results)"
   ]
  },
  {
   "cell_type": "code",
   "execution_count": null,
   "id": "d79dbc96",
   "metadata": {},
   "outputs": [],
   "source": []
  },
  {
   "cell_type": "markdown",
   "id": "304206d7",
   "metadata": {},
   "source": [
    "### Visulaize Results"
   ]
  },
  {
   "cell_type": "markdown",
   "id": "6144a71c",
   "metadata": {},
   "source": [
    "#### CountVectorizer"
   ]
  },
  {
   "cell_type": "code",
   "execution_count": 69,
   "id": "b4361813",
   "metadata": {},
   "outputs": [
    {
     "data": {
      "image/png": "[encoded data removed]",
      "text/plain": [
       "<Figure size 864x504 with 1 Axes>"
      ]
     },
     "metadata": {
      "needs_background": "light"
     },
     "output_type": "display_data"
    }
   ],
   "source": [
    "plt.figure(figsize=(12,7))\n",
    "X_axis = np.arange(len(cv_results)-1)\n",
    "models_name = [x[0] for x in cv_results[1:]]\n",
    "\n",
    "accuracy_list = [x[1] for x in cv_results[1:]]\n",
    "precision_list = [x[2] for x in cv_results[1:]]\n",
    "recall_list = [x[3] for x in cv_results[1:]]\n",
    "f1_list = [x[4] for x in cv_results[1:]]\n",
    "\n",
    "\n",
    "p1 = plt.bar(X_axis - 0.3, accuracy_list, 0.2, label = 'Accuracy')\n",
    "for rect in p1:\n",
    "    height = rect.get_height()\n",
    "    plt.annotate( \"{:.2f}%\".format(height),(rect.get_x() + rect.get_width()/2, 1),ha=\"center\",va=\"bottom\",fontsize=10, color='white')\n",
    "    \n",
    "p2 = plt.bar(X_axis - 0.1, precision_list, 0.2, label = 'Precision')\n",
    "for rect in p2:\n",
    "    height = rect.get_height()\n",
    "    plt.annotate( \"{:.2f}%\".format(height),(rect.get_x() + rect.get_width()/2, 1),ha=\"center\",va=\"bottom\",fontsize=10, color='white')\n",
    "    \n",
    "p3 = plt.bar(X_axis + 0.1, recall_list, 0.2, label = 'Recall')\n",
    "for rect in p3:\n",
    "    height = rect.get_height()\n",
    "    plt.annotate( \"{:.2f}%\".format(height),(rect.get_x() + rect.get_width()/2, 1),ha=\"center\",va=\"bottom\",fontsize=10, color='white')\n",
    "    \n",
    "p4 = plt.bar(X_axis + 0.3, f1_list, 0.2, label = 'F1-Score')\n",
    "for rect in p4:\n",
    "    height = rect.get_height()\n",
    "    plt.annotate( \"{:.2f}%\".format(height),(rect.get_x() + rect.get_width()/2, 1),ha=\"center\",va=\"bottom\",fontsize=10, color='white')\n",
    "\n",
    "\n",
    "plt.xticks(X_axis, models_name)\n",
    "plt.xlabel(\"Classification Model\")\n",
    "plt.ylabel(\"Score\")\n",
    "plt.title(\"Performance of classification models\")\n",
    "plt.legend(loc='upper right')\n",
    "plt.show()"
   ]
  },
  {
   "cell_type": "markdown",
   "id": "81d94a19",
   "metadata": {},
   "source": [
    "#### TFIDF Vectorizer"
   ]
  },
  {
   "cell_type": "code",
   "execution_count": 70,
   "id": "2c46a954",
   "metadata": {},
   "outputs": [
    {
     "data": {
      "image/png": "[encoded data removed]",
      "text/plain": [
       "<Figure size 864x504 with 1 Axes>"
      ]
     },
     "metadata": {
      "needs_background": "light"
     },
     "output_type": "display_data"
    }
   ],
   "source": [
    "plt.figure(figsize=(12,7))\n",
    "X_axis = np.arange(len(tf_idf_results)-1)\n",
    "models_name = [x[0] for x in tf_idf_results[1:]]\n",
    "\n",
    "accuracy_list = [x[1] for x in tf_idf_results[1:]]\n",
    "precision_list = [x[2] for x in tf_idf_results[1:]]\n",
    "recall_list = [x[3] for x in tf_idf_results[1:]]\n",
    "f1_list = [x[4] for x in tf_idf_results[1:]]\n",
    "\n",
    "\n",
    "p1 = plt.bar(X_axis - 0.3, accuracy_list, 0.2, label = 'Accuracy')\n",
    "for rect in p1:\n",
    "    height = rect.get_height()\n",
    "    plt.annotate( \"{:.2f}%\".format(height),(rect.get_x() + rect.get_width()/2, 1),ha=\"center\",va=\"bottom\",fontsize=10, color='white')\n",
    "    \n",
    "p2 = plt.bar(X_axis - 0.1, precision_list, 0.2, label = 'Precision')\n",
    "for rect in p2:\n",
    "    height = rect.get_height()\n",
    "    plt.annotate( \"{:.2f}%\".format(height),(rect.get_x() + rect.get_width()/2, 1),ha=\"center\",va=\"bottom\",fontsize=10, color='white')\n",
    "    \n",
    "p3 = plt.bar(X_axis + 0.1, recall_list, 0.2, label = 'Recall')\n",
    "for rect in p3:\n",
    "    height = rect.get_height()\n",
    "    plt.annotate( \"{:.2f}%\".format(height),(rect.get_x() + rect.get_width()/2, 1),ha=\"center\",va=\"bottom\",fontsize=10, color='white')\n",
    "    \n",
    "p4 = plt.bar(X_axis + 0.3, f1_list, 0.2, label = 'F1-Score')\n",
    "for rect in p4:\n",
    "    height = rect.get_height()\n",
    "    plt.annotate( \"{:.2f}%\".format(height),(rect.get_x() + rect.get_width()/2, 1),ha=\"center\",va=\"bottom\",fontsize=10, color='white')\n",
    "\n",
    "\n",
    "plt.xticks(X_axis, models_name)\n",
    "plt.xlabel(\"Classification Model\")\n",
    "plt.ylabel(\"Score\")\n",
    "plt.title(\"Performance of classification models\")\n",
    "plt.legend(loc='upper right')\n",
    "plt.show()"
   ]
  },
  {
   "cell_type": "code",
   "execution_count": null,
   "id": "b57aa99a",
   "metadata": {},
   "outputs": [],
   "source": []
  },
  {
   "cell_type": "code",
   "execution_count": null,
   "id": "9244dfa4",
   "metadata": {},
   "outputs": [],
   "source": []
  },
  {
   "cell_type": "markdown",
   "id": "5c10e84d",
   "metadata": {},
   "source": [
    "### Extacting Domain level features"
   ]
  },
  {
   "cell_type": "code",
   "execution_count": 68,
   "id": "921b386a",
   "metadata": {},
   "outputs": [],
   "source": [
    "from tqdm import tqdm\n",
    "import datetime\n",
    "from tld import get_tld"
   ]
  },
  {
   "cell_type": "code",
   "execution_count": 60,
   "id": "1dbcde16",
   "metadata": {},
   "outputs": [],
   "source": [
    "w = whois.whois('tryjaar.com')"
   ]
  },
  {
   "cell_type": "code",
   "execution_count": 61,
   "id": "c1ca8bf1",
   "metadata": {},
   "outputs": [],
   "source": [
    "def extract_domain_features(data):\n",
    "    today = datetime.datetime.now()\n",
    "    domain_features = {\"website_age\" : [],\n",
    "                    \"website_last_updated_dur\" : [],\n",
    "                    \"expiry_date\" : [],\n",
    "                    \"country\" :[],\n",
    "                    \"state\" : [],\n",
    "                    \"tld\":[ ]}  \n",
    "    \n",
    "    for url in tqdm(data):\n",
    "        # get whois info\n",
    "        try:\n",
    "            whois_info = whois.whois(url)\n",
    "            domain_features[\"website_age\"].append((today - min(whois_info[\"creation_date\"])).days) \n",
    "            domain_features[\"website_last_updated_dur\"].append((today - max(whois_info[\"updated_date\"])).days)\n",
    "            domain_features[\"expiry_date\"].append((min(whois_info[\"expiration_date\"])-today).days)\n",
    "            domain_features[\"country\"].append(whois_info[\"country\"])\n",
    "            domain_features[\"state\"].append(whois_info[\"state\"])\n",
    "            # get top level domain\n",
    "            try:\n",
    "                domain_tld = get_tld(url, fix_protocol=True)\n",
    "            except:\n",
    "                domain_tld = None\n",
    "            print(domain_tld)\n",
    "            domain_features[\"tld\"].append(domain_tld)\n",
    "            \n",
    "        except:\n",
    "            domain_features[\"website_age\"].append(None) \n",
    "            domain_features[\"website_last_updated_dur\"].append(None)\n",
    "            domain_features[\"expiry_date\"].append(None)\n",
    "            domain_features[\"country\"].append(None)\n",
    "            domain_features[\"state\"].append(None)\n",
    "            domain_features[\"tld\"].append(None)\n",
    "            \n",
    "    return domain_features"
   ]
  },
  {
   "cell_type": "code",
   "execution_count": 62,
   "id": "2d565fcf",
   "metadata": {},
   "outputs": [
    {
     "name": "stderr",
     "output_type": "stream",
     "text": [
      " 10%|████████▎                                                                          | 1/10 [00:01<00:09,  1.08s/it]"
     ]
    },
    {
     "name": "stdout",
     "output_type": "stream",
     "text": [
      "com\n"
     ]
    },
    {
     "name": "stderr",
     "output_type": "stream",
     "text": [
      " 30%|████████████████████████▉                                                          | 3/10 [00:02<00:05,  1.22it/s]"
     ]
    },
    {
     "name": "stdout",
     "output_type": "stream",
     "text": [
      "com\n"
     ]
    },
    {
     "name": "stderr",
     "output_type": "stream",
     "text": [
      " 50%|█████████████████████████████████████████▌                                         | 5/10 [00:06<00:06,  1.36s/it]"
     ]
    },
    {
     "name": "stdout",
     "output_type": "stream",
     "text": [
      "net\n"
     ]
    },
    {
     "name": "stderr",
     "output_type": "stream",
     "text": [
      "100%|██████████████████████████████████████████████████████████████████████████████████| 10/10 [00:20<00:00,  2.03s/it]\n"
     ]
    }
   ],
   "source": [
    "s = extract_domain_features(list(data[\"url\"])[:10])"
   ]
  },
  {
   "cell_type": "code",
   "execution_count": 102,
   "id": "040b5257",
   "metadata": {},
   "outputs": [
    {
     "data": {
      "text/plain": [
       "{'website_age': [5718,\n",
       "  None,\n",
       "  5718,\n",
       "  6163,\n",
       "  None,\n",
       "  6787,\n",
       "  None,\n",
       "  None,\n",
       "  None,\n",
       "  None,\n",
       "  None],\n",
       " 'website_last_updated_dur': [14,\n",
       "  None,\n",
       "  14,\n",
       "  None,\n",
       "  16,\n",
       "  None,\n",
       "  None,\n",
       "  None,\n",
       "  None,\n",
       "  None],\n",
       " 'expiry_date': [125, None, 125, None, 152, None, None, None, None, None],\n",
       " 'country': ['US', None, 'US', None, 'US', None, None, None, None, None],\n",
       " 'state': ['Arizona',\n",
       "  None,\n",
       "  'Arizona',\n",
       "  None,\n",
       "  'Arizona',\n",
       "  None,\n",
       "  None,\n",
       "  None,\n",
       "  None,\n",
       "  None],\n",
       " 'tld': ['com', None, 'com', None, 'net', None, None, None, None, None]}"
      ]
     },
     "execution_count": 102,
     "metadata": {},
     "output_type": "execute_result"
    }
   ],
   "source": [
    "s"
   ]
  },
  {
   "cell_type": "code",
   "execution_count": 84,
   "id": "bb99d69a",
   "metadata": {
    "scrolled": true
   },
   "outputs": [
    {
     "data": {
      "text/plain": [
       "'co.uk'"
      ]
     },
     "execution_count": 84,
     "metadata": {},
     "output_type": "execute_result"
    }
   ],
   "source": [
    "get_tld(\"http://google.co.uk\")"
   ]
  },
  {
   "cell_type": "code",
   "execution_count": 51,
   "id": "3018d751",
   "metadata": {},
   "outputs": [
    {
     "data": {
      "text/plain": [
       "{'domain_name': ['TRYJAAR.COM', 'tryjaar.com'],\n",
       " 'registrar': 'REALTIME REGISTER B.V.',\n",
       " 'whois_server': 'whois.yoursrs.com',\n",
       " 'referral_url': None,\n",
       " 'updated_date': [datetime.datetime(2022, 8, 9, 19, 55, 40),\n",
       "  datetime.datetime(2022, 8, 29, 8, 41, 35)],\n",
       " 'creation_date': datetime.datetime(2022, 8, 9, 19, 54, 22),\n",
       " 'expiration_date': datetime.datetime(2023, 8, 9, 19, 54, 22),\n",
       " 'name_servers': ['NS1.DNS-PARKING.COM',\n",
       "  'NS2.DNS-PARKING.COM',\n",
       "  'ns1.dns-parking.com',\n",
       "  'ns2.dns-parking.com'],\n",
       " 'status': ['clientTransferProhibited https://icann.org/epp#clientTransferProhibited',\n",
       "  'ok http://www.icann.org/epp#ok',\n",
       "  'clientTransferProhibited http://www.icann.org/epp#clientTransferProhibited'],\n",
       " 'emails': ['rtr-security-threats@realtimeregister.com',\n",
       "  'abuse@hostinger.com'],\n",
       " 'dnssec': ['unsigned', 'not'],\n",
       " 'name': 'REDACTED FOR PRIVACY',\n",
       " 'org': 'REDACTED FOR PRIVACY',\n",
       " 'address': 'REDACTED FOR PRIVACY',\n",
       " 'city': 'REDACTED FOR PRIVACY',\n",
       " 'state': 'Rajasthan',\n",
       " 'registrant_postal_code': 'REDACTED FOR PRIVACY',\n",
       " 'country': 'IN'}"
      ]
     },
     "execution_count": 51,
     "metadata": {},
     "output_type": "execute_result"
    }
   ],
   "source": [
    "w"
   ]
  },
  {
   "cell_type": "code",
   "execution_count": 69,
   "id": "9d2484bc",
   "metadata": {},
   "outputs": [
    {
     "data": {
      "text/plain": [
       "datetime.datetime(2022, 8, 29, 8, 41, 35)"
      ]
     },
     "execution_count": 69,
     "metadata": {},
     "output_type": "execute_result"
    }
   ],
   "source": [
    "max(w[\"updated_date\"])"
   ]
  },
  {
   "cell_type": "code",
   "execution_count": 65,
   "id": "858ce3ec",
   "metadata": {
    "scrolled": true
   },
   "outputs": [
    {
     "data": {
      "text/plain": [
       "39"
      ]
     },
     "execution_count": 65,
     "metadata": {},
     "output_type": "execute_result"
    }
   ],
   "source": [
    "(today - w[\"creation_date\"]).days"
   ]
  },
  {
   "cell_type": "code",
   "execution_count": 43,
   "id": "4cc04b5b",
   "metadata": {},
   "outputs": [
    {
     "data": {
      "text/plain": [
       "['diaryofagameaddict.com',\n",
       " 'espdesign.com.au',\n",
       " 'iamagameaddict.com',\n",
       " 'kalantzis.net',\n",
       " 'slightlyoffcenter.net',\n",
       " 'toddscarwash.com',\n",
       " 'tubemoviez.com',\n",
       " 'ipl.hk',\n",
       " 'crackspider.us/toolbar/install.php?pack=exe',\n",
       " 'pos-kupang.com/']"
      ]
     },
     "execution_count": 43,
     "metadata": {},
     "output_type": "execute_result"
    }
   ],
   "source": [
    "list(data['url'])[:10]"
   ]
  },
  {
   "cell_type": "code",
   "execution_count": 99,
   "id": "b9523a4a",
   "metadata": {},
   "outputs": [
    {
     "data": {
      "text/plain": [
       "'com.au'"
      ]
     },
     "execution_count": 99,
     "metadata": {},
     "output_type": "execute_result"
    }
   ],
   "source": [
    "  get_tld('espdesign.com.au', fix_protocol=True)"
   ]
  }
 ],
 "metadata": {
  "kernelspec": {
   "display_name": "Python 3 (ipykernel)",
   "language": "python",
   "name": "python3"
  },
  "language_info": {
   "codemirror_mode": {
    "name": "ipython",
    "version": 3
   },
   "file_extension": ".py",
   "mimetype": "text/x-python",
   "name": "python",
   "nbconvert_exporter": "python",
   "pygments_lexer": "ipython3",
   "version": "3.10.5"
  }
 },
 "nbformat": 4,
 "nbformat_minor": 5
}
