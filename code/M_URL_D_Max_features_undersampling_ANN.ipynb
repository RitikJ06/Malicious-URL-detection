{
  "cells": [
    {
      "cell_type": "code",
      "execution_count": null,
      "id": "5de3661c",
      "metadata": {
        "id": "5de3661c"
      },
      "outputs": [],
      "source": [
        "import pandas as pd\n",
        "import numpy as np\n",
        "import random\n",
        "\n",
        "import matplotlib.pyplot as plt\n",
        "from sklearn.feature_extraction.text import CountVectorizer\n",
        "from sklearn.feature_extraction.text import TfidfVectorizer\n",
        "from sklearn.linear_model import LogisticRegression\n",
        "from sklearn.model_selection import train_test_split\n",
        "\n",
        "from sklearn.metrics import classification_report\n",
        "from sklearn.metrics import confusion_matrix\n",
        "from sklearn.metrics import precision_score, recall_score, f1_score, accuracy_score\n",
        "\n",
        "import seaborn as sn\n",
        "\n",
        "import tensorflow as tf\n",
        "from tensorflow.keras.models import Sequential\n",
        "from tensorflow.keras.layers import Activation, Dense, Dropout, LSTM, Flatten, LSTM\n",
        "from tensorflow.keras import optimizers\n",
        "from tensorflow.keras.utils import plot_model\n",
        "from keras.callbacks import ModelCheckpoint, CSVLogger"
      ]
    },
    {
      "cell_type": "code",
      "source": [],
      "metadata": {
        "id": "BJfo8BdDp8du"
      },
      "id": "BJfo8BdDp8du",
      "execution_count": null,
      "outputs": []
    },
    {
      "cell_type": "code",
      "source": [
        "# from google.colab import drive\n",
        "# drive.mount('/content/drive')"
      ],
      "metadata": {
        "id": "LmH57cnCp-PZ",
        "colab": {
          "base_uri": "https://localhost:8080/"
        },
        "outputId": "5475d4e6-b82b-42ff-d16b-e534da907f7b"
      },
      "id": "LmH57cnCp-PZ",
      "execution_count": null,
      "outputs": [
        {
          "output_type": "stream",
          "name": "stdout",
          "text": [
            "Mounted at /content/drive\n"
          ]
        }
      ]
    },
    {
      "cell_type": "markdown",
      "id": "93ff7ecf",
      "metadata": {
        "id": "93ff7ecf"
      },
      "source": [
        "### Reading Data"
      ]
    },
    {
      "cell_type": "code",
      "execution_count": null,
      "id": "d9fbb980",
      "metadata": {
        "colab": {
          "base_uri": "https://localhost:8080/",
          "height": 363
        },
        "id": "d9fbb980",
        "outputId": "c1f88b09-624c-47c8-e930-346f09743175"
      },
      "outputs": [
        {
          "output_type": "execute_result",
          "data": {
            "text/plain": [
              "                                           url label\n",
              "0                       diaryofagameaddict.com   bad\n",
              "1                             espdesign.com.au   bad\n",
              "2                           iamagameaddict.com   bad\n",
              "3                                kalantzis.net   bad\n",
              "4                        slightlyoffcenter.net   bad\n",
              "5                             toddscarwash.com   bad\n",
              "6                               tubemoviez.com   bad\n",
              "7                                       ipl.hk   bad\n",
              "8  crackspider.us/toolbar/install.php?pack=exe   bad\n",
              "9                              pos-kupang.com/   bad"
            ],
            "text/html": [
              "\n",
              "  <div id=\"df-d8c5d0d6-3ea3-4a94-8334-e9fb06da0ea7\">\n",
              "    <div class=\"colab-df-container\">\n",
              "      <div>\n",
              "<style scoped>\n",
              "    .dataframe tbody tr th:only-of-type {\n",
              "        vertical-align: middle;\n",
              "    }\n",
              "\n",
              "    .dataframe tbody tr th {\n",
              "        vertical-align: top;\n",
              "    }\n",
              "\n",
              "    .dataframe thead th {\n",
              "        text-align: right;\n",
              "    }\n",
              "</style>\n",
              "<table border=\"1\" class=\"dataframe\">\n",
              "  <thead>\n",
              "    <tr style=\"text-align: right;\">\n",
              "      <th></th>\n",
              "      <th>url</th>\n",
              "      <th>label</th>\n",
              "    </tr>\n",
              "  </thead>\n",
              "  <tbody>\n",
              "    <tr>\n",
              "      <th>0</th>\n",
              "      <td>diaryofagameaddict.com</td>\n",
              "      <td>bad</td>\n",
              "    </tr>\n",
              "    <tr>\n",
              "      <th>1</th>\n",
              "      <td>espdesign.com.au</td>\n",
              "      <td>bad</td>\n",
              "    </tr>\n",
              "    <tr>\n",
              "      <th>2</th>\n",
              "      <td>iamagameaddict.com</td>\n",
              "      <td>bad</td>\n",
              "    </tr>\n",
              "    <tr>\n",
              "      <th>3</th>\n",
              "      <td>kalantzis.net</td>\n",
              "      <td>bad</td>\n",
              "    </tr>\n",
              "    <tr>\n",
              "      <th>4</th>\n",
              "      <td>slightlyoffcenter.net</td>\n",
              "      <td>bad</td>\n",
              "    </tr>\n",
              "    <tr>\n",
              "      <th>5</th>\n",
              "      <td>toddscarwash.com</td>\n",
              "      <td>bad</td>\n",
              "    </tr>\n",
              "    <tr>\n",
              "      <th>6</th>\n",
              "      <td>tubemoviez.com</td>\n",
              "      <td>bad</td>\n",
              "    </tr>\n",
              "    <tr>\n",
              "      <th>7</th>\n",
              "      <td>ipl.hk</td>\n",
              "      <td>bad</td>\n",
              "    </tr>\n",
              "    <tr>\n",
              "      <th>8</th>\n",
              "      <td>crackspider.us/toolbar/install.php?pack=exe</td>\n",
              "      <td>bad</td>\n",
              "    </tr>\n",
              "    <tr>\n",
              "      <th>9</th>\n",
              "      <td>pos-kupang.com/</td>\n",
              "      <td>bad</td>\n",
              "    </tr>\n",
              "  </tbody>\n",
              "</table>\n",
              "</div>\n",
              "      <button class=\"colab-df-convert\" onclick=\"convertToInteractive('df-d8c5d0d6-3ea3-4a94-8334-e9fb06da0ea7')\"\n",
              "              title=\"Convert this dataframe to an interactive table.\"\n",
              "              style=\"display:none;\">\n",
              "        \n",
              "  <svg xmlns=\"http://www.w3.org/2000/svg\" height=\"24px\"viewBox=\"0 0 24 24\"\n",
              "       width=\"24px\">\n",
              "    <path d=\"M0 0h24v24H0V0z\" fill=\"none\"/>\n",
              "    <path d=\"M18.56 5.44l.94 2.06.94-2.06 2.06-.94-2.06-.94-.94-2.06-.94 2.06-2.06.94zm-11 1L8.5 8.5l.94-2.06 2.06-.94-2.06-.94L8.5 2.5l-.94 2.06-2.06.94zm10 10l.94 2.06.94-2.06 2.06-.94-2.06-.94-.94-2.06-.94 2.06-2.06.94z\"/><path d=\"M17.41 7.96l-1.37-1.37c-.4-.4-.92-.59-1.43-.59-.52 0-1.04.2-1.43.59L10.3 9.45l-7.72 7.72c-.78.78-.78 2.05 0 2.83L4 21.41c.39.39.9.59 1.41.59.51 0 1.02-.2 1.41-.59l7.78-7.78 2.81-2.81c.8-.78.8-2.07 0-2.86zM5.41 20L4 18.59l7.72-7.72 1.47 1.35L5.41 20z\"/>\n",
              "  </svg>\n",
              "      </button>\n",
              "      \n",
              "  <style>\n",
              "    .colab-df-container {\n",
              "      display:flex;\n",
              "      flex-wrap:wrap;\n",
              "      gap: 12px;\n",
              "    }\n",
              "\n",
              "    .colab-df-convert {\n",
              "      background-color: #E8F0FE;\n",
              "      border: none;\n",
              "      border-radius: 50%;\n",
              "      cursor: pointer;\n",
              "      display: none;\n",
              "      fill: #1967D2;\n",
              "      height: 32px;\n",
              "      padding: 0 0 0 0;\n",
              "      width: 32px;\n",
              "    }\n",
              "\n",
              "    .colab-df-convert:hover {\n",
              "      background-color: #E2EBFA;\n",
              "      box-shadow: 0px 1px 2px rgba(60, 64, 67, 0.3), 0px 1px 3px 1px rgba(60, 64, 67, 0.15);\n",
              "      fill: #174EA6;\n",
              "    }\n",
              "\n",
              "    [theme=dark] .colab-df-convert {\n",
              "      background-color: #3B4455;\n",
              "      fill: #D2E3FC;\n",
              "    }\n",
              "\n",
              "    [theme=dark] .colab-df-convert:hover {\n",
              "      background-color: #434B5C;\n",
              "      box-shadow: 0px 1px 3px 1px rgba(0, 0, 0, 0.15);\n",
              "      filter: drop-shadow(0px 1px 2px rgba(0, 0, 0, 0.3));\n",
              "      fill: #FFFFFF;\n",
              "    }\n",
              "  </style>\n",
              "\n",
              "      <script>\n",
              "        const buttonEl =\n",
              "          document.querySelector('#df-d8c5d0d6-3ea3-4a94-8334-e9fb06da0ea7 button.colab-df-convert');\n",
              "        buttonEl.style.display =\n",
              "          google.colab.kernel.accessAllowed ? 'block' : 'none';\n",
              "\n",
              "        async function convertToInteractive(key) {\n",
              "          const element = document.querySelector('#df-d8c5d0d6-3ea3-4a94-8334-e9fb06da0ea7');\n",
              "          const dataTable =\n",
              "            await google.colab.kernel.invokeFunction('convertToInteractive',\n",
              "                                                     [key], {});\n",
              "          if (!dataTable) return;\n",
              "\n",
              "          const docLinkHtml = 'Like what you see? Visit the ' +\n",
              "            '<a target=\"_blank\" href=https://colab.research.google.com/notebooks/data_table.ipynb>data table notebook</a>'\n",
              "            + ' to learn more about interactive tables.';\n",
              "          element.innerHTML = '';\n",
              "          dataTable['output_type'] = 'display_data';\n",
              "          await google.colab.output.renderOutput(dataTable, element);\n",
              "          const docLink = document.createElement('div');\n",
              "          docLink.innerHTML = docLinkHtml;\n",
              "          element.appendChild(docLink);\n",
              "        }\n",
              "      </script>\n",
              "    </div>\n",
              "  </div>\n",
              "  "
            ]
          },
          "metadata": {},
          "execution_count": 5
        }
      ],
      "source": [
        "# Reading data from csv file\n",
        "data = pd.read_csv(\"/content/drive/MyDrive/sem9/data.csv\")\n",
        "data.head(10)"
      ]
    },
    {
      "cell_type": "code",
      "execution_count": null,
      "id": "d1b2fa9f",
      "metadata": {
        "colab": {
          "base_uri": "https://localhost:8080/"
        },
        "id": "d1b2fa9f",
        "outputId": "169d9b3f-21f0-465d-c8f4-0c9270829ec2"
      },
      "outputs": [
        {
          "output_type": "execute_result",
          "data": {
            "text/plain": [
              "(420464, 2)"
            ]
          },
          "metadata": {},
          "execution_count": 6
        }
      ],
      "source": [
        "data.shape"
      ]
    },
    {
      "cell_type": "code",
      "execution_count": null,
      "id": "38f02beb",
      "metadata": {
        "colab": {
          "base_uri": "https://localhost:8080/"
        },
        "id": "38f02beb",
        "outputId": "b9d21bb1-8b5e-450d-f4c7-bc972a1a5d41"
      },
      "outputs": [
        {
          "output_type": "execute_result",
          "data": {
            "text/plain": [
              "array(['bad', 'good'], dtype=object)"
            ]
          },
          "metadata": {},
          "execution_count": 7
        }
      ],
      "source": [
        "data['label'].unique()"
      ]
    },
    {
      "cell_type": "markdown",
      "id": "0488f392",
      "metadata": {
        "id": "0488f392"
      },
      "source": [
        "### Data Preprocessing"
      ]
    },
    {
      "cell_type": "code",
      "execution_count": null,
      "id": "88cc0133",
      "metadata": {
        "colab": {
          "base_uri": "https://localhost:8080/",
          "height": 621
        },
        "id": "88cc0133",
        "outputId": "920dcad8-4031-4770-c7e5-5f36e2b7e5d0"
      },
      "outputs": [
        {
          "output_type": "display_data",
          "data": {
            "text/plain": [
              "<Figure size 720x720 with 1 Axes>"
            ],
            "image/png": "[encoded data removed]"
          },
          "metadata": {
            "needs_background": "light"
          }
        }
      ],
      "source": [
        "def plot_sample_length_distribution(urls):\n",
        "    plt.figure(figsize=(10,10))\n",
        "    plt.plot([x for x in range(len(urls))], [len(s) for s in urls])\n",
        "#     plt.hist([len(s) for s in urls], 50)\n",
        "    plt.xlabel('Sample number')\n",
        "    plt.ylabel('Length of URL')\n",
        "    plt.title('URLs length distribution')\n",
        "    plt.show()\n",
        "\n",
        "plot_sample_length_distribution(data['url'])"
      ]
    },
    {
      "cell_type": "code",
      "execution_count": null,
      "id": "c3be7089",
      "metadata": {
        "id": "c3be7089"
      },
      "outputs": [],
      "source": []
    },
    {
      "cell_type": "markdown",
      "id": "f1a2f1b2",
      "metadata": {
        "id": "f1a2f1b2"
      },
      "source": [
        "#### malicious = 1 <br> Normal = 0"
      ]
    },
    {
      "cell_type": "code",
      "execution_count": null,
      "id": "1fb1207b",
      "metadata": {
        "id": "1fb1207b"
      },
      "outputs": [],
      "source": [
        "data['label'] = np.where(data['label']=='bad',1,0)"
      ]
    },
    {
      "cell_type": "code",
      "execution_count": null,
      "id": "7bb6faf4",
      "metadata": {
        "colab": {
          "base_uri": "https://localhost:8080/"
        },
        "id": "7bb6faf4",
        "outputId": "b94585bd-3a8a-4c3f-99dd-4910f92b2216"
      },
      "outputs": [
        {
          "output_type": "execute_result",
          "data": {
            "text/plain": [
              "0    344821\n",
              "1     75643\n",
              "Name: label, dtype: int64"
            ]
          },
          "metadata": {},
          "execution_count": 10
        }
      ],
      "source": [
        "data['label'].value_counts()"
      ]
    },
    {
      "cell_type": "markdown",
      "id": "21d11cbf",
      "metadata": {
        "id": "21d11cbf"
      },
      "source": [
        "## Balancing the data"
      ]
    },
    {
      "cell_type": "markdown",
      "id": "b521b062",
      "metadata": {
        "id": "b521b062"
      },
      "source": [
        "### 1. Performing under sampling"
      ]
    },
    {
      "cell_type": "code",
      "execution_count": null,
      "id": "19b596c4",
      "metadata": {
        "scrolled": true,
        "id": "19b596c4"
      },
      "outputs": [],
      "source": [
        "df0_count, df1_count = data['label'].value_counts()"
      ]
    },
    {
      "cell_type": "code",
      "execution_count": null,
      "id": "13349c59",
      "metadata": {
        "id": "13349c59"
      },
      "outputs": [],
      "source": [
        "# divide by class\n",
        "df0 = data[data['label'] == 0]\n",
        "df1 = data[data['label'] == 1]"
      ]
    },
    {
      "cell_type": "code",
      "execution_count": null,
      "id": "ac0e5a0d",
      "metadata": {
        "colab": {
          "base_uri": "https://localhost:8080/"
        },
        "id": "ac0e5a0d",
        "outputId": "6d310a6e-6ce5-4270-c19c-3192a1259020"
      },
      "outputs": [
        {
          "output_type": "execute_result",
          "data": {
            "text/plain": [
              "(344821, 2)"
            ]
          },
          "metadata": {},
          "execution_count": 13
        }
      ],
      "source": [
        "df0.shape"
      ]
    },
    {
      "cell_type": "code",
      "execution_count": null,
      "id": "da3e4fa7",
      "metadata": {
        "colab": {
          "base_uri": "https://localhost:8080/"
        },
        "id": "da3e4fa7",
        "outputId": "4c581070-1e2a-4250-c7a0-ab5f22fbf1ce"
      },
      "outputs": [
        {
          "output_type": "execute_result",
          "data": {
            "text/plain": [
              "(75643, 2)"
            ]
          },
          "metadata": {},
          "execution_count": 14
        }
      ],
      "source": [
        "df1.shape"
      ]
    },
    {
      "cell_type": "code",
      "execution_count": null,
      "id": "9d9ed02a",
      "metadata": {
        "id": "9d9ed02a"
      },
      "outputs": [],
      "source": [
        "df0_under = df0.sample(df1_count)"
      ]
    },
    {
      "cell_type": "code",
      "execution_count": null,
      "id": "813a3a4f",
      "metadata": {
        "id": "813a3a4f"
      },
      "outputs": [],
      "source": [
        "data_balanced_under_sampling = pd.concat([df0_under, df1], axis=0)"
      ]
    },
    {
      "cell_type": "code",
      "execution_count": null,
      "id": "d5ba8095",
      "metadata": {
        "colab": {
          "base_uri": "https://localhost:8080/",
          "height": 424
        },
        "id": "d5ba8095",
        "outputId": "877c0766-2112-4d09-87e5-f616c7ed21d0"
      },
      "outputs": [
        {
          "output_type": "execute_result",
          "data": {
            "text/plain": [
              "                                                    url  label\n",
              "322556  punknews.org/bands/eastbayrayandthekillersmiles      0\n",
              "130972                 people.famouswhy.com/tony_potts/      0\n",
              "304093                           myspace.com/mrs_mother      0\n",
              "374317  youthradio.org/oldsite/books/001024_shiga.shtml      0\n",
              "32095    plavcd.com/a/1d0f89c22f3a270341dcd7e347092c62/      1\n",
              "...                                                 ...    ...\n",
              "418942                     222.239.91.18:127/anxiaomo32      1\n",
              "9754         xn--80adkrdepdg.xn--p1ai/logn/box/dropbox/      1\n",
              "406429                            swadsexto.com/1imkfsu      1\n",
              "53367                  biology.caltech.edu/Members/Koch      0\n",
              "11995     simonbennisonbuilders.co.uk//media/cms/PL.php      1\n",
              "\n",
              "[151286 rows x 2 columns]"
            ],
            "text/html": [
              "\n",
              "  <div id=\"df-7869901e-bb29-49df-bcc2-e76e97a21586\">\n",
              "    <div class=\"colab-df-container\">\n",
              "      <div>\n",
              "<style scoped>\n",
              "    .dataframe tbody tr th:only-of-type {\n",
              "        vertical-align: middle;\n",
              "    }\n",
              "\n",
              "    .dataframe tbody tr th {\n",
              "        vertical-align: top;\n",
              "    }\n",
              "\n",
              "    .dataframe thead th {\n",
              "        text-align: right;\n",
              "    }\n",
              "</style>\n",
              "<table border=\"1\" class=\"dataframe\">\n",
              "  <thead>\n",
              "    <tr style=\"text-align: right;\">\n",
              "      <th></th>\n",
              "      <th>url</th>\n",
              "      <th>label</th>\n",
              "    </tr>\n",
              "  </thead>\n",
              "  <tbody>\n",
              "    <tr>\n",
              "      <th>322556</th>\n",
              "      <td>punknews.org/bands/eastbayrayandthekillersmiles</td>\n",
              "      <td>0</td>\n",
              "    </tr>\n",
              "    <tr>\n",
              "      <th>130972</th>\n",
              "      <td>people.famouswhy.com/tony_potts/</td>\n",
              "      <td>0</td>\n",
              "    </tr>\n",
              "    <tr>\n",
              "      <th>304093</th>\n",
              "      <td>myspace.com/mrs_mother</td>\n",
              "      <td>0</td>\n",
              "    </tr>\n",
              "    <tr>\n",
              "      <th>374317</th>\n",
              "      <td>youthradio.org/oldsite/books/001024_shiga.shtml</td>\n",
              "      <td>0</td>\n",
              "    </tr>\n",
              "    <tr>\n",
              "      <th>32095</th>\n",
              "      <td>plavcd.com/a/1d0f89c22f3a270341dcd7e347092c62/</td>\n",
              "      <td>1</td>\n",
              "    </tr>\n",
              "    <tr>\n",
              "      <th>...</th>\n",
              "      <td>...</td>\n",
              "      <td>...</td>\n",
              "    </tr>\n",
              "    <tr>\n",
              "      <th>418942</th>\n",
              "      <td>222.239.91.18:127/anxiaomo32</td>\n",
              "      <td>1</td>\n",
              "    </tr>\n",
              "    <tr>\n",
              "      <th>9754</th>\n",
              "      <td>xn--80adkrdepdg.xn--p1ai/logn/box/dropbox/</td>\n",
              "      <td>1</td>\n",
              "    </tr>\n",
              "    <tr>\n",
              "      <th>406429</th>\n",
              "      <td>swadsexto.com/1imkfsu</td>\n",
              "      <td>1</td>\n",
              "    </tr>\n",
              "    <tr>\n",
              "      <th>53367</th>\n",
              "      <td>biology.caltech.edu/Members/Koch</td>\n",
              "      <td>0</td>\n",
              "    </tr>\n",
              "    <tr>\n",
              "      <th>11995</th>\n",
              "      <td>simonbennisonbuilders.co.uk//media/cms/PL.php</td>\n",
              "      <td>1</td>\n",
              "    </tr>\n",
              "  </tbody>\n",
              "</table>\n",
              "<p>151286 rows × 2 columns</p>\n",
              "</div>\n",
              "      <button class=\"colab-df-convert\" onclick=\"convertToInteractive('df-7869901e-bb29-49df-bcc2-e76e97a21586')\"\n",
              "              title=\"Convert this dataframe to an interactive table.\"\n",
              "              style=\"display:none;\">\n",
              "        \n",
              "  <svg xmlns=\"http://www.w3.org/2000/svg\" height=\"24px\"viewBox=\"0 0 24 24\"\n",
              "       width=\"24px\">\n",
              "    <path d=\"M0 0h24v24H0V0z\" fill=\"none\"/>\n",
              "    <path d=\"M18.56 5.44l.94 2.06.94-2.06 2.06-.94-2.06-.94-.94-2.06-.94 2.06-2.06.94zm-11 1L8.5 8.5l.94-2.06 2.06-.94-2.06-.94L8.5 2.5l-.94 2.06-2.06.94zm10 10l.94 2.06.94-2.06 2.06-.94-2.06-.94-.94-2.06-.94 2.06-2.06.94z\"/><path d=\"M17.41 7.96l-1.37-1.37c-.4-.4-.92-.59-1.43-.59-.52 0-1.04.2-1.43.59L10.3 9.45l-7.72 7.72c-.78.78-.78 2.05 0 2.83L4 21.41c.39.39.9.59 1.41.59.51 0 1.02-.2 1.41-.59l7.78-7.78 2.81-2.81c.8-.78.8-2.07 0-2.86zM5.41 20L4 18.59l7.72-7.72 1.47 1.35L5.41 20z\"/>\n",
              "  </svg>\n",
              "      </button>\n",
              "      \n",
              "  <style>\n",
              "    .colab-df-container {\n",
              "      display:flex;\n",
              "      flex-wrap:wrap;\n",
              "      gap: 12px;\n",
              "    }\n",
              "\n",
              "    .colab-df-convert {\n",
              "      background-color: #E8F0FE;\n",
              "      border: none;\n",
              "      border-radius: 50%;\n",
              "      cursor: pointer;\n",
              "      display: none;\n",
              "      fill: #1967D2;\n",
              "      height: 32px;\n",
              "      padding: 0 0 0 0;\n",
              "      width: 32px;\n",
              "    }\n",
              "\n",
              "    .colab-df-convert:hover {\n",
              "      background-color: #E2EBFA;\n",
              "      box-shadow: 0px 1px 2px rgba(60, 64, 67, 0.3), 0px 1px 3px 1px rgba(60, 64, 67, 0.15);\n",
              "      fill: #174EA6;\n",
              "    }\n",
              "\n",
              "    [theme=dark] .colab-df-convert {\n",
              "      background-color: #3B4455;\n",
              "      fill: #D2E3FC;\n",
              "    }\n",
              "\n",
              "    [theme=dark] .colab-df-convert:hover {\n",
              "      background-color: #434B5C;\n",
              "      box-shadow: 0px 1px 3px 1px rgba(0, 0, 0, 0.15);\n",
              "      filter: drop-shadow(0px 1px 2px rgba(0, 0, 0, 0.3));\n",
              "      fill: #FFFFFF;\n",
              "    }\n",
              "  </style>\n",
              "\n",
              "      <script>\n",
              "        const buttonEl =\n",
              "          document.querySelector('#df-7869901e-bb29-49df-bcc2-e76e97a21586 button.colab-df-convert');\n",
              "        buttonEl.style.display =\n",
              "          google.colab.kernel.accessAllowed ? 'block' : 'none';\n",
              "\n",
              "        async function convertToInteractive(key) {\n",
              "          const element = document.querySelector('#df-7869901e-bb29-49df-bcc2-e76e97a21586');\n",
              "          const dataTable =\n",
              "            await google.colab.kernel.invokeFunction('convertToInteractive',\n",
              "                                                     [key], {});\n",
              "          if (!dataTable) return;\n",
              "\n",
              "          const docLinkHtml = 'Like what you see? Visit the ' +\n",
              "            '<a target=\"_blank\" href=https://colab.research.google.com/notebooks/data_table.ipynb>data table notebook</a>'\n",
              "            + ' to learn more about interactive tables.';\n",
              "          element.innerHTML = '';\n",
              "          dataTable['output_type'] = 'display_data';\n",
              "          await google.colab.output.renderOutput(dataTable, element);\n",
              "          const docLink = document.createElement('div');\n",
              "          docLink.innerHTML = docLinkHtml;\n",
              "          element.appendChild(docLink);\n",
              "        }\n",
              "      </script>\n",
              "    </div>\n",
              "  </div>\n",
              "  "
            ]
          },
          "metadata": {},
          "execution_count": 17
        }
      ],
      "source": [
        "data_balanced_under_sampling = data_balanced_under_sampling.sample(frac=1) \n",
        "data_balanced_under_sampling"
      ]
    },
    {
      "cell_type": "code",
      "source": [
        "counts = data_balanced_under_sampling.groupby(['label']).size()\n",
        "\n",
        "plt.pie(counts, labels = ['bad', 'Good'], autopct='%.0f%%')\n",
        "plt.legend()\n"
      ],
      "metadata": {
        "colab": {
          "base_uri": "https://localhost:8080/",
          "height": 265
        },
        "id": "5C4hHsZQKGxK",
        "outputId": "33839883-38b6-4359-95d5-1a97cf2f299a"
      },
      "id": "5C4hHsZQKGxK",
      "execution_count": null,
      "outputs": [
        {
          "output_type": "execute_result",
          "data": {
            "text/plain": [
              "<matplotlib.legend.Legend at 0x7f1be3960250>"
            ]
          },
          "metadata": {},
          "execution_count": 18
        },
        {
          "output_type": "display_data",
          "data": {
            "text/plain": [
              "<Figure size 432x288 with 1 Axes>"
            ],
            "image/png": "[encoded data removed]"
          },
          "metadata": {}
        }
      ]
    },
    {
      "cell_type": "code",
      "source": [
        "# split data in test, train and validation\n",
        "\n",
        "train_dataset, temp_test_dataset =  train_test_split(data_balanced_under_sampling, test_size=0.4)\n",
        "test_dataset, valid_dataset =  train_test_split(temp_test_dataset, test_size=0.5)\n"
      ],
      "metadata": {
        "id": "V5gY9CnNUbyC"
      },
      "id": "V5gY9CnNUbyC",
      "execution_count": null,
      "outputs": []
    },
    {
      "cell_type": "code",
      "source": [],
      "metadata": {
        "id": "PJ8fCtsTRLp_"
      },
      "id": "PJ8fCtsTRLp_",
      "execution_count": null,
      "outputs": []
    },
    {
      "cell_type": "code",
      "source": [
        "X_train = train_dataset['url']\n",
        "y_train = train_dataset['label']\n",
        "\n",
        "X_test = test_dataset['url']\n",
        "y_test = test_dataset['label']\n",
        "\n",
        "X_valid = valid_dataset['url']\n",
        "y_valid = valid_dataset['label']"
      ],
      "metadata": {
        "id": "lbcYaspcQckm"
      },
      "id": "lbcYaspcQckm",
      "execution_count": null,
      "outputs": []
    },
    {
      "cell_type": "code",
      "source": [],
      "metadata": {
        "id": "1sjfBXuVRMOk"
      },
      "id": "1sjfBXuVRMOk",
      "execution_count": null,
      "outputs": []
    },
    {
      "cell_type": "markdown",
      "id": "04d7750e",
      "metadata": {
        "id": "04d7750e"
      },
      "source": [
        "# Using count vectorizer"
      ]
    },
    {
      "cell_type": "code",
      "execution_count": null,
      "id": "7858ca50",
      "metadata": {
        "id": "7858ca50"
      },
      "outputs": [],
      "source": [
        "cv = CountVectorizer(max_features=1000)\n",
        "\n",
        "# creating vectors for traning data\n",
        "X_train_cv = cv.fit_transform(X_train)\n",
        "# creating vectors for testing data\n",
        "X_test_cv = cv.transform(X_test)\n",
        "X_valid_cv = cv.transform(X_valid)"
      ]
    },
    {
      "cell_type": "code",
      "execution_count": null,
      "id": "db22d85d",
      "metadata": {
        "colab": {
          "base_uri": "https://localhost:8080/"
        },
        "id": "db22d85d",
        "outputId": "6e17bcbe-d638-4e8f-92d6-929171856211"
      },
      "outputs": [
        {
          "output_type": "execute_result",
          "data": {
            "text/plain": [
              "{'analyzer': 'word',\n",
              " 'binary': False,\n",
              " 'decode_error': 'strict',\n",
              " 'dtype': numpy.int64,\n",
              " 'encoding': 'utf-8',\n",
              " 'input': 'content',\n",
              " 'lowercase': True,\n",
              " 'max_df': 1.0,\n",
              " 'max_features': 1000,\n",
              " 'min_df': 1,\n",
              " 'ngram_range': (1, 1),\n",
              " 'preprocessor': None,\n",
              " 'stop_words': None,\n",
              " 'strip_accents': None,\n",
              " 'token_pattern': '(?u)\\\\b\\\\w\\\\w+\\\\b',\n",
              " 'tokenizer': None,\n",
              " 'vocabulary': None}"
            ]
          },
          "metadata": {},
          "execution_count": 22
        }
      ],
      "source": [
        "cv.get_params()"
      ]
    },
    {
      "cell_type": "code",
      "source": [],
      "metadata": {
        "id": "kaw7GpsqHqym"
      },
      "id": "kaw7GpsqHqym",
      "execution_count": null,
      "outputs": []
    },
    {
      "cell_type": "code",
      "source": [
        "y_train.shape"
      ],
      "metadata": {
        "colab": {
          "base_uri": "https://localhost:8080/"
        },
        "id": "jgyAhBF3qmwH",
        "outputId": "be9c59f6-510e-4ec4-83d1-2a576891aa6c"
      },
      "id": "jgyAhBF3qmwH",
      "execution_count": null,
      "outputs": [
        {
          "output_type": "execute_result",
          "data": {
            "text/plain": [
              "(90771,)"
            ]
          },
          "metadata": {},
          "execution_count": 23
        }
      ]
    },
    {
      "cell_type": "code",
      "execution_count": null,
      "id": "53e3d750",
      "metadata": {
        "id": "53e3d750"
      },
      "outputs": [],
      "source": [
        "X_train_cv = X_train_cv.toarray()\n",
        "X_test_cv = X_test_cv.toarray()\n",
        "X_valid_cv = X_valid_cv.toarray()\n",
        "\n",
        "y_test = y_test.to_numpy()\n",
        "y_train = y_train.to_numpy()\n",
        "y_valid = y_valid.to_numpy()\n"
      ]
    },
    {
      "cell_type": "markdown",
      "source": [
        "## Test for Neural network Architecture"
      ],
      "metadata": {
        "id": "I-kJwv3sQ_24"
      },
      "id": "I-kJwv3sQ_24"
    },
    {
      "cell_type": "code",
      "source": [
        "from keras.wrappers.scikit_learn import KerasClassifier\n",
        "from sklearn.model_selection import GridSearchCV"
      ],
      "metadata": {
        "id": "FE4TZCZVY294"
      },
      "id": "FE4TZCZVY294",
      "execution_count": null,
      "outputs": []
    },
    {
      "cell_type": "code",
      "source": [
        "def create_model(layers , activation):\n",
        "  model = Sequential()\n",
        "  for i, nodes in enumerate(layers):\n",
        "    if i==0:\n",
        "      model.add(Dense(nodes, input_dim=X_train_cv.shape[1]))\n",
        "      model.add(Activation(activation))\n",
        "    else:\n",
        "      model.add(Dense(nodes))\n",
        "      model.add(Activation(activation))\n",
        "  \n",
        "  model.add(Dense(1))\n",
        "  model.compile(loss='binary_crossentropy',\n",
        "                optimizer='adam',\n",
        "                metrics=['accuracy'])\n",
        "  return model\n",
        "  \n",
        "model_test = KerasClassifier(build_fn=create_model, verbose=1)"
      ],
      "metadata": {
        "colab": {
          "base_uri": "https://localhost:8080/"
        },
        "id": "bhvsozBuYulP",
        "outputId": "6781bf64-c9b7-4499-a8d7-71d2c3e81d62"
      },
      "id": "bhvsozBuYulP",
      "execution_count": null,
      "outputs": [
        {
          "output_type": "stream",
          "name": "stderr",
          "text": [
            "/usr/local/lib/python3.7/dist-packages/ipykernel_launcher.py:17: DeprecationWarning: KerasClassifier is deprecated, use Sci-Keras (https://github.com/adriangb/scikeras) instead. See https://www.adriangb.com/scikeras/stable/migration.html for help migrating.\n"
          ]
        }
      ]
    },
    {
      "cell_type": "code",
      "source": [],
      "metadata": {
        "colab": {
          "base_uri": "https://localhost:8080/"
        },
        "id": "Xno3OrT6Q8jE",
        "outputId": "9d57cfd1-4609-46e4-bcd4-b281a08e1cd7"
      },
      "id": "Xno3OrT6Q8jE",
      "execution_count": null,
      "outputs": [
        {
          "output_type": "execute_result",
          "data": {
            "text/plain": [
              "<keras.wrappers.scikit_learn.KerasClassifier at 0x7fa93856e550>"
            ]
          },
          "metadata": {},
          "execution_count": 29
        }
      ]
    },
    {
      "cell_type": "code",
      "source": [
        "layers = [[32,64], [64,32,64], [32, 64, 32]]\n",
        "activations = ['sigmoid', 'relu']\n",
        "param_grid = dict(layers=layers, activation=activations, batch_size=[128,256], epochs=[30])\n",
        "grid = GridSearchCV(estimator=model_test, param_grid=param_grid)"
      ],
      "metadata": {
        "id": "Cq5i51hlWNLq"
      },
      "id": "Cq5i51hlWNLq",
      "execution_count": null,
      "outputs": []
    },
    {
      "cell_type": "code",
      "source": [
        "grid_result = grid.fit(X_train_cv, y_train)"
      ],
      "metadata": {
        "id": "5LjLQPq3WNJH"
      },
      "id": "5LjLQPq3WNJH",
      "execution_count": null,
      "outputs": []
    },
    {
      "cell_type": "code",
      "source": [
        "grid_result.best_"
      ],
      "metadata": {
        "colab": {
          "base_uri": "https://localhost:8080/"
        },
        "id": "x9YfVEjeDaLs",
        "outputId": "57f7c7d3-794b-42d2-bb97-b0d4b5400c09"
      },
      "id": "x9YfVEjeDaLs",
      "execution_count": null,
      "outputs": [
        {
          "output_type": "execute_result",
          "data": {
            "text/plain": [
              "GridSearchCV(estimator=<keras.wrappers.scikit_learn.KerasClassifier object at 0x7fa93856e550>,\n",
              "             param_grid={'activation': ['sigmoid', 'relu'],\n",
              "                         'batch_size': [128, 256], 'epochs': [30],\n",
              "                         'layers': [[32, 64], [64, 32, 64], [32, 64, 32]]})"
            ]
          },
          "metadata": {},
          "execution_count": 34
        }
      ]
    },
    {
      "cell_type": "code",
      "source": [
        "[grid_result.best_score_, grid_result.best_params_]"
      ],
      "metadata": {
        "id": "cN1vWLWXWNGl",
        "colab": {
          "base_uri": "https://localhost:8080/"
        },
        "outputId": "a5956edd-526b-4b61-c56d-6af39542a3d1"
      },
      "id": "cN1vWLWXWNGl",
      "execution_count": null,
      "outputs": [
        {
          "output_type": "execute_result",
          "data": {
            "text/plain": [
              "[0.8970045685768128,\n",
              " {'activation': 'relu', 'batch_size': 128, 'epochs': 30, 'layers': [32, 64]}]"
            ]
          },
          "metadata": {},
          "execution_count": 35
        }
      ]
    },
    {
      "cell_type": "markdown",
      "source": [
        "## Using Neural Network"
      ],
      "metadata": {
        "id": "mbm74h_mH8qw"
      },
      "id": "mbm74h_mH8qw"
    },
    {
      "cell_type": "code",
      "execution_count": null,
      "id": "6f126c09",
      "metadata": {
        "id": "6f126c09"
      },
      "outputs": [],
      "source": []
    },
    {
      "cell_type": "code",
      "source": [],
      "metadata": {
        "id": "I65_b3fFRGW9"
      },
      "id": "I65_b3fFRGW9",
      "execution_count": null,
      "outputs": []
    },
    {
      "cell_type": "code",
      "source": [
        "# We decalred a function for creating a model.\n",
        "def build_model():\n",
        "    model = Sequential()\n",
        "\n",
        "    # Input Layer with 32 Neurons\n",
        "    model.add(Dense(32, input_shape = (X_train_cv.shape[1],)))    # Input layer => input_shape must be explicitly designated\n",
        "      \n",
        "    \n",
        "    model.add(Dense(64, activation='relu'))                         # Hidden layer 2 => only output dimension should be designated (output dimension = # of Neurons = 64)\n",
        "    \n",
        "    model.add(Dense(1))                          # Output layer => output dimension = 1 since it is a regression problem\n",
        "    \n",
        "    # Activation: sigmoid, softmax, tanh, relu, LeakyReLU. \n",
        "    #Optimizer: SGD, Adam, RMSProp, etc. # https://www.tensorflow.org/api_docs/python/tf/keras/optimizers\n",
        "    learning_rate = 0.001\n",
        "    optimizer = optimizers.Adam(learning_rate)\n",
        "    model.compile(loss=tf.keras.losses.BinaryCrossentropy(from_logits=True),\n",
        "                optimizer=optimizer,\n",
        "                metrics=['accuracy']) \n",
        "    return model\n",
        "\n",
        "EPOCHS = 100\n",
        "batch_size = 128 \n",
        "\n",
        "model = build_model()\n",
        "model.summary()\n",
        "\n",
        "\n",
        "plot_model(model, 'model.png', show_shapes=True)\n",
        "\n",
        "#callbacks: checkpoint, csv_logger\n",
        "filepath=\"model1.hdf5\"\n",
        "checkpoint = ModelCheckpoint(filepath, monitor='val_accuracy', verbose=1, save_best_only=True, mode='max')\n",
        "csv_log=CSVLogger('model_log.csv',separator=',',append=False)\n",
        "callbacks_list=[checkpoint,csv_log]\n",
        "\n",
        "\n",
        "\n",
        "# with tf.device('/GPU:0'): # comment the previous line and uncomment this line to train with a GPU, if available.\n",
        "history = model.fit(\n",
        "    X_train_cv, \n",
        "    y_train,\n",
        "    batch_size = batch_size,\n",
        "    epochs=EPOCHS, \n",
        "    verbose=1,\n",
        "    shuffle=True,\n",
        "    steps_per_epoch = int(X_train_cv.shape[0] / batch_size) ,\n",
        "    validation_data = (X_valid_cv, y_valid),\n",
        "    callbacks=callbacks_list\n",
        ")"
      ],
      "metadata": {
        "colab": {
          "base_uri": "https://localhost:8080/"
        },
        "id": "yyGi1b8NH7iq",
        "outputId": "86b7f3ac-cbf6-4c16-e98a-ad3d309b27ed"
      },
      "id": "yyGi1b8NH7iq",
      "execution_count": null,
      "outputs": [
        {
          "output_type": "stream",
          "name": "stdout",
          "text": [
            "Model: \"sequential\"\n",
            "_________________________________________________________________\n",
            " Layer (type)                Output Shape              Param #   \n",
            "=================================================================\n",
            " dense (Dense)               (None, 32)                32032     \n",
            "                                                                 \n",
            " dense_1 (Dense)             (None, 64)                2112      \n",
            "                                                                 \n",
            " dense_2 (Dense)             (None, 1)                 65        \n",
            "                                                                 \n",
            "=================================================================\n",
            "Total params: 34,209\n",
            "Trainable params: 34,209\n",
            "Non-trainable params: 0\n",
            "_________________________________________________________________\n",
            "Epoch 1/100\n",
            "701/709 [============================>.] - ETA: 0s - loss: 0.2615 - accuracy: 0.8598\n",
            "Epoch 1: val_accuracy improved from -inf to 0.88658, saving model to model1.hdf5\n",
            "709/709 [==============================] - 6s 5ms/step - loss: 0.2612 - accuracy: 0.8600 - val_loss: 0.2221 - val_accuracy: 0.8866\n",
            "Epoch 2/100\n",
            "706/709 [============================>.] - ETA: 0s - loss: 0.2154 - accuracy: 0.8868\n",
            "Epoch 2: val_accuracy did not improve from 0.88658\n",
            "709/709 [==============================] - 3s 4ms/step - loss: 0.2154 - accuracy: 0.8867 - val_loss: 0.2197 - val_accuracy: 0.8812\n",
            "Epoch 3/100\n",
            "703/709 [============================>.] - ETA: 0s - loss: 0.2119 - accuracy: 0.8873\n",
            "Epoch 3: val_accuracy did not improve from 0.88658\n",
            "709/709 [==============================] - 3s 4ms/step - loss: 0.2118 - accuracy: 0.8872 - val_loss: 0.2169 - val_accuracy: 0.8814\n",
            "Epoch 4/100\n",
            "698/709 [============================>.] - ETA: 0s - loss: 0.2069 - accuracy: 0.8890\n",
            "Epoch 4: val_accuracy improved from 0.88658 to 0.88674, saving model to model1.hdf5\n",
            "709/709 [==============================] - 3s 4ms/step - loss: 0.2068 - accuracy: 0.8892 - val_loss: 0.2144 - val_accuracy: 0.8867\n",
            "Epoch 5/100\n",
            "709/709 [==============================] - ETA: 0s - loss: 0.2018 - accuracy: 0.8915\n",
            "Epoch 5: val_accuracy improved from 0.88674 to 0.88972, saving model to model1.hdf5\n",
            "709/709 [==============================] - 3s 4ms/step - loss: 0.2018 - accuracy: 0.8915 - val_loss: 0.2108 - val_accuracy: 0.8897\n",
            "Epoch 6/100\n",
            "702/709 [============================>.] - ETA: 0s - loss: 0.1978 - accuracy: 0.8928\n",
            "Epoch 6: val_accuracy improved from 0.88972 to 0.88998, saving model to model1.hdf5\n",
            "709/709 [==============================] - 3s 4ms/step - loss: 0.1978 - accuracy: 0.8930 - val_loss: 0.2105 - val_accuracy: 0.8900\n",
            "Epoch 7/100\n",
            "705/709 [============================>.] - ETA: 0s - loss: 0.1945 - accuracy: 0.8947\n",
            "Epoch 7: val_accuracy did not improve from 0.88998\n",
            "709/709 [==============================] - 3s 4ms/step - loss: 0.1947 - accuracy: 0.8946 - val_loss: 0.2094 - val_accuracy: 0.8890\n",
            "Epoch 8/100\n",
            "699/709 [============================>.] - ETA: 0s - loss: 0.1928 - accuracy: 0.8950\n",
            "Epoch 8: val_accuracy improved from 0.88998 to 0.89014, saving model to model1.hdf5\n",
            "709/709 [==============================] - 3s 4ms/step - loss: 0.1927 - accuracy: 0.8950 - val_loss: 0.2092 - val_accuracy: 0.8901\n",
            "Epoch 9/100\n",
            "699/709 [============================>.] - ETA: 0s - loss: 0.1901 - accuracy: 0.8960\n",
            "Epoch 9: val_accuracy did not improve from 0.89014\n",
            "709/709 [==============================] - 3s 4ms/step - loss: 0.1907 - accuracy: 0.8956 - val_loss: 0.2098 - val_accuracy: 0.8874\n",
            "Epoch 10/100\n",
            "695/709 [============================>.] - ETA: 0s - loss: 0.1889 - accuracy: 0.8967\n",
            "Epoch 10: val_accuracy did not improve from 0.89014\n",
            "709/709 [==============================] - 3s 4ms/step - loss: 0.1888 - accuracy: 0.8968 - val_loss: 0.2100 - val_accuracy: 0.8878\n",
            "Epoch 11/100\n",
            "701/709 [============================>.] - ETA: 0s - loss: 0.1874 - accuracy: 0.8969\n",
            "Epoch 11: val_accuracy improved from 0.89014 to 0.89097, saving model to model1.hdf5\n",
            "709/709 [==============================] - 3s 4ms/step - loss: 0.1874 - accuracy: 0.8969 - val_loss: 0.2118 - val_accuracy: 0.8910\n",
            "Epoch 12/100\n",
            "707/709 [============================>.] - ETA: 0s - loss: 0.1860 - accuracy: 0.8983\n",
            "Epoch 12: val_accuracy did not improve from 0.89097\n",
            "709/709 [==============================] - 3s 4ms/step - loss: 0.1859 - accuracy: 0.8983 - val_loss: 0.2114 - val_accuracy: 0.8889\n",
            "Epoch 13/100\n",
            "701/709 [============================>.] - ETA: 0s - loss: 0.1854 - accuracy: 0.8974\n",
            "Epoch 13: val_accuracy did not improve from 0.89097\n",
            "709/709 [==============================] - 3s 4ms/step - loss: 0.1854 - accuracy: 0.8974 - val_loss: 0.2109 - val_accuracy: 0.8880\n",
            "Epoch 14/100\n",
            "702/709 [============================>.] - ETA: 0s - loss: 0.1828 - accuracy: 0.8987\n",
            "Epoch 14: val_accuracy did not improve from 0.89097\n",
            "709/709 [==============================] - 3s 4ms/step - loss: 0.1831 - accuracy: 0.8987 - val_loss: 0.2107 - val_accuracy: 0.8887\n",
            "Epoch 15/100\n",
            "694/709 [============================>.] - ETA: 0s - loss: 0.1821 - accuracy: 0.8992\n",
            "Epoch 15: val_accuracy improved from 0.89097 to 0.89361, saving model to model1.hdf5\n",
            "709/709 [==============================] - 3s 4ms/step - loss: 0.1820 - accuracy: 0.8994 - val_loss: 0.2126 - val_accuracy: 0.8936\n",
            "Epoch 16/100\n",
            "700/709 [============================>.] - ETA: 0s - loss: 0.1808 - accuracy: 0.9000\n",
            "Epoch 16: val_accuracy did not improve from 0.89361\n",
            "709/709 [==============================] - 3s 4ms/step - loss: 0.1809 - accuracy: 0.9001 - val_loss: 0.2127 - val_accuracy: 0.8924\n",
            "Epoch 17/100\n",
            "701/709 [============================>.] - ETA: 0s - loss: 0.1794 - accuracy: 0.9003\n",
            "Epoch 17: val_accuracy did not improve from 0.89361\n",
            "709/709 [==============================] - 3s 4ms/step - loss: 0.1795 - accuracy: 0.9002 - val_loss: 0.2111 - val_accuracy: 0.8900\n",
            "Epoch 18/100\n",
            "694/709 [============================>.] - ETA: 0s - loss: 0.1782 - accuracy: 0.9009\n",
            "Epoch 18: val_accuracy did not improve from 0.89361\n",
            "709/709 [==============================] - 3s 4ms/step - loss: 0.1782 - accuracy: 0.9010 - val_loss: 0.2124 - val_accuracy: 0.8926\n",
            "Epoch 19/100\n",
            "705/709 [============================>.] - ETA: 0s - loss: 0.1764 - accuracy: 0.9020\n",
            "Epoch 19: val_accuracy did not improve from 0.89361\n",
            "709/709 [==============================] - 3s 4ms/step - loss: 0.1764 - accuracy: 0.9019 - val_loss: 0.2147 - val_accuracy: 0.8933\n",
            "Epoch 20/100\n",
            "702/709 [============================>.] - ETA: 0s - loss: 0.1765 - accuracy: 0.9014\n",
            "Epoch 20: val_accuracy did not improve from 0.89361\n",
            "709/709 [==============================] - 3s 4ms/step - loss: 0.1763 - accuracy: 0.9016 - val_loss: 0.2141 - val_accuracy: 0.8922\n",
            "Epoch 21/100\n",
            "707/709 [============================>.] - ETA: 0s - loss: 0.1754 - accuracy: 0.9018\n",
            "Epoch 21: val_accuracy did not improve from 0.89361\n",
            "709/709 [==============================] - 3s 4ms/step - loss: 0.1753 - accuracy: 0.9018 - val_loss: 0.2150 - val_accuracy: 0.8923\n",
            "Epoch 22/100\n",
            "700/709 [============================>.] - ETA: 0s - loss: 0.1734 - accuracy: 0.9029\n",
            "Epoch 22: val_accuracy did not improve from 0.89361\n",
            "709/709 [==============================] - 3s 4ms/step - loss: 0.1734 - accuracy: 0.9031 - val_loss: 0.2150 - val_accuracy: 0.8901\n",
            "Epoch 23/100\n",
            "701/709 [============================>.] - ETA: 0s - loss: 0.1735 - accuracy: 0.9033\n",
            "Epoch 23: val_accuracy did not improve from 0.89361\n",
            "709/709 [==============================] - 3s 4ms/step - loss: 0.1736 - accuracy: 0.9034 - val_loss: 0.2154 - val_accuracy: 0.8923\n",
            "Epoch 24/100\n",
            "707/709 [============================>.] - ETA: 0s - loss: 0.1727 - accuracy: 0.9028\n",
            "Epoch 24: val_accuracy did not improve from 0.89361\n",
            "709/709 [==============================] - 3s 4ms/step - loss: 0.1726 - accuracy: 0.9028 - val_loss: 0.2176 - val_accuracy: 0.8928\n",
            "Epoch 25/100\n",
            "703/709 [============================>.] - ETA: 0s - loss: 0.1711 - accuracy: 0.9041\n",
            "Epoch 25: val_accuracy did not improve from 0.89361\n",
            "709/709 [==============================] - 5s 7ms/step - loss: 0.1711 - accuracy: 0.9041 - val_loss: 0.2169 - val_accuracy: 0.8859\n",
            "Epoch 26/100\n",
            "704/709 [============================>.] - ETA: 0s - loss: 0.1710 - accuracy: 0.9039\n",
            "Epoch 26: val_accuracy did not improve from 0.89361\n",
            "709/709 [==============================] - 5s 8ms/step - loss: 0.1710 - accuracy: 0.9039 - val_loss: 0.2176 - val_accuracy: 0.8898\n",
            "Epoch 27/100\n",
            "709/709 [==============================] - ETA: 0s - loss: 0.1696 - accuracy: 0.9053\n",
            "Epoch 27: val_accuracy did not improve from 0.89361\n",
            "709/709 [==============================] - 5s 7ms/step - loss: 0.1696 - accuracy: 0.9053 - val_loss: 0.2184 - val_accuracy: 0.8923\n",
            "Epoch 28/100\n",
            "707/709 [============================>.] - ETA: 0s - loss: 0.1697 - accuracy: 0.9046\n",
            "Epoch 28: val_accuracy did not improve from 0.89361\n",
            "709/709 [==============================] - 4s 6ms/step - loss: 0.1696 - accuracy: 0.9047 - val_loss: 0.2190 - val_accuracy: 0.8926\n",
            "Epoch 29/100\n",
            "703/709 [============================>.] - ETA: 0s - loss: 0.1690 - accuracy: 0.9050\n",
            "Epoch 29: val_accuracy did not improve from 0.89361\n",
            "709/709 [==============================] - 3s 4ms/step - loss: 0.1690 - accuracy: 0.9051 - val_loss: 0.2201 - val_accuracy: 0.8932\n",
            "Epoch 30/100\n",
            "699/709 [============================>.] - ETA: 0s - loss: 0.1677 - accuracy: 0.9057\n",
            "Epoch 30: val_accuracy did not improve from 0.89361\n",
            "709/709 [==============================] - 3s 4ms/step - loss: 0.1677 - accuracy: 0.9057 - val_loss: 0.2214 - val_accuracy: 0.8918\n",
            "Epoch 31/100\n",
            "704/709 [============================>.] - ETA: 0s - loss: 0.1681 - accuracy: 0.9053\n",
            "Epoch 31: val_accuracy did not improve from 0.89361\n",
            "709/709 [==============================] - 5s 8ms/step - loss: 0.1680 - accuracy: 0.9053 - val_loss: 0.2243 - val_accuracy: 0.8936\n",
            "Epoch 32/100\n",
            "706/709 [============================>.] - ETA: 0s - loss: 0.1675 - accuracy: 0.9057\n",
            "Epoch 32: val_accuracy did not improve from 0.89361\n",
            "709/709 [==============================] - 4s 6ms/step - loss: 0.1674 - accuracy: 0.9057 - val_loss: 0.2230 - val_accuracy: 0.8929\n",
            "Epoch 33/100\n",
            "704/709 [============================>.] - ETA: 0s - loss: 0.1665 - accuracy: 0.9061\n",
            "Epoch 33: val_accuracy did not improve from 0.89361\n",
            "709/709 [==============================] - 5s 6ms/step - loss: 0.1665 - accuracy: 0.9061 - val_loss: 0.2243 - val_accuracy: 0.8908\n",
            "Epoch 34/100\n",
            "694/709 [============================>.] - ETA: 0s - loss: 0.1660 - accuracy: 0.9062\n",
            "Epoch 34: val_accuracy did not improve from 0.89361\n",
            "709/709 [==============================] - 4s 6ms/step - loss: 0.1661 - accuracy: 0.9061 - val_loss: 0.2247 - val_accuracy: 0.8930\n",
            "Epoch 35/100\n",
            "704/709 [============================>.] - ETA: 0s - loss: 0.1664 - accuracy: 0.9060\n",
            "Epoch 35: val_accuracy did not improve from 0.89361\n",
            "709/709 [==============================] - 3s 4ms/step - loss: 0.1663 - accuracy: 0.9061 - val_loss: 0.2262 - val_accuracy: 0.8934\n",
            "Epoch 36/100\n",
            "702/709 [============================>.] - ETA: 0s - loss: 0.1657 - accuracy: 0.9059\n",
            "Epoch 36: val_accuracy did not improve from 0.89361\n",
            "709/709 [==============================] - 4s 6ms/step - loss: 0.1658 - accuracy: 0.9058 - val_loss: 0.2284 - val_accuracy: 0.8935\n",
            "Epoch 37/100\n",
            "702/709 [============================>.] - ETA: 0s - loss: 0.1646 - accuracy: 0.9073\n",
            "Epoch 37: val_accuracy did not improve from 0.89361\n",
            "709/709 [==============================] - 4s 5ms/step - loss: 0.1644 - accuracy: 0.9074 - val_loss: 0.2297 - val_accuracy: 0.8919\n",
            "Epoch 38/100\n",
            "706/709 [============================>.] - ETA: 0s - loss: 0.1645 - accuracy: 0.9064\n",
            "Epoch 38: val_accuracy improved from 0.89361 to 0.89404, saving model to model1.hdf5\n",
            "709/709 [==============================] - 4s 6ms/step - loss: 0.1645 - accuracy: 0.9063 - val_loss: 0.2286 - val_accuracy: 0.8940\n",
            "Epoch 39/100\n",
            "703/709 [============================>.] - ETA: 0s - loss: 0.1643 - accuracy: 0.9070\n",
            "Epoch 39: val_accuracy did not improve from 0.89404\n",
            "709/709 [==============================] - 4s 6ms/step - loss: 0.1644 - accuracy: 0.9070 - val_loss: 0.2275 - val_accuracy: 0.8931\n",
            "Epoch 40/100\n",
            "706/709 [============================>.] - ETA: 0s - loss: 0.1643 - accuracy: 0.9071\n",
            "Epoch 40: val_accuracy did not improve from 0.89404\n",
            "709/709 [==============================] - 3s 4ms/step - loss: 0.1642 - accuracy: 0.9071 - val_loss: 0.2283 - val_accuracy: 0.8897\n",
            "Epoch 41/100\n",
            "709/709 [==============================] - ETA: 0s - loss: 0.1636 - accuracy: 0.9071\n",
            "Epoch 41: val_accuracy did not improve from 0.89404\n",
            "709/709 [==============================] - 4s 5ms/step - loss: 0.1636 - accuracy: 0.9071 - val_loss: 0.2299 - val_accuracy: 0.8930\n",
            "Epoch 42/100\n",
            "704/709 [============================>.] - ETA: 0s - loss: 0.1635 - accuracy: 0.9071\n",
            "Epoch 42: val_accuracy did not improve from 0.89404\n",
            "709/709 [==============================] - 4s 6ms/step - loss: 0.1635 - accuracy: 0.9071 - val_loss: 0.2291 - val_accuracy: 0.8931\n",
            "Epoch 43/100\n",
            "696/709 [============================>.] - ETA: 0s - loss: 0.1633 - accuracy: 0.9075\n",
            "Epoch 43: val_accuracy did not improve from 0.89404\n",
            "709/709 [==============================] - 3s 4ms/step - loss: 0.1633 - accuracy: 0.9076 - val_loss: 0.2318 - val_accuracy: 0.8893\n",
            "Epoch 44/100\n",
            "705/709 [============================>.] - ETA: 0s - loss: 0.1633 - accuracy: 0.9062\n",
            "Epoch 44: val_accuracy did not improve from 0.89404\n",
            "709/709 [==============================] - 4s 5ms/step - loss: 0.1633 - accuracy: 0.9062 - val_loss: 0.2311 - val_accuracy: 0.8894\n",
            "Epoch 45/100\n",
            "700/709 [============================>.] - ETA: 0s - loss: 0.1621 - accuracy: 0.9070\n",
            "Epoch 45: val_accuracy did not improve from 0.89404\n",
            "709/709 [==============================] - 3s 4ms/step - loss: 0.1622 - accuracy: 0.9071 - val_loss: 0.2335 - val_accuracy: 0.8930\n",
            "Epoch 46/100\n",
            "694/709 [============================>.] - ETA: 0s - loss: 0.1623 - accuracy: 0.9075\n",
            "Epoch 46: val_accuracy did not improve from 0.89404\n",
            "709/709 [==============================] - 3s 4ms/step - loss: 0.1625 - accuracy: 0.9075 - val_loss: 0.2325 - val_accuracy: 0.8937\n",
            "Epoch 47/100\n",
            "708/709 [============================>.] - ETA: 0s - loss: 0.1612 - accuracy: 0.9084\n",
            "Epoch 47: val_accuracy did not improve from 0.89404\n",
            "709/709 [==============================] - 4s 6ms/step - loss: 0.1612 - accuracy: 0.9085 - val_loss: 0.2329 - val_accuracy: 0.8934\n",
            "Epoch 48/100\n",
            "704/709 [============================>.] - ETA: 0s - loss: 0.1615 - accuracy: 0.9071\n",
            "Epoch 48: val_accuracy did not improve from 0.89404\n",
            "709/709 [==============================] - 3s 4ms/step - loss: 0.1617 - accuracy: 0.9071 - val_loss: 0.2326 - val_accuracy: 0.8935\n",
            "Epoch 49/100\n",
            "709/709 [==============================] - ETA: 0s - loss: 0.1618 - accuracy: 0.9081\n",
            "Epoch 49: val_accuracy did not improve from 0.89404\n",
            "709/709 [==============================] - 3s 4ms/step - loss: 0.1618 - accuracy: 0.9081 - val_loss: 0.2372 - val_accuracy: 0.8931\n",
            "Epoch 50/100\n",
            "697/709 [============================>.] - ETA: 0s - loss: 0.1613 - accuracy: 0.9086\n",
            "Epoch 50: val_accuracy did not improve from 0.89404\n",
            "709/709 [==============================] - 3s 4ms/step - loss: 0.1615 - accuracy: 0.9085 - val_loss: 0.2343 - val_accuracy: 0.8932\n",
            "Epoch 51/100\n",
            "702/709 [============================>.] - ETA: 0s - loss: 0.1614 - accuracy: 0.9071\n",
            "Epoch 51: val_accuracy improved from 0.89404 to 0.89428, saving model to model1.hdf5\n",
            "709/709 [==============================] - 3s 4ms/step - loss: 0.1615 - accuracy: 0.9071 - val_loss: 0.2343 - val_accuracy: 0.8943\n",
            "Epoch 52/100\n",
            "699/709 [============================>.] - ETA: 0s - loss: 0.1605 - accuracy: 0.9087\n",
            "Epoch 52: val_accuracy did not improve from 0.89428\n",
            "709/709 [==============================] - 3s 4ms/step - loss: 0.1605 - accuracy: 0.9088 - val_loss: 0.2364 - val_accuracy: 0.8917\n",
            "Epoch 53/100\n",
            "701/709 [============================>.] - ETA: 0s - loss: 0.1615 - accuracy: 0.9065\n",
            "Epoch 53: val_accuracy did not improve from 0.89428\n",
            "709/709 [==============================] - 3s 4ms/step - loss: 0.1614 - accuracy: 0.9065 - val_loss: 0.2374 - val_accuracy: 0.8937\n",
            "Epoch 54/100\n",
            "697/709 [============================>.] - ETA: 0s - loss: 0.1607 - accuracy: 0.9084\n",
            "Epoch 54: val_accuracy did not improve from 0.89428\n",
            "709/709 [==============================] - 3s 4ms/step - loss: 0.1606 - accuracy: 0.9084 - val_loss: 0.2363 - val_accuracy: 0.8898\n",
            "Epoch 55/100\n",
            "697/709 [============================>.] - ETA: 0s - loss: 0.1608 - accuracy: 0.9074\n",
            "Epoch 55: val_accuracy did not improve from 0.89428\n",
            "709/709 [==============================] - 4s 5ms/step - loss: 0.1610 - accuracy: 0.9074 - val_loss: 0.2384 - val_accuracy: 0.8931\n",
            "Epoch 56/100\n",
            "709/709 [==============================] - ETA: 0s - loss: 0.1597 - accuracy: 0.9086\n",
            "Epoch 56: val_accuracy did not improve from 0.89428\n",
            "709/709 [==============================] - 3s 4ms/step - loss: 0.1597 - accuracy: 0.9086 - val_loss: 0.2381 - val_accuracy: 0.8917\n",
            "Epoch 57/100\n",
            "697/709 [============================>.] - ETA: 0s - loss: 0.1590 - accuracy: 0.9087\n",
            "Epoch 57: val_accuracy did not improve from 0.89428\n",
            "709/709 [==============================] - 3s 4ms/step - loss: 0.1591 - accuracy: 0.9086 - val_loss: 0.2450 - val_accuracy: 0.8930\n",
            "Epoch 58/100\n",
            "701/709 [============================>.] - ETA: 0s - loss: 0.1604 - accuracy: 0.9078\n",
            "Epoch 58: val_accuracy did not improve from 0.89428\n",
            "709/709 [==============================] - 3s 4ms/step - loss: 0.1605 - accuracy: 0.9077 - val_loss: 0.2414 - val_accuracy: 0.8919\n",
            "Epoch 59/100\n",
            "707/709 [============================>.] - ETA: 0s - loss: 0.1603 - accuracy: 0.9083\n",
            "Epoch 59: val_accuracy did not improve from 0.89428\n",
            "709/709 [==============================] - 3s 4ms/step - loss: 0.1602 - accuracy: 0.9084 - val_loss: 0.2403 - val_accuracy: 0.8934\n",
            "Epoch 60/100\n",
            "702/709 [============================>.] - ETA: 0s - loss: 0.1594 - accuracy: 0.9079\n",
            "Epoch 60: val_accuracy did not improve from 0.89428\n",
            "709/709 [==============================] - 3s 4ms/step - loss: 0.1592 - accuracy: 0.9080 - val_loss: 0.2424 - val_accuracy: 0.8935\n",
            "Epoch 61/100\n",
            "697/709 [============================>.] - ETA: 0s - loss: 0.1592 - accuracy: 0.9095\n",
            "Epoch 61: val_accuracy did not improve from 0.89428\n",
            "709/709 [==============================] - 3s 4ms/step - loss: 0.1595 - accuracy: 0.9094 - val_loss: 0.2418 - val_accuracy: 0.8925\n",
            "Epoch 62/100\n",
            "702/709 [============================>.] - ETA: 0s - loss: 0.1599 - accuracy: 0.9073\n",
            "Epoch 62: val_accuracy did not improve from 0.89428\n",
            "709/709 [==============================] - 4s 6ms/step - loss: 0.1599 - accuracy: 0.9073 - val_loss: 0.2415 - val_accuracy: 0.8930\n",
            "Epoch 63/100\n",
            "701/709 [============================>.] - ETA: 0s - loss: 0.1593 - accuracy: 0.9089\n",
            "Epoch 63: val_accuracy did not improve from 0.89428\n",
            "709/709 [==============================] - 5s 6ms/step - loss: 0.1593 - accuracy: 0.9090 - val_loss: 0.2415 - val_accuracy: 0.8933\n",
            "Epoch 64/100\n",
            "705/709 [============================>.] - ETA: 0s - loss: 0.1591 - accuracy: 0.9081\n",
            "Epoch 64: val_accuracy did not improve from 0.89428\n",
            "709/709 [==============================] - 3s 4ms/step - loss: 0.1590 - accuracy: 0.9082 - val_loss: 0.2436 - val_accuracy: 0.8909\n",
            "Epoch 65/100\n",
            "707/709 [============================>.] - ETA: 0s - loss: 0.1587 - accuracy: 0.9089\n",
            "Epoch 65: val_accuracy did not improve from 0.89428\n",
            "709/709 [==============================] - 5s 7ms/step - loss: 0.1587 - accuracy: 0.9089 - val_loss: 0.2427 - val_accuracy: 0.8884\n",
            "Epoch 66/100\n",
            "708/709 [============================>.] - ETA: 0s - loss: 0.1588 - accuracy: 0.9086\n",
            "Epoch 66: val_accuracy did not improve from 0.89428\n",
            "709/709 [==============================] - 5s 7ms/step - loss: 0.1589 - accuracy: 0.9085 - val_loss: 0.2450 - val_accuracy: 0.8892\n",
            "Epoch 67/100\n",
            "709/709 [==============================] - ETA: 0s - loss: 0.1585 - accuracy: 0.9080\n",
            "Epoch 67: val_accuracy did not improve from 0.89428\n",
            "709/709 [==============================] - 3s 5ms/step - loss: 0.1585 - accuracy: 0.9080 - val_loss: 0.2448 - val_accuracy: 0.8882\n",
            "Epoch 68/100\n",
            "709/709 [==============================] - ETA: 0s - loss: 0.1583 - accuracy: 0.9097\n",
            "Epoch 68: val_accuracy did not improve from 0.89428\n",
            "709/709 [==============================] - 4s 6ms/step - loss: 0.1583 - accuracy: 0.9097 - val_loss: 0.2424 - val_accuracy: 0.8885\n",
            "Epoch 69/100\n",
            "709/709 [==============================] - ETA: 0s - loss: 0.1595 - accuracy: 0.9081\n",
            "Epoch 69: val_accuracy did not improve from 0.89428\n",
            "709/709 [==============================] - 4s 5ms/step - loss: 0.1595 - accuracy: 0.9081 - val_loss: 0.2445 - val_accuracy: 0.8867\n",
            "Epoch 70/100\n",
            "700/709 [============================>.] - ETA: 0s - loss: 0.1585 - accuracy: 0.9078\n",
            "Epoch 70: val_accuracy did not improve from 0.89428\n",
            "709/709 [==============================] - 4s 6ms/step - loss: 0.1583 - accuracy: 0.9078 - val_loss: 0.2444 - val_accuracy: 0.8941\n",
            "Epoch 71/100\n",
            "703/709 [============================>.] - ETA: 0s - loss: 0.1577 - accuracy: 0.9083\n",
            "Epoch 71: val_accuracy did not improve from 0.89428\n",
            "709/709 [==============================] - 4s 5ms/step - loss: 0.1577 - accuracy: 0.9083 - val_loss: 0.2493 - val_accuracy: 0.8930\n",
            "Epoch 72/100\n",
            "709/709 [==============================] - ETA: 0s - loss: 0.1590 - accuracy: 0.9081\n",
            "Epoch 72: val_accuracy did not improve from 0.89428\n",
            "709/709 [==============================] - 3s 4ms/step - loss: 0.1590 - accuracy: 0.9081 - val_loss: 0.2453 - val_accuracy: 0.8934\n",
            "Epoch 73/100\n",
            "695/709 [============================>.] - ETA: 0s - loss: 0.1579 - accuracy: 0.9087\n",
            "Epoch 73: val_accuracy did not improve from 0.89428\n",
            "709/709 [==============================] - 3s 4ms/step - loss: 0.1584 - accuracy: 0.9083 - val_loss: 0.2469 - val_accuracy: 0.8939\n",
            "Epoch 74/100\n",
            "706/709 [============================>.] - ETA: 0s - loss: 0.1572 - accuracy: 0.9089\n",
            "Epoch 74: val_accuracy did not improve from 0.89428\n",
            "709/709 [==============================] - 3s 4ms/step - loss: 0.1572 - accuracy: 0.9088 - val_loss: 0.2478 - val_accuracy: 0.8934\n",
            "Epoch 75/100\n",
            "703/709 [============================>.] - ETA: 0s - loss: 0.1578 - accuracy: 0.9094\n",
            "Epoch 75: val_accuracy did not improve from 0.89428\n",
            "709/709 [==============================] - 4s 5ms/step - loss: 0.1577 - accuracy: 0.9094 - val_loss: 0.2453 - val_accuracy: 0.8907\n",
            "Epoch 76/100\n",
            "707/709 [============================>.] - ETA: 0s - loss: 0.1587 - accuracy: 0.9077\n",
            "Epoch 76: val_accuracy did not improve from 0.89428\n",
            "709/709 [==============================] - 3s 4ms/step - loss: 0.1587 - accuracy: 0.9076 - val_loss: 0.2451 - val_accuracy: 0.8928\n",
            "Epoch 77/100\n",
            "698/709 [============================>.] - ETA: 0s - loss: 0.1577 - accuracy: 0.9099\n",
            "Epoch 77: val_accuracy did not improve from 0.89428\n",
            "709/709 [==============================] - 3s 4ms/step - loss: 0.1576 - accuracy: 0.9101 - val_loss: 0.2465 - val_accuracy: 0.8941\n",
            "Epoch 78/100\n",
            "703/709 [============================>.] - ETA: 0s - loss: 0.1573 - accuracy: 0.9088\n",
            "Epoch 78: val_accuracy did not improve from 0.89428\n",
            "709/709 [==============================] - 3s 4ms/step - loss: 0.1573 - accuracy: 0.9089 - val_loss: 0.2481 - val_accuracy: 0.8924\n",
            "Epoch 79/100\n",
            "706/709 [============================>.] - ETA: 0s - loss: 0.1567 - accuracy: 0.9097\n",
            "Epoch 79: val_accuracy did not improve from 0.89428\n",
            "709/709 [==============================] - 5s 7ms/step - loss: 0.1566 - accuracy: 0.9097 - val_loss: 0.2467 - val_accuracy: 0.8938\n",
            "Epoch 80/100\n",
            "698/709 [============================>.] - ETA: 0s - loss: 0.1582 - accuracy: 0.9083\n",
            "Epoch 80: val_accuracy did not improve from 0.89428\n",
            "709/709 [==============================] - 4s 5ms/step - loss: 0.1580 - accuracy: 0.9085 - val_loss: 0.2485 - val_accuracy: 0.8934\n",
            "Epoch 81/100\n",
            "699/709 [============================>.] - ETA: 0s - loss: 0.1563 - accuracy: 0.9100\n",
            "Epoch 81: val_accuracy did not improve from 0.89428\n",
            "709/709 [==============================] - 3s 4ms/step - loss: 0.1561 - accuracy: 0.9101 - val_loss: 0.2494 - val_accuracy: 0.8943\n",
            "Epoch 82/100\n",
            "699/709 [============================>.] - ETA: 0s - loss: 0.1579 - accuracy: 0.9076\n",
            "Epoch 82: val_accuracy did not improve from 0.89428\n",
            "709/709 [==============================] - 3s 4ms/step - loss: 0.1580 - accuracy: 0.9074 - val_loss: 0.2479 - val_accuracy: 0.8926\n",
            "Epoch 83/100\n",
            "708/709 [============================>.] - ETA: 0s - loss: 0.1564 - accuracy: 0.9096\n",
            "Epoch 83: val_accuracy did not improve from 0.89428\n",
            "709/709 [==============================] - 3s 4ms/step - loss: 0.1564 - accuracy: 0.9096 - val_loss: 0.2539 - val_accuracy: 0.8909\n",
            "Epoch 84/100\n",
            "706/709 [============================>.] - ETA: 0s - loss: 0.1573 - accuracy: 0.9091\n",
            "Epoch 84: val_accuracy did not improve from 0.89428\n",
            "709/709 [==============================] - 3s 5ms/step - loss: 0.1573 - accuracy: 0.9091 - val_loss: 0.2497 - val_accuracy: 0.8933\n",
            "Epoch 85/100\n",
            "709/709 [==============================] - ETA: 0s - loss: 0.1574 - accuracy: 0.9086\n",
            "Epoch 85: val_accuracy did not improve from 0.89428\n",
            "709/709 [==============================] - 4s 5ms/step - loss: 0.1574 - accuracy: 0.9086 - val_loss: 0.2506 - val_accuracy: 0.8938\n",
            "Epoch 86/100\n",
            "706/709 [============================>.] - ETA: 0s - loss: 0.1568 - accuracy: 0.9089\n",
            "Epoch 86: val_accuracy did not improve from 0.89428\n",
            "709/709 [==============================] - 3s 4ms/step - loss: 0.1570 - accuracy: 0.9088 - val_loss: 0.2494 - val_accuracy: 0.8906\n",
            "Epoch 87/100\n",
            "707/709 [============================>.] - ETA: 0s - loss: 0.1572 - accuracy: 0.9091\n",
            "Epoch 87: val_accuracy did not improve from 0.89428\n",
            "709/709 [==============================] - 3s 4ms/step - loss: 0.1572 - accuracy: 0.9091 - val_loss: 0.2509 - val_accuracy: 0.8940\n",
            "Epoch 88/100\n",
            "709/709 [==============================] - ETA: 0s - loss: 0.1563 - accuracy: 0.9100\n",
            "Epoch 88: val_accuracy did not improve from 0.89428\n",
            "709/709 [==============================] - 3s 4ms/step - loss: 0.1563 - accuracy: 0.9100 - val_loss: 0.2495 - val_accuracy: 0.8934\n",
            "Epoch 89/100\n",
            "695/709 [============================>.] - ETA: 0s - loss: 0.1582 - accuracy: 0.9085\n",
            "Epoch 89: val_accuracy did not improve from 0.89428\n",
            "709/709 [==============================] - 3s 4ms/step - loss: 0.1582 - accuracy: 0.9086 - val_loss: 0.2526 - val_accuracy: 0.8930\n",
            "Epoch 90/100\n",
            "707/709 [============================>.] - ETA: 0s - loss: 0.1561 - accuracy: 0.9098\n",
            "Epoch 90: val_accuracy did not improve from 0.89428\n",
            "709/709 [==============================] - 3s 4ms/step - loss: 0.1560 - accuracy: 0.9098 - val_loss: 0.2505 - val_accuracy: 0.8923\n",
            "Epoch 91/100\n",
            "704/709 [============================>.] - ETA: 0s - loss: 0.1571 - accuracy: 0.9088\n",
            "Epoch 91: val_accuracy did not improve from 0.89428\n",
            "709/709 [==============================] - 3s 4ms/step - loss: 0.1572 - accuracy: 0.9087 - val_loss: 0.2496 - val_accuracy: 0.8929\n",
            "Epoch 92/100\n",
            "701/709 [============================>.] - ETA: 0s - loss: 0.1571 - accuracy: 0.9081\n",
            "Epoch 92: val_accuracy did not improve from 0.89428\n",
            "709/709 [==============================] - 3s 4ms/step - loss: 0.1570 - accuracy: 0.9081 - val_loss: 0.2517 - val_accuracy: 0.8917\n",
            "Epoch 93/100\n",
            "699/709 [============================>.] - ETA: 0s - loss: 0.1567 - accuracy: 0.9094\n",
            "Epoch 93: val_accuracy did not improve from 0.89428\n",
            "709/709 [==============================] - 3s 4ms/step - loss: 0.1566 - accuracy: 0.9097 - val_loss: 0.2505 - val_accuracy: 0.8942\n",
            "Epoch 94/100\n",
            "705/709 [============================>.] - ETA: 0s - loss: 0.1564 - accuracy: 0.9095\n",
            "Epoch 94: val_accuracy did not improve from 0.89428\n",
            "709/709 [==============================] - 4s 5ms/step - loss: 0.1563 - accuracy: 0.9096 - val_loss: 0.2528 - val_accuracy: 0.8932\n",
            "Epoch 95/100\n",
            "697/709 [============================>.] - ETA: 0s - loss: 0.1567 - accuracy: 0.9090\n",
            "Epoch 95: val_accuracy did not improve from 0.89428\n",
            "709/709 [==============================] - 3s 4ms/step - loss: 0.1566 - accuracy: 0.9091 - val_loss: 0.2505 - val_accuracy: 0.8935\n",
            "Epoch 96/100\n",
            "697/709 [============================>.] - ETA: 0s - loss: 0.1554 - accuracy: 0.9098\n",
            "Epoch 96: val_accuracy did not improve from 0.89428\n",
            "709/709 [==============================] - 3s 4ms/step - loss: 0.1557 - accuracy: 0.9096 - val_loss: 0.2552 - val_accuracy: 0.8932\n",
            "Epoch 97/100\n",
            "708/709 [============================>.] - ETA: 0s - loss: 0.1568 - accuracy: 0.9086\n",
            "Epoch 97: val_accuracy did not improve from 0.89428\n",
            "709/709 [==============================] - 3s 4ms/step - loss: 0.1568 - accuracy: 0.9086 - val_loss: 0.2529 - val_accuracy: 0.8895\n",
            "Epoch 98/100\n",
            "700/709 [============================>.] - ETA: 0s - loss: 0.1561 - accuracy: 0.9102\n",
            "Epoch 98: val_accuracy did not improve from 0.89428\n",
            "709/709 [==============================] - 3s 4ms/step - loss: 0.1563 - accuracy: 0.9102 - val_loss: 0.2535 - val_accuracy: 0.8933\n",
            "Epoch 99/100\n",
            "707/709 [============================>.] - ETA: 0s - loss: 0.1550 - accuracy: 0.9098\n",
            "Epoch 99: val_accuracy did not improve from 0.89428\n",
            "709/709 [==============================] - 3s 5ms/step - loss: 0.1550 - accuracy: 0.9098 - val_loss: 0.2533 - val_accuracy: 0.8926\n",
            "Epoch 100/100\n",
            "706/709 [============================>.] - ETA: 0s - loss: 0.1571 - accuracy: 0.9080\n",
            "Epoch 100: val_accuracy did not improve from 0.89428\n",
            "709/709 [==============================] - 4s 6ms/step - loss: 0.1572 - accuracy: 0.9080 - val_loss: 0.2533 - val_accuracy: 0.8932\n"
          ]
        }
      ]
    },
    {
      "cell_type": "code",
      "source": [
        "print('Summary of the results after each epoch: ')\n",
        "hist = pd.DataFrame(history.history)\n",
        "hist['epoch'] = history.epoch\n",
        "hist.tail()"
      ],
      "metadata": {
        "colab": {
          "base_uri": "https://localhost:8080/",
          "height": 224
        },
        "id": "U_Z4M4wBH7f6",
        "outputId": "ed86630a-5b59-45cb-8b53-e2ccc68ea668"
      },
      "id": "U_Z4M4wBH7f6",
      "execution_count": null,
      "outputs": [
        {
          "output_type": "stream",
          "name": "stdout",
          "text": [
            "Summary of the results after each epoch: \n"
          ]
        },
        {
          "output_type": "execute_result",
          "data": {
            "text/plain": [
              "        loss  accuracy  val_loss  val_accuracy  epoch\n",
              "95  0.155674  0.909579  0.255184      0.893152     95\n",
              "96  0.156763  0.908597  0.252863      0.889484     96\n",
              "97  0.156283  0.910241  0.253518      0.893317     97\n",
              "98  0.155007  0.909778  0.253286      0.892623     98\n",
              "99  0.157208  0.908013  0.253344      0.893185     99"
            ],
            "text/html": [
              "\n",
              "  <div id=\"df-c15f47e5-e98c-4a87-9d63-f7a08c6728ac\">\n",
              "    <div class=\"colab-df-container\">\n",
              "      <div>\n",
              "<style scoped>\n",
              "    .dataframe tbody tr th:only-of-type {\n",
              "        vertical-align: middle;\n",
              "    }\n",
              "\n",
              "    .dataframe tbody tr th {\n",
              "        vertical-align: top;\n",
              "    }\n",
              "\n",
              "    .dataframe thead th {\n",
              "        text-align: right;\n",
              "    }\n",
              "</style>\n",
              "<table border=\"1\" class=\"dataframe\">\n",
              "  <thead>\n",
              "    <tr style=\"text-align: right;\">\n",
              "      <th></th>\n",
              "      <th>loss</th>\n",
              "      <th>accuracy</th>\n",
              "      <th>val_loss</th>\n",
              "      <th>val_accuracy</th>\n",
              "      <th>epoch</th>\n",
              "    </tr>\n",
              "  </thead>\n",
              "  <tbody>\n",
              "    <tr>\n",
              "      <th>95</th>\n",
              "      <td>0.155674</td>\n",
              "      <td>0.909579</td>\n",
              "      <td>0.255184</td>\n",
              "      <td>0.893152</td>\n",
              "      <td>95</td>\n",
              "    </tr>\n",
              "    <tr>\n",
              "      <th>96</th>\n",
              "      <td>0.156763</td>\n",
              "      <td>0.908597</td>\n",
              "      <td>0.252863</td>\n",
              "      <td>0.889484</td>\n",
              "      <td>96</td>\n",
              "    </tr>\n",
              "    <tr>\n",
              "      <th>97</th>\n",
              "      <td>0.156283</td>\n",
              "      <td>0.910241</td>\n",
              "      <td>0.253518</td>\n",
              "      <td>0.893317</td>\n",
              "      <td>97</td>\n",
              "    </tr>\n",
              "    <tr>\n",
              "      <th>98</th>\n",
              "      <td>0.155007</td>\n",
              "      <td>0.909778</td>\n",
              "      <td>0.253286</td>\n",
              "      <td>0.892623</td>\n",
              "      <td>98</td>\n",
              "    </tr>\n",
              "    <tr>\n",
              "      <th>99</th>\n",
              "      <td>0.157208</td>\n",
              "      <td>0.908013</td>\n",
              "      <td>0.253344</td>\n",
              "      <td>0.893185</td>\n",
              "      <td>99</td>\n",
              "    </tr>\n",
              "  </tbody>\n",
              "</table>\n",
              "</div>\n",
              "      <button class=\"colab-df-convert\" onclick=\"convertToInteractive('df-c15f47e5-e98c-4a87-9d63-f7a08c6728ac')\"\n",
              "              title=\"Convert this dataframe to an interactive table.\"\n",
              "              style=\"display:none;\">\n",
              "        \n",
              "  <svg xmlns=\"http://www.w3.org/2000/svg\" height=\"24px\"viewBox=\"0 0 24 24\"\n",
              "       width=\"24px\">\n",
              "    <path d=\"M0 0h24v24H0V0z\" fill=\"none\"/>\n",
              "    <path d=\"M18.56 5.44l.94 2.06.94-2.06 2.06-.94-2.06-.94-.94-2.06-.94 2.06-2.06.94zm-11 1L8.5 8.5l.94-2.06 2.06-.94-2.06-.94L8.5 2.5l-.94 2.06-2.06.94zm10 10l.94 2.06.94-2.06 2.06-.94-2.06-.94-.94-2.06-.94 2.06-2.06.94z\"/><path d=\"M17.41 7.96l-1.37-1.37c-.4-.4-.92-.59-1.43-.59-.52 0-1.04.2-1.43.59L10.3 9.45l-7.72 7.72c-.78.78-.78 2.05 0 2.83L4 21.41c.39.39.9.59 1.41.59.51 0 1.02-.2 1.41-.59l7.78-7.78 2.81-2.81c.8-.78.8-2.07 0-2.86zM5.41 20L4 18.59l7.72-7.72 1.47 1.35L5.41 20z\"/>\n",
              "  </svg>\n",
              "      </button>\n",
              "      \n",
              "  <style>\n",
              "    .colab-df-container {\n",
              "      display:flex;\n",
              "      flex-wrap:wrap;\n",
              "      gap: 12px;\n",
              "    }\n",
              "\n",
              "    .colab-df-convert {\n",
              "      background-color: #E8F0FE;\n",
              "      border: none;\n",
              "      border-radius: 50%;\n",
              "      cursor: pointer;\n",
              "      display: none;\n",
              "      fill: #1967D2;\n",
              "      height: 32px;\n",
              "      padding: 0 0 0 0;\n",
              "      width: 32px;\n",
              "    }\n",
              "\n",
              "    .colab-df-convert:hover {\n",
              "      background-color: #E2EBFA;\n",
              "      box-shadow: 0px 1px 2px rgba(60, 64, 67, 0.3), 0px 1px 3px 1px rgba(60, 64, 67, 0.15);\n",
              "      fill: #174EA6;\n",
              "    }\n",
              "\n",
              "    [theme=dark] .colab-df-convert {\n",
              "      background-color: #3B4455;\n",
              "      fill: #D2E3FC;\n",
              "    }\n",
              "\n",
              "    [theme=dark] .colab-df-convert:hover {\n",
              "      background-color: #434B5C;\n",
              "      box-shadow: 0px 1px 3px 1px rgba(0, 0, 0, 0.15);\n",
              "      filter: drop-shadow(0px 1px 2px rgba(0, 0, 0, 0.3));\n",
              "      fill: #FFFFFF;\n",
              "    }\n",
              "  </style>\n",
              "\n",
              "      <script>\n",
              "        const buttonEl =\n",
              "          document.querySelector('#df-c15f47e5-e98c-4a87-9d63-f7a08c6728ac button.colab-df-convert');\n",
              "        buttonEl.style.display =\n",
              "          google.colab.kernel.accessAllowed ? 'block' : 'none';\n",
              "\n",
              "        async function convertToInteractive(key) {\n",
              "          const element = document.querySelector('#df-c15f47e5-e98c-4a87-9d63-f7a08c6728ac');\n",
              "          const dataTable =\n",
              "            await google.colab.kernel.invokeFunction('convertToInteractive',\n",
              "                                                     [key], {});\n",
              "          if (!dataTable) return;\n",
              "\n",
              "          const docLinkHtml = 'Like what you see? Visit the ' +\n",
              "            '<a target=\"_blank\" href=https://colab.research.google.com/notebooks/data_table.ipynb>data table notebook</a>'\n",
              "            + ' to learn more about interactive tables.';\n",
              "          element.innerHTML = '';\n",
              "          dataTable['output_type'] = 'display_data';\n",
              "          await google.colab.output.renderOutput(dataTable, element);\n",
              "          const docLink = document.createElement('div');\n",
              "          docLink.innerHTML = docLinkHtml;\n",
              "          element.appendChild(docLink);\n",
              "        }\n",
              "      </script>\n",
              "    </div>\n",
              "  </div>\n",
              "  "
            ]
          },
          "metadata": {},
          "execution_count": 27
        }
      ]
    },
    {
      "cell_type": "code",
      "source": [
        "from matplotlib import pyplot as plt\n",
        "plt.plot(history.history['accuracy'])\n",
        "plt.plot(history.history['val_accuracy'])\n",
        "plt.title('model accuracy')\n",
        "plt.ylabel('accuracy')\n",
        "plt.xlabel('epoch')\n",
        "plt.legend(['Train', 'Cross-Validation'], loc='upper left')\n",
        "plt.show()"
      ],
      "metadata": {
        "colab": {
          "base_uri": "https://localhost:8080/",
          "height": 295
        },
        "id": "NkpNQFO1YuPM",
        "outputId": "149cd7d1-edae-42ee-f506-d9f611b42d29"
      },
      "id": "NkpNQFO1YuPM",
      "execution_count": null,
      "outputs": [
        {
          "output_type": "display_data",
          "data": {
            "text/plain": [
              "<Figure size 432x288 with 1 Axes>"
            ],
            "image/png": "[encoded data removed]"
          },
          "metadata": {
            "needs_background": "light"
          }
        }
      ]
    },
    {
      "cell_type": "code",
      "source": [
        "plt.plot(history.history['loss'])\n",
        "plt.plot(history.history['val_loss'])\n",
        "plt.title('Model Loss')\n",
        "plt.ylabel('Loss')\n",
        "plt.xlabel('epoch')\n",
        "plt.legend(['Train', 'Cross-Validation'], loc='upper left')\n",
        "plt.show()"
      ],
      "metadata": {
        "colab": {
          "base_uri": "https://localhost:8080/",
          "height": 295
        },
        "id": "TMQU44fzYu4j",
        "outputId": "986fdba9-23de-41b7-ef4e-858c43c75d29"
      },
      "id": "TMQU44fzYu4j",
      "execution_count": null,
      "outputs": [
        {
          "output_type": "display_data",
          "data": {
            "text/plain": [
              "<Figure size 432x288 with 1 Axes>"
            ],
            "image/png": "[encoded data removed]"
          },
          "metadata": {
            "needs_background": "light"
          }
        }
      ]
    },
    {
      "cell_type": "code",
      "source": [
        "print('Train Split: ')\n",
        "loss, accuracy = model.evaluate(X_train_cv, y_train, verbose=1)\n",
        "print(\"Accuracy   : {:5.2f} \".format(accuracy))\n",
        "\n",
        "print('Evaluation Split: ')\n",
        "loss, accuracy =  model.evaluate(X_valid_cv, y_valid, verbose=2)\n",
        "print(\"Accuracy   : {:5.2f} \".format(accuracy))\n",
        "\n",
        "print('Test Split: ')\n",
        "loss, accuracy =  model.evaluate(X_test_cv, y_test, verbose=2)\n",
        "print(\"Accuracy   : {:5.2f} \".format(accuracy))"
      ],
      "metadata": {
        "colab": {
          "base_uri": "https://localhost:8080/"
        },
        "id": "rRoB-B4KY3BF",
        "outputId": "7b97fb1b-dc3c-479a-9161-f2da1f51fb58"
      },
      "id": "rRoB-B4KY3BF",
      "execution_count": null,
      "outputs": [
        {
          "output_type": "stream",
          "name": "stdout",
          "text": [
            "Train Split: \n",
            "2837/2837 [==============================] - 6s 2ms/step - loss: 0.1539 - accuracy: 0.9107\n",
            "Accuracy   :  0.91 \n",
            "Evaluation Split: \n",
            "946/946 - 2s - loss: 0.2533 - accuracy: 0.8932 - 2s/epoch - 2ms/step\n",
            "Accuracy   :  0.89 \n",
            "Test Split: \n",
            "946/946 - 2s - loss: 0.2434 - accuracy: 0.8948 - 2s/epoch - 2ms/step\n",
            "Accuracy   :  0.89 \n"
          ]
        }
      ]
    },
    {
      "cell_type": "code",
      "source": [
        "prob = model.predict(X_test_cv)\n",
        "\n",
        "ann_pred=(prob > 0.5).astype('int')\n",
        "\n",
        "cm = confusion_matrix(y_test, ann_pred)\n",
        "ac = accuracy_score(y_test, ann_pred)\n",
        "# Accuracy of Our Model\n",
        "print(\"Accuracy of ANN model is: \",ac)\n",
        "print()\n",
        "# print confusion matrix\n",
        "sn.heatmap(cm, square=True, annot=True, cmap='Blues', fmt='d', cbar=False)\n",
        "\n",
        "print(classification_report(y_test, ann_pred))"
      ],
      "metadata": {
        "colab": {
          "base_uri": "https://localhost:8080/",
          "height": 473
        },
        "id": "lyfp1jeHsbmb",
        "outputId": "9deebb46-a627-460a-d9e2-410b5d3f831d"
      },
      "id": "lyfp1jeHsbmb",
      "execution_count": null,
      "outputs": [
        {
          "output_type": "stream",
          "name": "stdout",
          "text": [
            "946/946 [==============================] - 1s 1ms/step\n",
            "Accuracy of ANN model is:  0.8948012030273986\n",
            "\n",
            "              precision    recall  f1-score   support\n",
            "\n",
            "           0       0.85      0.96      0.90     14916\n",
            "           1       0.96      0.83      0.89     15341\n",
            "\n",
            "    accuracy                           0.89     30257\n",
            "   macro avg       0.90      0.90      0.89     30257\n",
            "weighted avg       0.90      0.89      0.89     30257\n",
            "\n"
          ]
        },
        {
          "output_type": "display_data",
          "data": {
            "text/plain": [
              "<Figure size 432x288 with 1 Axes>"
            ],
            "image/png": "[encoded data removed]"
          },
          "metadata": {
            "needs_background": "light"
          }
        }
      ]
    },
    {
      "cell_type": "code",
      "source": [
        "cv_results = []\n",
        "cv_results.append(('Classifier','Accurary','Precision', 'Recall','F1-Score'))"
      ],
      "metadata": {
        "id": "CL3UuOMQuDoF"
      },
      "id": "CL3UuOMQuDoF",
      "execution_count": null,
      "outputs": []
    },
    {
      "cell_type": "code",
      "source": [
        "cv_results.append((\"ANN \", accuracy_score(y_test,  ann_pred)*100,\n",
        "                precision_score(y_test,  ann_pred)*100,\n",
        "                recall_score(y_test,  ann_pred)*100,\n",
        "                f1_score(y_test,  ann_pred)*100 ))"
      ],
      "metadata": {
        "id": "ZIcVzXdBS_WQ"
      },
      "id": "ZIcVzXdBS_WQ",
      "execution_count": null,
      "outputs": []
    },
    {
      "cell_type": "code",
      "source": [],
      "metadata": {
        "id": "q8kTl6rVswN_"
      },
      "id": "q8kTl6rVswN_",
      "execution_count": null,
      "outputs": []
    },
    {
      "cell_type": "markdown",
      "source": [
        "### Visualize neural Network"
      ],
      "metadata": {
        "id": "_-L5arPvVKcB"
      },
      "id": "_-L5arPvVKcB"
    },
    {
      "cell_type": "code",
      "source": [
        "!pip install ann_visualizer\n",
        "!pip install graphviz\n",
        "!pip install h5py"
      ],
      "metadata": {
        "id": "1rgIhrgSS1Zf"
      },
      "id": "1rgIhrgSS1Zf",
      "execution_count": null,
      "outputs": []
    },
    {
      "cell_type": "code",
      "source": [
        "from ann_visualizer.visualize import ann_viz;\n",
        "from keras.models import model_from_json"
      ],
      "metadata": {
        "id": "L539mg8wTNAZ"
      },
      "id": "L539mg8wTNAZ",
      "execution_count": null,
      "outputs": []
    },
    {
      "cell_type": "code",
      "source": [
        "model = model_from_json(model.to_json())\n",
        "# load weights into new model\n",
        "model.load_weights(\"/content/model1.hdf5\")\n",
        "ann_viz(model, title=\"Artificial Neural network - Model Visualization\")"
      ],
      "metadata": {
        "id": "kwSgh2FuS_a1"
      },
      "id": "kwSgh2FuS_a1",
      "execution_count": null,
      "outputs": []
    },
    {
      "cell_type": "markdown",
      "id": "861130f6",
      "metadata": {
        "id": "861130f6"
      },
      "source": [
        "### logistic regression"
      ]
    },
    {
      "cell_type": "code",
      "execution_count": null,
      "id": "3b95282a",
      "metadata": {
        "id": "3b95282a",
        "outputId": "0cd8a0a8-4d0e-4f15-f65e-f2771e084a0d",
        "colab": {
          "base_uri": "https://localhost:8080/"
        }
      },
      "outputs": [
        {
          "output_type": "stream",
          "name": "stderr",
          "text": [
            "/usr/local/lib/python3.7/dist-packages/sklearn/linear_model/_logistic.py:818: ConvergenceWarning: lbfgs failed to converge (status=1):\n",
            "STOP: TOTAL NO. of ITERATIONS REACHED LIMIT.\n",
            "\n",
            "Increase the number of iterations (max_iter) or scale the data as shown in:\n",
            "    https://scikit-learn.org/stable/modules/preprocessing.html\n",
            "Please also refer to the documentation for alternative solver options:\n",
            "    https://scikit-learn.org/stable/modules/linear_model.html#logistic-regression\n",
            "  extra_warning_msg=_LOGISTIC_SOLVER_CONVERGENCE_MSG,\n"
          ]
        },
        {
          "output_type": "execute_result",
          "data": {
            "text/plain": [
              "LogisticRegression()"
            ]
          },
          "metadata": {},
          "execution_count": 38
        }
      ],
      "source": [
        "# Model Building using logistic regression\n",
        "logit = LogisticRegression()\n",
        "logit.fit(X_train_cv, y_train)"
      ]
    },
    {
      "cell_type": "code",
      "execution_count": null,
      "id": "f7cc293d",
      "metadata": {
        "id": "f7cc293d",
        "outputId": "8cefe045-efb8-4ab7-8658-0cb7dbd0c180",
        "colab": {
          "base_uri": "https://localhost:8080/",
          "height": 456
        }
      },
      "outputs": [
        {
          "output_type": "stream",
          "name": "stdout",
          "text": [
            "Accuracy of Logistic Regression model is:  0.8898106223353274\n",
            "\n",
            "              precision    recall  f1-score   support\n",
            "\n",
            "           0       0.85      0.95      0.89     14916\n",
            "           1       0.94      0.83      0.88     15341\n",
            "\n",
            "    accuracy                           0.89     30257\n",
            "   macro avg       0.89      0.89      0.89     30257\n",
            "weighted avg       0.90      0.89      0.89     30257\n",
            "\n"
          ]
        },
        {
          "output_type": "display_data",
          "data": {
            "text/plain": [
              "<Figure size 432x288 with 1 Axes>"
            ],
            "image/png": "[encoded data removed]"
          },
          "metadata": {
            "needs_background": "light"
          }
        }
      ],
      "source": [
        "logit_cv_pred = logit.predict(X_test_cv)\n",
        "\n",
        "cm = confusion_matrix(y_test, logit_cv_pred)\n",
        "ac = accuracy_score(y_test, logit_cv_pred)\n",
        "# Accuracy of Our Model\n",
        "print(\"Accuracy of Logistic Regression model is: \",ac)\n",
        "print()\n",
        "# print confusion matrix\n",
        "sn.heatmap(cm, square=True, annot=True, cmap='Blues', fmt='d', cbar=False)\n",
        "\n",
        "print(classification_report(y_test, logit_cv_pred))"
      ]
    },
    {
      "cell_type": "code",
      "execution_count": null,
      "id": "351e67b7",
      "metadata": {
        "id": "351e67b7"
      },
      "outputs": [],
      "source": [
        "cv_results.append((\"LogR \", accuracy_score(y_test,  logit_cv_pred)*100,\n",
        "                precision_score(y_test,  logit_cv_pred)*100,\n",
        "                recall_score(y_test,  logit_cv_pred)*100,\n",
        "                f1_score(y_test,  logit_cv_pred)*100 ))"
      ]
    },
    {
      "cell_type": "code",
      "execution_count": null,
      "id": "4eea6e73",
      "metadata": {
        "id": "4eea6e73",
        "outputId": "63301ca2-8d50-4ef7-97d9-beb9c4c71f4c",
        "colab": {
          "base_uri": "https://localhost:8080/"
        }
      },
      "outputs": [
        {
          "output_type": "execute_result",
          "data": {
            "text/plain": [
              "[('Classifier', 'Accurary', 'Precision', 'Recall', 'F1-Score'),\n",
              " ('ANN ',\n",
              "  89.48012030273986,\n",
              "  95.59022048897555,\n",
              "  83.08454468417965,\n",
              "  88.89973844812556),\n",
              " ('LogR ',\n",
              "  88.98106223353274,\n",
              "  94.24423317856879,\n",
              "  83.35832083958022,\n",
              "  88.46765824974058)]"
            ]
          },
          "metadata": {},
          "execution_count": 41
        }
      ],
      "source": [
        "cv_results"
      ]
    },
    {
      "cell_type": "markdown",
      "id": "8d5fa066",
      "metadata": {
        "id": "8d5fa066"
      },
      "source": [
        "### Applying Naive Bayes"
      ]
    },
    {
      "cell_type": "code",
      "execution_count": null,
      "id": "88c4f5c8",
      "metadata": {
        "id": "88c4f5c8",
        "outputId": "d9ba5ce8-09e2-42db-ba78-38404c6ba702"
      },
      "outputs": [
        {
          "name": "stdout",
          "output_type": "stream",
          "text": [
            "Accuracy of Naive Bayes model is:  0.925639500297442\n",
            "              precision    recall  f1-score   support\n",
            "\n",
            "           0       0.90      0.96      0.93     15129\n",
            "           1       0.96      0.89      0.92     15129\n",
            "\n",
            "    accuracy                           0.93     30258\n",
            "   macro avg       0.93      0.93      0.93     30258\n",
            "weighted avg       0.93      0.93      0.93     30258\n",
            "\n"
          ]
        },
        {
          "data": {
            "image/png": "[encoded data removed]",
            "text/plain": [
              "<Figure size 432x288 with 1 Axes>"
            ]
          },
          "metadata": {
            "needs_background": "light"
          },
          "output_type": "display_data"
        }
      ],
      "source": [
        "from sklearn.naive_bayes import MultinomialNB\n",
        "mnb = MultinomialNB()\n",
        "mnb.fit(X_train_cv, y_train)\n",
        "\n",
        "mnb_cv_pred = mnb.predict(X_test_cv)\n",
        "\n",
        "cm = confusion_matrix(y_test, mnb_cv_pred)\n",
        "ac = accuracy_score(y_test, mnb_cv_pred)\n",
        "# Accuracy of Our Model\n",
        "print(\"Accuracy of Naive Bayes model is: \",ac)\n",
        "\n",
        "# print confusion matrix\n",
        "sn.heatmap(cm, square=True, annot=True, cmap='Blues', fmt='d', cbar=False)\n",
        "\n",
        "print(classification_report(y_test, mnb_cv_pred))"
      ]
    },
    {
      "cell_type": "code",
      "execution_count": null,
      "id": "129b1746",
      "metadata": {
        "id": "129b1746"
      },
      "outputs": [],
      "source": [
        "cv_results.append((\"MNB \", accuracy_score(y_test,  mnb_cv_pred)*100,\n",
        "                precision_score(y_test,  mnb_cv_pred)*100,\n",
        "                recall_score(y_test,  mnb_cv_pred)*100,\n",
        "                f1_score(y_test,  mnb_cv_pred)*100 ))"
      ]
    },
    {
      "cell_type": "markdown",
      "id": "4759549e",
      "metadata": {
        "id": "4759549e"
      },
      "source": [
        "### Applying Decision Tree"
      ]
    },
    {
      "cell_type": "code",
      "execution_count": null,
      "id": "3067ca81",
      "metadata": {
        "id": "3067ca81",
        "outputId": "59a0c0cb-894f-4a0e-d526-2b555b0cc63f"
      },
      "outputs": [
        {
          "name": "stdout",
          "output_type": "stream",
          "text": [
            "Accuracy of Decision Tree model is:  0.922169343644656\n",
            "              precision    recall  f1-score   support\n",
            "\n",
            "           0       0.90      0.95      0.92     15129\n",
            "           1       0.95      0.89      0.92     15129\n",
            "\n",
            "    accuracy                           0.92     30258\n",
            "   macro avg       0.92      0.92      0.92     30258\n",
            "weighted avg       0.92      0.92      0.92     30258\n",
            "\n"
          ]
        },
        {
          "data": {
            "image/png": "[encoded data removed]",
            "text/plain": [
              "<Figure size 432x288 with 1 Axes>"
            ]
          },
          "metadata": {
            "needs_background": "light"
          },
          "output_type": "display_data"
        }
      ],
      "source": [
        "from sklearn.tree import DecisionTreeClassifier\n",
        "dtc = DecisionTreeClassifier(criterion='entropy')\n",
        "dtc.fit(X_train_cv, y_train)\n",
        "\n",
        "dt_cv_pred = dtc.predict(X_test_cv)\n",
        "\n",
        "cm = confusion_matrix(y_test, dt_cv_pred)\n",
        "ac = accuracy_score(y_test, dt_cv_pred)\n",
        "# Accuracy of Our Model\n",
        "print(\"Accuracy of Decision Tree model is: \",ac)\n",
        "\n",
        "# print confusion matrix\n",
        "sn.heatmap(cm, square=True, annot=True, cmap='Blues', fmt='d', cbar=False)\n",
        "\n",
        "print(classification_report(y_test, dt_cv_pred))"
      ]
    },
    {
      "cell_type": "code",
      "execution_count": null,
      "id": "7c4abbf5",
      "metadata": {
        "id": "7c4abbf5"
      },
      "outputs": [],
      "source": [
        "cv_results.append((\"DT \", accuracy_score(y_test,  dt_cv_pred)*100,\n",
        "                precision_score(y_test,  dt_cv_pred)*100,\n",
        "                recall_score(y_test,  dt_cv_pred)*100,\n",
        "                f1_score(y_test,  dt_cv_pred)*100 ))"
      ]
    },
    {
      "cell_type": "code",
      "execution_count": null,
      "id": "7dd9cf12",
      "metadata": {
        "id": "7dd9cf12"
      },
      "outputs": [],
      "source": []
    },
    {
      "cell_type": "code",
      "execution_count": null,
      "id": "d3965e33",
      "metadata": {
        "scrolled": true,
        "id": "d3965e33",
        "outputId": "aaeb7563-5a06-4961-94ed-372fa05a7f6d"
      },
      "outputs": [
        {
          "data": {
            "text/html": [
              "<div>\n",
              "<style scoped>\n",
              "    .dataframe tbody tr th:only-of-type {\n",
              "        vertical-align: middle;\n",
              "    }\n",
              "\n",
              "    .dataframe tbody tr th {\n",
              "        vertical-align: top;\n",
              "    }\n",
              "\n",
              "    .dataframe thead th {\n",
              "        text-align: right;\n",
              "    }\n",
              "</style>\n",
              "<table border=\"1\" class=\"dataframe\">\n",
              "  <thead>\n",
              "    <tr style=\"text-align: right;\">\n",
              "      <th></th>\n",
              "      <th>0</th>\n",
              "      <th>1</th>\n",
              "      <th>2</th>\n",
              "      <th>3</th>\n",
              "      <th>4</th>\n",
              "    </tr>\n",
              "  </thead>\n",
              "  <tbody>\n",
              "    <tr>\n",
              "      <th>0</th>\n",
              "      <td>Classifier</td>\n",
              "      <td>Accurary</td>\n",
              "      <td>Precision</td>\n",
              "      <td>Recall</td>\n",
              "      <td>F1-Score</td>\n",
              "    </tr>\n",
              "    <tr>\n",
              "      <th>1</th>\n",
              "      <td>LogR</td>\n",
              "      <td>93.198493</td>\n",
              "      <td>96.387252</td>\n",
              "      <td>89.761385</td>\n",
              "      <td>92.956397</td>\n",
              "    </tr>\n",
              "    <tr>\n",
              "      <th>2</th>\n",
              "      <td>MNB</td>\n",
              "      <td>92.56395</td>\n",
              "      <td>95.855586</td>\n",
              "      <td>88.974817</td>\n",
              "      <td>92.287125</td>\n",
              "    </tr>\n",
              "    <tr>\n",
              "      <th>3</th>\n",
              "      <td>DT</td>\n",
              "      <td>92.216934</td>\n",
              "      <td>94.902981</td>\n",
              "      <td>89.22599</td>\n",
              "      <td>91.97697</td>\n",
              "    </tr>\n",
              "  </tbody>\n",
              "</table>\n",
              "</div>"
            ],
            "text/plain": [
              "            0          1          2          3          4\n",
              "0  Classifier   Accurary  Precision     Recall   F1-Score\n",
              "1       LogR   93.198493  96.387252  89.761385  92.956397\n",
              "2        MNB    92.56395  95.855586  88.974817  92.287125\n",
              "3         DT   92.216934  94.902981   89.22599   91.97697"
            ]
          },
          "execution_count": 46,
          "metadata": {},
          "output_type": "execute_result"
        }
      ],
      "source": [
        "pd.DataFrame(cv_results)"
      ]
    },
    {
      "cell_type": "code",
      "execution_count": null,
      "id": "37757f08",
      "metadata": {
        "id": "37757f08"
      },
      "outputs": [],
      "source": []
    },
    {
      "cell_type": "markdown",
      "id": "442e973d",
      "metadata": {
        "id": "442e973d"
      },
      "source": [
        "# Creating TF-IDF Vectors "
      ]
    },
    {
      "cell_type": "code",
      "source": [
        "X_train = train_dataset['url']\n",
        "y_train = train_dataset['label']\n",
        "\n",
        "X_test = test_dataset['url']\n",
        "y_test = test_dataset['label']\n",
        "\n",
        "X_valid = valid_dataset['url']\n",
        "y_valid = valid_dataset['label']"
      ],
      "metadata": {
        "id": "Yd43V8NUXZbC"
      },
      "id": "Yd43V8NUXZbC",
      "execution_count": null,
      "outputs": []
    },
    {
      "cell_type": "code",
      "source": [],
      "metadata": {
        "id": "6IfcHVPhXpbS"
      },
      "id": "6IfcHVPhXpbS",
      "execution_count": null,
      "outputs": []
    },
    {
      "cell_type": "code",
      "execution_count": null,
      "id": "0b3d5312",
      "metadata": {
        "scrolled": false,
        "id": "0b3d5312"
      },
      "outputs": [],
      "source": [
        "# Using Tokenizer\n",
        "vectorizer = TfidfVectorizer(max_features=1000)\n",
        "\n",
        "# creating tf-idf vectors for traning data\n",
        "X_train_tf_idf = vectorizer.fit_transform(X_train)\n",
        "# creating tf-idf vectors for testing data\n",
        "X_test_tf_idf = vectorizer.transform(X_test)\n",
        "X_valid_tf_idf = vectorizer.transform(X_valid)"
      ]
    },
    {
      "cell_type": "code",
      "source": [
        "X_train_tf_idf = X_train_tf_idf.toarray()\n",
        "X_test_tf_idf = X_test_tf_idf.toarray()\n",
        "X_valid_tf_idf = X_valid_tf_idf.toarray()\n",
        "\n",
        "y_test = y_test.to_numpy()\n",
        "y_train = y_train.to_numpy()\n",
        "y_valid = y_valid.to_numpy()\n"
      ],
      "metadata": {
        "id": "WrJpD5Z6XrN6"
      },
      "id": "WrJpD5Z6XrN6",
      "execution_count": null,
      "outputs": []
    },
    {
      "cell_type": "code",
      "execution_count": null,
      "id": "75c6b80d",
      "metadata": {
        "id": "75c6b80d",
        "outputId": "999521f7-6ab2-4748-d4a3-f52aedc0683b",
        "colab": {
          "base_uri": "https://localhost:8080/"
        }
      },
      "outputs": [
        {
          "output_type": "execute_result",
          "data": {
            "text/plain": [
              "{'analyzer': 'word',\n",
              " 'binary': False,\n",
              " 'decode_error': 'strict',\n",
              " 'dtype': numpy.float64,\n",
              " 'encoding': 'utf-8',\n",
              " 'input': 'content',\n",
              " 'lowercase': True,\n",
              " 'max_df': 1.0,\n",
              " 'max_features': 1000,\n",
              " 'min_df': 1,\n",
              " 'ngram_range': (1, 1),\n",
              " 'norm': 'l2',\n",
              " 'preprocessor': None,\n",
              " 'smooth_idf': True,\n",
              " 'stop_words': None,\n",
              " 'strip_accents': None,\n",
              " 'sublinear_tf': False,\n",
              " 'token_pattern': '(?u)\\\\b\\\\w\\\\w+\\\\b',\n",
              " 'tokenizer': None,\n",
              " 'use_idf': True,\n",
              " 'vocabulary': None}"
            ]
          },
          "metadata": {},
          "execution_count": 22
        }
      ],
      "source": [
        "vectorizer.get_params()"
      ]
    },
    {
      "cell_type": "code",
      "execution_count": null,
      "id": "42c87f56",
      "metadata": {
        "id": "42c87f56"
      },
      "outputs": [],
      "source": [
        "tf_idf_results = []\n",
        "tf_idf_results.append(('Classifier','Accurary','Precision', 'Recall','F1-Score'))"
      ]
    },
    {
      "cell_type": "markdown",
      "source": [
        "### ANN"
      ],
      "metadata": {
        "id": "6REcSIFBYERC"
      },
      "id": "6REcSIFBYERC"
    },
    {
      "cell_type": "code",
      "source": [
        "# We decalred a function for creating a model.\n",
        "def build_model():\n",
        "    model = Sequential()\n",
        "\n",
        "    # Input Layer with 32 Neurons\n",
        "    model.add(Dense(32, input_shape = (X_train_tf_idf.shape[1],)))    # Input layer => input_shape must be explicitly designated\n",
        "      \n",
        "    \n",
        "    model.add(Dense(64, activation='relu'))                         # Hidden layer 2 => only output dimension should be designated (output dimension = # of Neurons = 64)\n",
        "    \n",
        "    model.add(Dense(1))                          # Output layer => output dimension = 1 since it is a regression problem\n",
        "    \n",
        "    # Activation: sigmoid, softmax, tanh, relu, LeakyReLU. \n",
        "    #Optimizer: SGD, Adam, RMSProp, etc. # https://www.tensorflow.org/api_docs/python/tf/keras/optimizers\n",
        "    learning_rate = 0.001\n",
        "    optimizer = optimizers.Adam(learning_rate)\n",
        "    model.compile(loss=tf.keras.losses.BinaryCrossentropy(from_logits=True),\n",
        "                optimizer=optimizer,\n",
        "                metrics=['accuracy']) \n",
        "    return model\n",
        "\n",
        "EPOCHS = 100\n",
        "batch_size = 128 \n",
        "\n",
        "model = build_model()\n",
        "model.summary()\n",
        "\n",
        "\n",
        "plot_model(model, 'model2.png', show_shapes=True)\n",
        "\n",
        "#callbacks: checkpoint, csv_logger\n",
        "filepath=\"model1.hdf5\"\n",
        "checkpoint = ModelCheckpoint(filepath, monitor='val_accuracy', verbose=1, save_best_only=True, mode='max')\n",
        "csv_log=CSVLogger('model_log2.csv',separator=',',append=False)\n",
        "callbacks_list=[checkpoint,csv_log]\n",
        "\n",
        "\n",
        "\n",
        "# with tf.device('/GPU:0'): # comment the previous line and uncomment this line to train with a GPU, if available.\n",
        "history = model.fit(\n",
        "    X_train_tf_idf, \n",
        "    y_train,\n",
        "    batch_size = batch_size,\n",
        "    epochs=EPOCHS, \n",
        "    verbose=1,\n",
        "    shuffle=True,\n",
        "    steps_per_epoch = int(X_train_tf_idf.shape[0] / batch_size) ,\n",
        "    validation_data = (X_valid_tf_idf, y_valid),\n",
        "    callbacks=callbacks_list\n",
        ")"
      ],
      "metadata": {
        "colab": {
          "base_uri": "https://localhost:8080/"
        },
        "id": "z1hv2Qx6YEC6",
        "outputId": "45d2e734-6f8c-406d-d127-332e51dddbd4"
      },
      "id": "z1hv2Qx6YEC6",
      "execution_count": null,
      "outputs": [
        {
          "output_type": "stream",
          "name": "stdout",
          "text": [
            "Model: \"sequential_1\"\n",
            "_________________________________________________________________\n",
            " Layer (type)                Output Shape              Param #   \n",
            "=================================================================\n",
            " dense_3 (Dense)             (None, 32)                32032     \n",
            "                                                                 \n",
            " dense_4 (Dense)             (None, 64)                2112      \n",
            "                                                                 \n",
            " dense_5 (Dense)             (None, 1)                 65        \n",
            "                                                                 \n",
            "=================================================================\n",
            "Total params: 34,209\n",
            "Trainable params: 34,209\n",
            "Non-trainable params: 0\n",
            "_________________________________________________________________\n",
            "Epoch 1/100\n",
            "705/709 [============================>.] - ETA: 0s - loss: 0.2697 - accuracy: 0.8544\n",
            "Epoch 1: val_accuracy improved from -inf to 0.88558, saving model to model1.hdf5\n",
            "709/709 [==============================] - 10s 7ms/step - loss: 0.2694 - accuracy: 0.8546 - val_loss: 0.2224 - val_accuracy: 0.8856\n",
            "Epoch 2/100\n",
            "697/709 [============================>.] - ETA: 0s - loss: 0.2169 - accuracy: 0.8861\n",
            "Epoch 2: val_accuracy improved from 0.88558 to 0.88654, saving model to model1.hdf5\n",
            "709/709 [==============================] - 3s 4ms/step - loss: 0.2165 - accuracy: 0.8863 - val_loss: 0.2229 - val_accuracy: 0.8865\n",
            "Epoch 3/100\n",
            "700/709 [============================>.] - ETA: 0s - loss: 0.2146 - accuracy: 0.8870\n",
            "Epoch 3: val_accuracy did not improve from 0.88654\n",
            "709/709 [==============================] - 3s 4ms/step - loss: 0.2144 - accuracy: 0.8870 - val_loss: 0.2204 - val_accuracy: 0.8852\n",
            "Epoch 4/100\n",
            "701/709 [============================>.] - ETA: 0s - loss: 0.2119 - accuracy: 0.8875\n",
            "Epoch 4: val_accuracy improved from 0.88654 to 0.88684, saving model to model1.hdf5\n",
            "709/709 [==============================] - 3s 4ms/step - loss: 0.2120 - accuracy: 0.8873 - val_loss: 0.2201 - val_accuracy: 0.8868\n",
            "Epoch 5/100\n",
            "705/709 [============================>.] - ETA: 0s - loss: 0.2096 - accuracy: 0.8882\n",
            "Epoch 5: val_accuracy improved from 0.88684 to 0.88687, saving model to model1.hdf5\n",
            "709/709 [==============================] - 3s 4ms/step - loss: 0.2093 - accuracy: 0.8883 - val_loss: 0.2172 - val_accuracy: 0.8869\n",
            "Epoch 6/100\n",
            "707/709 [============================>.] - ETA: 0s - loss: 0.2063 - accuracy: 0.8894\n",
            "Epoch 6: val_accuracy improved from 0.88687 to 0.88747, saving model to model1.hdf5\n",
            "709/709 [==============================] - 3s 4ms/step - loss: 0.2062 - accuracy: 0.8894 - val_loss: 0.2162 - val_accuracy: 0.8875\n",
            "Epoch 7/100\n",
            "700/709 [============================>.] - ETA: 0s - loss: 0.2042 - accuracy: 0.8900\n",
            "Epoch 7: val_accuracy improved from 0.88747 to 0.88780, saving model to model1.hdf5\n",
            "709/709 [==============================] - 3s 4ms/step - loss: 0.2041 - accuracy: 0.8899 - val_loss: 0.2154 - val_accuracy: 0.8878\n",
            "Epoch 8/100\n",
            "700/709 [============================>.] - ETA: 0s - loss: 0.2024 - accuracy: 0.8907\n",
            "Epoch 8: val_accuracy did not improve from 0.88780\n",
            "709/709 [==============================] - 3s 4ms/step - loss: 0.2025 - accuracy: 0.8907 - val_loss: 0.2146 - val_accuracy: 0.8878\n",
            "Epoch 9/100\n",
            "708/709 [============================>.] - ETA: 0s - loss: 0.2007 - accuracy: 0.8913\n",
            "Epoch 9: val_accuracy improved from 0.88780 to 0.88803, saving model to model1.hdf5\n",
            "709/709 [==============================] - 3s 4ms/step - loss: 0.2006 - accuracy: 0.8913 - val_loss: 0.2142 - val_accuracy: 0.8880\n",
            "Epoch 10/100\n",
            "700/709 [============================>.] - ETA: 0s - loss: 0.1995 - accuracy: 0.8921\n",
            "Epoch 10: val_accuracy did not improve from 0.88803\n",
            "709/709 [==============================] - 3s 4ms/step - loss: 0.1996 - accuracy: 0.8918 - val_loss: 0.2145 - val_accuracy: 0.8831\n",
            "Epoch 11/100\n",
            "706/709 [============================>.] - ETA: 0s - loss: 0.1980 - accuracy: 0.8926\n",
            "Epoch 11: val_accuracy did not improve from 0.88803\n",
            "709/709 [==============================] - 3s 4ms/step - loss: 0.1983 - accuracy: 0.8925 - val_loss: 0.2141 - val_accuracy: 0.8850\n",
            "Epoch 12/100\n",
            "698/709 [============================>.] - ETA: 0s - loss: 0.1970 - accuracy: 0.8932\n",
            "Epoch 12: val_accuracy improved from 0.88803 to 0.88905, saving model to model1.hdf5\n",
            "709/709 [==============================] - 3s 4ms/step - loss: 0.1973 - accuracy: 0.8931 - val_loss: 0.2142 - val_accuracy: 0.8891\n",
            "Epoch 13/100\n",
            "706/709 [============================>.] - ETA: 0s - loss: 0.1961 - accuracy: 0.8938\n",
            "Epoch 13: val_accuracy did not improve from 0.88905\n",
            "709/709 [==============================] - 3s 4ms/step - loss: 0.1961 - accuracy: 0.8938 - val_loss: 0.2136 - val_accuracy: 0.8857\n",
            "Epoch 14/100\n",
            "703/709 [============================>.] - ETA: 0s - loss: 0.1943 - accuracy: 0.8941\n",
            "Epoch 14: val_accuracy improved from 0.88905 to 0.88938, saving model to model1.hdf5\n",
            "709/709 [==============================] - 3s 4ms/step - loss: 0.1945 - accuracy: 0.8940 - val_loss: 0.2141 - val_accuracy: 0.8894\n",
            "Epoch 15/100\n",
            "709/709 [==============================] - ETA: 0s - loss: 0.1939 - accuracy: 0.8950\n",
            "Epoch 15: val_accuracy improved from 0.88938 to 0.89150, saving model to model1.hdf5\n",
            "709/709 [==============================] - 3s 4ms/step - loss: 0.1939 - accuracy: 0.8950 - val_loss: 0.2135 - val_accuracy: 0.8915\n",
            "Epoch 16/100\n",
            "700/709 [============================>.] - ETA: 0s - loss: 0.1933 - accuracy: 0.8950\n",
            "Epoch 16: val_accuracy did not improve from 0.89150\n",
            "709/709 [==============================] - 3s 4ms/step - loss: 0.1934 - accuracy: 0.8950 - val_loss: 0.2138 - val_accuracy: 0.8906\n",
            "Epoch 17/100\n",
            "696/709 [============================>.] - ETA: 0s - loss: 0.1922 - accuracy: 0.8959\n",
            "Epoch 17: val_accuracy did not improve from 0.89150\n",
            "709/709 [==============================] - 3s 4ms/step - loss: 0.1918 - accuracy: 0.8961 - val_loss: 0.2143 - val_accuracy: 0.8907\n",
            "Epoch 18/100\n",
            "709/709 [==============================] - ETA: 0s - loss: 0.1915 - accuracy: 0.8958\n",
            "Epoch 18: val_accuracy did not improve from 0.89150\n",
            "709/709 [==============================] - 3s 4ms/step - loss: 0.1915 - accuracy: 0.8958 - val_loss: 0.2141 - val_accuracy: 0.8866\n",
            "Epoch 19/100\n",
            "702/709 [============================>.] - ETA: 0s - loss: 0.1908 - accuracy: 0.8967\n",
            "Epoch 19: val_accuracy did not improve from 0.89150\n",
            "709/709 [==============================] - 3s 4ms/step - loss: 0.1910 - accuracy: 0.8966 - val_loss: 0.2141 - val_accuracy: 0.8904\n",
            "Epoch 20/100\n",
            "703/709 [============================>.] - ETA: 0s - loss: 0.1893 - accuracy: 0.8967\n",
            "Epoch 20: val_accuracy improved from 0.89150 to 0.89223, saving model to model1.hdf5\n",
            "709/709 [==============================] - 3s 4ms/step - loss: 0.1892 - accuracy: 0.8968 - val_loss: 0.2148 - val_accuracy: 0.8922\n",
            "Epoch 21/100\n",
            "696/709 [============================>.] - ETA: 0s - loss: 0.1884 - accuracy: 0.8976\n",
            "Epoch 21: val_accuracy did not improve from 0.89223\n",
            "709/709 [==============================] - 3s 4ms/step - loss: 0.1887 - accuracy: 0.8974 - val_loss: 0.2152 - val_accuracy: 0.8879\n",
            "Epoch 22/100\n",
            "695/709 [============================>.] - ETA: 0s - loss: 0.1886 - accuracy: 0.8973\n",
            "Epoch 22: val_accuracy improved from 0.89223 to 0.89279, saving model to model1.hdf5\n",
            "709/709 [==============================] - 4s 6ms/step - loss: 0.1884 - accuracy: 0.8973 - val_loss: 0.2148 - val_accuracy: 0.8928\n",
            "Epoch 23/100\n",
            "696/709 [============================>.] - ETA: 0s - loss: 0.1871 - accuracy: 0.8977\n",
            "Epoch 23: val_accuracy did not improve from 0.89279\n",
            "709/709 [==============================] - 3s 4ms/step - loss: 0.1874 - accuracy: 0.8975 - val_loss: 0.2148 - val_accuracy: 0.8915\n",
            "Epoch 24/100\n",
            "701/709 [============================>.] - ETA: 0s - loss: 0.1863 - accuracy: 0.8979\n",
            "Epoch 24: val_accuracy did not improve from 0.89279\n",
            "709/709 [==============================] - 3s 4ms/step - loss: 0.1862 - accuracy: 0.8980 - val_loss: 0.2148 - val_accuracy: 0.8912\n",
            "Epoch 25/100\n",
            "702/709 [============================>.] - ETA: 0s - loss: 0.1855 - accuracy: 0.8981\n",
            "Epoch 25: val_accuracy did not improve from 0.89279\n",
            "709/709 [==============================] - 3s 4ms/step - loss: 0.1857 - accuracy: 0.8979 - val_loss: 0.2164 - val_accuracy: 0.8911\n",
            "Epoch 26/100\n",
            "695/709 [============================>.] - ETA: 0s - loss: 0.1838 - accuracy: 0.8992\n",
            "Epoch 26: val_accuracy did not improve from 0.89279\n",
            "709/709 [==============================] - 3s 4ms/step - loss: 0.1841 - accuracy: 0.8991 - val_loss: 0.2159 - val_accuracy: 0.8908\n",
            "Epoch 27/100\n",
            "705/709 [============================>.] - ETA: 0s - loss: 0.1847 - accuracy: 0.8982\n",
            "Epoch 27: val_accuracy did not improve from 0.89279\n",
            "709/709 [==============================] - 3s 4ms/step - loss: 0.1847 - accuracy: 0.8983 - val_loss: 0.2167 - val_accuracy: 0.8920\n",
            "Epoch 28/100\n",
            "704/709 [============================>.] - ETA: 0s - loss: 0.1830 - accuracy: 0.8996\n",
            "Epoch 28: val_accuracy did not improve from 0.89279\n",
            "709/709 [==============================] - 3s 4ms/step - loss: 0.1827 - accuracy: 0.8998 - val_loss: 0.2179 - val_accuracy: 0.8924\n",
            "Epoch 29/100\n",
            "697/709 [============================>.] - ETA: 0s - loss: 0.1827 - accuracy: 0.8998\n",
            "Epoch 29: val_accuracy did not improve from 0.89279\n",
            "709/709 [==============================] - 3s 4ms/step - loss: 0.1828 - accuracy: 0.8999 - val_loss: 0.2176 - val_accuracy: 0.8911\n",
            "Epoch 30/100\n",
            "705/709 [============================>.] - ETA: 0s - loss: 0.1817 - accuracy: 0.8997\n",
            "Epoch 30: val_accuracy did not improve from 0.89279\n",
            "709/709 [==============================] - 3s 4ms/step - loss: 0.1817 - accuracy: 0.8998 - val_loss: 0.2181 - val_accuracy: 0.8918\n",
            "Epoch 31/100\n",
            "696/709 [============================>.] - ETA: 0s - loss: 0.1815 - accuracy: 0.9001\n",
            "Epoch 31: val_accuracy did not improve from 0.89279\n",
            "709/709 [==============================] - 3s 4ms/step - loss: 0.1814 - accuracy: 0.9001 - val_loss: 0.2185 - val_accuracy: 0.8910\n",
            "Epoch 32/100\n",
            "695/709 [============================>.] - ETA: 0s - loss: 0.1798 - accuracy: 0.9007\n",
            "Epoch 32: val_accuracy did not improve from 0.89279\n",
            "709/709 [==============================] - 3s 4ms/step - loss: 0.1801 - accuracy: 0.9007 - val_loss: 0.2198 - val_accuracy: 0.8920\n",
            "Epoch 33/100\n",
            "699/709 [============================>.] - ETA: 0s - loss: 0.1802 - accuracy: 0.9006\n",
            "Epoch 33: val_accuracy did not improve from 0.89279\n",
            "709/709 [==============================] - 3s 4ms/step - loss: 0.1803 - accuracy: 0.9006 - val_loss: 0.2205 - val_accuracy: 0.8864\n",
            "Epoch 34/100\n",
            "703/709 [============================>.] - ETA: 0s - loss: 0.1801 - accuracy: 0.9007\n",
            "Epoch 34: val_accuracy did not improve from 0.89279\n",
            "709/709 [==============================] - 3s 4ms/step - loss: 0.1801 - accuracy: 0.9007 - val_loss: 0.2203 - val_accuracy: 0.8921\n",
            "Epoch 35/100\n",
            "699/709 [============================>.] - ETA: 0s - loss: 0.1789 - accuracy: 0.9010\n",
            "Epoch 35: val_accuracy did not improve from 0.89279\n",
            "709/709 [==============================] - 3s 4ms/step - loss: 0.1790 - accuracy: 0.9009 - val_loss: 0.2207 - val_accuracy: 0.8924\n",
            "Epoch 36/100\n",
            "693/709 [============================>.] - ETA: 0s - loss: 0.1780 - accuracy: 0.9012\n",
            "Epoch 36: val_accuracy did not improve from 0.89279\n",
            "709/709 [==============================] - 3s 4ms/step - loss: 0.1781 - accuracy: 0.9013 - val_loss: 0.2192 - val_accuracy: 0.8915\n",
            "Epoch 37/100\n",
            "693/709 [============================>.] - ETA: 0s - loss: 0.1782 - accuracy: 0.9011\n",
            "Epoch 37: val_accuracy did not improve from 0.89279\n",
            "709/709 [==============================] - 3s 4ms/step - loss: 0.1784 - accuracy: 0.9011 - val_loss: 0.2218 - val_accuracy: 0.8904\n",
            "Epoch 38/100\n",
            "696/709 [============================>.] - ETA: 0s - loss: 0.1765 - accuracy: 0.9026\n",
            "Epoch 38: val_accuracy did not improve from 0.89279\n",
            "709/709 [==============================] - 3s 4ms/step - loss: 0.1765 - accuracy: 0.9025 - val_loss: 0.2220 - val_accuracy: 0.8926\n",
            "Epoch 39/100\n",
            "696/709 [============================>.] - ETA: 0s - loss: 0.1770 - accuracy: 0.9023\n",
            "Epoch 39: val_accuracy did not improve from 0.89279\n",
            "709/709 [==============================] - 3s 4ms/step - loss: 0.1774 - accuracy: 0.9021 - val_loss: 0.2210 - val_accuracy: 0.8864\n",
            "Epoch 40/100\n",
            "701/709 [============================>.] - ETA: 0s - loss: 0.1761 - accuracy: 0.9011\n",
            "Epoch 40: val_accuracy did not improve from 0.89279\n",
            "709/709 [==============================] - 3s 4ms/step - loss: 0.1763 - accuracy: 0.9009 - val_loss: 0.2227 - val_accuracy: 0.8926\n",
            "Epoch 41/100\n",
            "705/709 [============================>.] - ETA: 0s - loss: 0.1756 - accuracy: 0.9026\n",
            "Epoch 41: val_accuracy did not improve from 0.89279\n",
            "709/709 [==============================] - 3s 4ms/step - loss: 0.1756 - accuracy: 0.9026 - val_loss: 0.2224 - val_accuracy: 0.8917\n",
            "Epoch 42/100\n",
            "696/709 [============================>.] - ETA: 0s - loss: 0.1749 - accuracy: 0.9027\n",
            "Epoch 42: val_accuracy did not improve from 0.89279\n",
            "709/709 [==============================] - 3s 4ms/step - loss: 0.1754 - accuracy: 0.9025 - val_loss: 0.2209 - val_accuracy: 0.8925\n",
            "Epoch 43/100\n",
            "696/709 [============================>.] - ETA: 0s - loss: 0.1733 - accuracy: 0.9034\n",
            "Epoch 43: val_accuracy did not improve from 0.89279\n",
            "709/709 [==============================] - 3s 4ms/step - loss: 0.1735 - accuracy: 0.9033 - val_loss: 0.2213 - val_accuracy: 0.8914\n",
            "Epoch 44/100\n",
            "703/709 [============================>.] - ETA: 0s - loss: 0.1740 - accuracy: 0.9035\n",
            "Epoch 44: val_accuracy did not improve from 0.89279\n",
            "709/709 [==============================] - 3s 4ms/step - loss: 0.1742 - accuracy: 0.9033 - val_loss: 0.2212 - val_accuracy: 0.8857\n",
            "Epoch 45/100\n",
            "698/709 [============================>.] - ETA: 0s - loss: 0.1740 - accuracy: 0.9033\n",
            "Epoch 45: val_accuracy did not improve from 0.89279\n",
            "709/709 [==============================] - 3s 4ms/step - loss: 0.1738 - accuracy: 0.9034 - val_loss: 0.2232 - val_accuracy: 0.8928\n",
            "Epoch 46/100\n",
            "704/709 [============================>.] - ETA: 0s - loss: 0.1739 - accuracy: 0.9024\n",
            "Epoch 46: val_accuracy did not improve from 0.89279\n",
            "709/709 [==============================] - 3s 4ms/step - loss: 0.1740 - accuracy: 0.9023 - val_loss: 0.2220 - val_accuracy: 0.8922\n",
            "Epoch 47/100\n",
            "705/709 [============================>.] - ETA: 0s - loss: 0.1723 - accuracy: 0.9042\n",
            "Epoch 47: val_accuracy did not improve from 0.89279\n",
            "709/709 [==============================] - 3s 4ms/step - loss: 0.1724 - accuracy: 0.9041 - val_loss: 0.2232 - val_accuracy: 0.8916\n",
            "Epoch 48/100\n",
            "709/709 [==============================] - ETA: 0s - loss: 0.1723 - accuracy: 0.9035\n",
            "Epoch 48: val_accuracy did not improve from 0.89279\n",
            "709/709 [==============================] - 3s 4ms/step - loss: 0.1723 - accuracy: 0.9035 - val_loss: 0.2228 - val_accuracy: 0.8878\n",
            "Epoch 49/100\n",
            "701/709 [============================>.] - ETA: 0s - loss: 0.1719 - accuracy: 0.9039\n",
            "Epoch 49: val_accuracy improved from 0.89279 to 0.89355, saving model to model1.hdf5\n",
            "709/709 [==============================] - 3s 4ms/step - loss: 0.1717 - accuracy: 0.9040 - val_loss: 0.2236 - val_accuracy: 0.8935\n",
            "Epoch 50/100\n",
            "702/709 [============================>.] - ETA: 0s - loss: 0.1710 - accuracy: 0.9043\n",
            "Epoch 50: val_accuracy did not improve from 0.89355\n",
            "709/709 [==============================] - 3s 4ms/step - loss: 0.1709 - accuracy: 0.9043 - val_loss: 0.2225 - val_accuracy: 0.8902\n",
            "Epoch 51/100\n",
            "702/709 [============================>.] - ETA: 0s - loss: 0.1711 - accuracy: 0.9033\n",
            "Epoch 51: val_accuracy did not improve from 0.89355\n",
            "709/709 [==============================] - 3s 4ms/step - loss: 0.1712 - accuracy: 0.9033 - val_loss: 0.2245 - val_accuracy: 0.8932\n",
            "Epoch 52/100\n",
            "700/709 [============================>.] - ETA: 0s - loss: 0.1718 - accuracy: 0.9036\n",
            "Epoch 52: val_accuracy did not improve from 0.89355\n",
            "709/709 [==============================] - 3s 4ms/step - loss: 0.1718 - accuracy: 0.9036 - val_loss: 0.2232 - val_accuracy: 0.8915\n",
            "Epoch 53/100\n",
            "696/709 [============================>.] - ETA: 0s - loss: 0.1695 - accuracy: 0.9048\n",
            "Epoch 53: val_accuracy did not improve from 0.89355\n",
            "709/709 [==============================] - 3s 4ms/step - loss: 0.1699 - accuracy: 0.9047 - val_loss: 0.2253 - val_accuracy: 0.8934\n",
            "Epoch 54/100\n",
            "694/709 [============================>.] - ETA: 0s - loss: 0.1706 - accuracy: 0.9026\n",
            "Epoch 54: val_accuracy did not improve from 0.89355\n",
            "709/709 [==============================] - 3s 4ms/step - loss: 0.1702 - accuracy: 0.9029 - val_loss: 0.2259 - val_accuracy: 0.8926\n",
            "Epoch 55/100\n",
            "696/709 [============================>.] - ETA: 0s - loss: 0.1696 - accuracy: 0.9051\n",
            "Epoch 55: val_accuracy did not improve from 0.89355\n",
            "709/709 [==============================] - 3s 4ms/step - loss: 0.1695 - accuracy: 0.9052 - val_loss: 0.2271 - val_accuracy: 0.8892\n",
            "Epoch 56/100\n",
            "697/709 [============================>.] - ETA: 0s - loss: 0.1695 - accuracy: 0.9038\n",
            "Epoch 56: val_accuracy did not improve from 0.89355\n",
            "709/709 [==============================] - 3s 4ms/step - loss: 0.1694 - accuracy: 0.9041 - val_loss: 0.2242 - val_accuracy: 0.8929\n",
            "Epoch 57/100\n",
            "709/709 [==============================] - ETA: 0s - loss: 0.1682 - accuracy: 0.9049\n",
            "Epoch 57: val_accuracy did not improve from 0.89355\n",
            "709/709 [==============================] - 3s 4ms/step - loss: 0.1682 - accuracy: 0.9049 - val_loss: 0.2283 - val_accuracy: 0.8863\n",
            "Epoch 58/100\n",
            "695/709 [============================>.] - ETA: 0s - loss: 0.1687 - accuracy: 0.9048\n",
            "Epoch 58: val_accuracy did not improve from 0.89355\n",
            "709/709 [==============================] - 3s 4ms/step - loss: 0.1687 - accuracy: 0.9047 - val_loss: 0.2264 - val_accuracy: 0.8919\n",
            "Epoch 59/100\n",
            "704/709 [============================>.] - ETA: 0s - loss: 0.1676 - accuracy: 0.9047\n",
            "Epoch 59: val_accuracy did not improve from 0.89355\n",
            "709/709 [==============================] - 3s 4ms/step - loss: 0.1679 - accuracy: 0.9044 - val_loss: 0.2268 - val_accuracy: 0.8930\n",
            "Epoch 60/100\n",
            "705/709 [============================>.] - ETA: 0s - loss: 0.1682 - accuracy: 0.9052\n",
            "Epoch 60: val_accuracy did not improve from 0.89355\n",
            "709/709 [==============================] - 3s 4ms/step - loss: 0.1681 - accuracy: 0.9052 - val_loss: 0.2270 - val_accuracy: 0.8889\n",
            "Epoch 61/100\n",
            "705/709 [============================>.] - ETA: 0s - loss: 0.1673 - accuracy: 0.9048\n",
            "Epoch 61: val_accuracy did not improve from 0.89355\n",
            "709/709 [==============================] - 3s 4ms/step - loss: 0.1672 - accuracy: 0.9049 - val_loss: 0.2258 - val_accuracy: 0.8891\n",
            "Epoch 62/100\n",
            "698/709 [============================>.] - ETA: 0s - loss: 0.1684 - accuracy: 0.9051\n",
            "Epoch 62: val_accuracy did not improve from 0.89355\n",
            "709/709 [==============================] - 3s 4ms/step - loss: 0.1682 - accuracy: 0.9053 - val_loss: 0.2261 - val_accuracy: 0.8926\n",
            "Epoch 63/100\n",
            "699/709 [============================>.] - ETA: 0s - loss: 0.1659 - accuracy: 0.9059\n",
            "Epoch 63: val_accuracy did not improve from 0.89355\n",
            "709/709 [==============================] - 3s 4ms/step - loss: 0.1659 - accuracy: 0.9058 - val_loss: 0.2284 - val_accuracy: 0.8912\n",
            "Epoch 64/100\n",
            "695/709 [============================>.] - ETA: 0s - loss: 0.1673 - accuracy: 0.9046\n",
            "Epoch 64: val_accuracy did not improve from 0.89355\n",
            "709/709 [==============================] - 3s 4ms/step - loss: 0.1672 - accuracy: 0.9047 - val_loss: 0.2267 - val_accuracy: 0.8929\n",
            "Epoch 65/100\n",
            "705/709 [============================>.] - ETA: 0s - loss: 0.1660 - accuracy: 0.9063\n",
            "Epoch 65: val_accuracy did not improve from 0.89355\n",
            "709/709 [==============================] - 3s 4ms/step - loss: 0.1659 - accuracy: 0.9063 - val_loss: 0.2284 - val_accuracy: 0.8912\n",
            "Epoch 66/100\n",
            "695/709 [============================>.] - ETA: 0s - loss: 0.1665 - accuracy: 0.9050\n",
            "Epoch 66: val_accuracy did not improve from 0.89355\n",
            "709/709 [==============================] - 3s 4ms/step - loss: 0.1663 - accuracy: 0.9051 - val_loss: 0.2277 - val_accuracy: 0.8929\n",
            "Epoch 67/100\n",
            "697/709 [============================>.] - ETA: 0s - loss: 0.1657 - accuracy: 0.9053\n",
            "Epoch 67: val_accuracy did not improve from 0.89355\n",
            "709/709 [==============================] - 3s 4ms/step - loss: 0.1657 - accuracy: 0.9053 - val_loss: 0.2281 - val_accuracy: 0.8893\n",
            "Epoch 68/100\n",
            "709/709 [==============================] - ETA: 0s - loss: 0.1660 - accuracy: 0.9060\n",
            "Epoch 68: val_accuracy did not improve from 0.89355\n",
            "709/709 [==============================] - 3s 4ms/step - loss: 0.1660 - accuracy: 0.9060 - val_loss: 0.2284 - val_accuracy: 0.8917\n",
            "Epoch 69/100\n",
            "701/709 [============================>.] - ETA: 0s - loss: 0.1643 - accuracy: 0.9059\n",
            "Epoch 69: val_accuracy did not improve from 0.89355\n",
            "709/709 [==============================] - 3s 4ms/step - loss: 0.1643 - accuracy: 0.9060 - val_loss: 0.2317 - val_accuracy: 0.8934\n",
            "Epoch 70/100\n",
            "697/709 [============================>.] - ETA: 0s - loss: 0.1656 - accuracy: 0.9060\n",
            "Epoch 70: val_accuracy did not improve from 0.89355\n",
            "709/709 [==============================] - 3s 4ms/step - loss: 0.1659 - accuracy: 0.9059 - val_loss: 0.2297 - val_accuracy: 0.8878\n",
            "Epoch 71/100\n",
            "705/709 [============================>.] - ETA: 0s - loss: 0.1643 - accuracy: 0.9059\n",
            "Epoch 71: val_accuracy did not improve from 0.89355\n",
            "709/709 [==============================] - 3s 4ms/step - loss: 0.1643 - accuracy: 0.9059 - val_loss: 0.2327 - val_accuracy: 0.8885\n",
            "Epoch 72/100\n",
            "704/709 [============================>.] - ETA: 0s - loss: 0.1640 - accuracy: 0.9071\n",
            "Epoch 72: val_accuracy did not improve from 0.89355\n",
            "709/709 [==============================] - 3s 4ms/step - loss: 0.1642 - accuracy: 0.9070 - val_loss: 0.2305 - val_accuracy: 0.8933\n",
            "Epoch 73/100\n",
            "696/709 [============================>.] - ETA: 0s - loss: 0.1648 - accuracy: 0.9048\n",
            "Epoch 73: val_accuracy did not improve from 0.89355\n",
            "709/709 [==============================] - 3s 4ms/step - loss: 0.1649 - accuracy: 0.9048 - val_loss: 0.2305 - val_accuracy: 0.8864\n",
            "Epoch 74/100\n",
            "708/709 [============================>.] - ETA: 0s - loss: 0.1631 - accuracy: 0.9069\n",
            "Epoch 74: val_accuracy did not improve from 0.89355\n",
            "709/709 [==============================] - 3s 4ms/step - loss: 0.1631 - accuracy: 0.9069 - val_loss: 0.2321 - val_accuracy: 0.8896\n",
            "Epoch 75/100\n",
            "698/709 [============================>.] - ETA: 0s - loss: 0.1643 - accuracy: 0.9055\n",
            "Epoch 75: val_accuracy improved from 0.89355 to 0.89365, saving model to model1.hdf5\n",
            "709/709 [==============================] - 3s 4ms/step - loss: 0.1643 - accuracy: 0.9055 - val_loss: 0.2318 - val_accuracy: 0.8936\n",
            "Epoch 76/100\n",
            "694/709 [============================>.] - ETA: 0s - loss: 0.1635 - accuracy: 0.9068\n",
            "Epoch 76: val_accuracy did not improve from 0.89365\n",
            "709/709 [==============================] - 3s 4ms/step - loss: 0.1633 - accuracy: 0.9068 - val_loss: 0.2297 - val_accuracy: 0.8926\n",
            "Epoch 77/100\n",
            "708/709 [============================>.] - ETA: 0s - loss: 0.1635 - accuracy: 0.9068\n",
            "Epoch 77: val_accuracy improved from 0.89365 to 0.89385, saving model to model1.hdf5\n",
            "709/709 [==============================] - 3s 4ms/step - loss: 0.1635 - accuracy: 0.9067 - val_loss: 0.2331 - val_accuracy: 0.8938\n",
            "Epoch 78/100\n",
            "706/709 [============================>.] - ETA: 0s - loss: 0.1638 - accuracy: 0.9063\n",
            "Epoch 78: val_accuracy did not improve from 0.89385\n",
            "709/709 [==============================] - 3s 4ms/step - loss: 0.1639 - accuracy: 0.9062 - val_loss: 0.2320 - val_accuracy: 0.8932\n",
            "Epoch 79/100\n",
            "695/709 [============================>.] - ETA: 0s - loss: 0.1620 - accuracy: 0.9076\n",
            "Epoch 79: val_accuracy did not improve from 0.89385\n",
            "709/709 [==============================] - 3s 4ms/step - loss: 0.1619 - accuracy: 0.9077 - val_loss: 0.2340 - val_accuracy: 0.8928\n",
            "Epoch 80/100\n",
            "695/709 [============================>.] - ETA: 0s - loss: 0.1627 - accuracy: 0.9064\n",
            "Epoch 80: val_accuracy did not improve from 0.89385\n",
            "709/709 [==============================] - 3s 4ms/step - loss: 0.1627 - accuracy: 0.9062 - val_loss: 0.2341 - val_accuracy: 0.8883\n",
            "Epoch 81/100\n",
            "701/709 [============================>.] - ETA: 0s - loss: 0.1615 - accuracy: 0.9075\n",
            "Epoch 81: val_accuracy improved from 0.89385 to 0.89414, saving model to model1.hdf5\n",
            "709/709 [==============================] - 3s 4ms/step - loss: 0.1614 - accuracy: 0.9074 - val_loss: 0.2340 - val_accuracy: 0.8941\n",
            "Epoch 82/100\n",
            "695/709 [============================>.] - ETA: 0s - loss: 0.1629 - accuracy: 0.9070\n",
            "Epoch 82: val_accuracy did not improve from 0.89414\n",
            "709/709 [==============================] - 3s 4ms/step - loss: 0.1628 - accuracy: 0.9072 - val_loss: 0.2345 - val_accuracy: 0.8937\n",
            "Epoch 83/100\n",
            "707/709 [============================>.] - ETA: 0s - loss: 0.1623 - accuracy: 0.9064\n",
            "Epoch 83: val_accuracy did not improve from 0.89414\n",
            "709/709 [==============================] - 3s 4ms/step - loss: 0.1622 - accuracy: 0.9064 - val_loss: 0.2342 - val_accuracy: 0.8896\n",
            "Epoch 84/100\n",
            "702/709 [============================>.] - ETA: 0s - loss: 0.1623 - accuracy: 0.9067\n",
            "Epoch 84: val_accuracy did not improve from 0.89414\n",
            "709/709 [==============================] - 3s 4ms/step - loss: 0.1622 - accuracy: 0.9067 - val_loss: 0.2346 - val_accuracy: 0.8916\n",
            "Epoch 85/100\n",
            "699/709 [============================>.] - ETA: 0s - loss: 0.1606 - accuracy: 0.9081\n",
            "Epoch 85: val_accuracy did not improve from 0.89414\n",
            "709/709 [==============================] - 3s 4ms/step - loss: 0.1610 - accuracy: 0.9080 - val_loss: 0.2346 - val_accuracy: 0.8941\n",
            "Epoch 86/100\n",
            "705/709 [============================>.] - ETA: 0s - loss: 0.1621 - accuracy: 0.9064\n",
            "Epoch 86: val_accuracy did not improve from 0.89414\n",
            "709/709 [==============================] - 3s 4ms/step - loss: 0.1623 - accuracy: 0.9062 - val_loss: 0.2352 - val_accuracy: 0.8932\n",
            "Epoch 87/100\n",
            "694/709 [============================>.] - ETA: 0s - loss: 0.1610 - accuracy: 0.9077\n",
            "Epoch 87: val_accuracy did not improve from 0.89414\n",
            "709/709 [==============================] - 3s 4ms/step - loss: 0.1612 - accuracy: 0.9078 - val_loss: 0.2355 - val_accuracy: 0.8929\n",
            "Epoch 88/100\n",
            "704/709 [============================>.] - ETA: 0s - loss: 0.1608 - accuracy: 0.9067\n",
            "Epoch 88: val_accuracy did not improve from 0.89414\n",
            "709/709 [==============================] - 3s 4ms/step - loss: 0.1607 - accuracy: 0.9068 - val_loss: 0.2353 - val_accuracy: 0.8886\n",
            "Epoch 89/100\n",
            "704/709 [============================>.] - ETA: 0s - loss: 0.1615 - accuracy: 0.9076\n",
            "Epoch 89: val_accuracy did not improve from 0.89414\n",
            "709/709 [==============================] - 3s 4ms/step - loss: 0.1614 - accuracy: 0.9077 - val_loss: 0.2384 - val_accuracy: 0.8927\n",
            "Epoch 90/100\n",
            "697/709 [============================>.] - ETA: 0s - loss: 0.1618 - accuracy: 0.9068\n",
            "Epoch 90: val_accuracy did not improve from 0.89414\n",
            "709/709 [==============================] - 3s 4ms/step - loss: 0.1617 - accuracy: 0.9070 - val_loss: 0.2364 - val_accuracy: 0.8914\n",
            "Epoch 91/100\n",
            "701/709 [============================>.] - ETA: 0s - loss: 0.1599 - accuracy: 0.9081\n",
            "Epoch 91: val_accuracy did not improve from 0.89414\n",
            "709/709 [==============================] - 5s 7ms/step - loss: 0.1596 - accuracy: 0.9083 - val_loss: 0.2373 - val_accuracy: 0.8927\n",
            "Epoch 92/100\n",
            "705/709 [============================>.] - ETA: 0s - loss: 0.1606 - accuracy: 0.9076\n",
            "Epoch 92: val_accuracy improved from 0.89414 to 0.89431, saving model to model1.hdf5\n",
            "709/709 [==============================] - 4s 5ms/step - loss: 0.1607 - accuracy: 0.9075 - val_loss: 0.2390 - val_accuracy: 0.8943\n",
            "Epoch 93/100\n",
            "700/709 [============================>.] - ETA: 0s - loss: 0.1608 - accuracy: 0.9076\n",
            "Epoch 93: val_accuracy did not improve from 0.89431\n",
            "709/709 [==============================] - 3s 4ms/step - loss: 0.1608 - accuracy: 0.9077 - val_loss: 0.2361 - val_accuracy: 0.8887\n",
            "Epoch 94/100\n",
            "700/709 [============================>.] - ETA: 0s - loss: 0.1597 - accuracy: 0.9077\n",
            "Epoch 94: val_accuracy did not improve from 0.89431\n",
            "709/709 [==============================] - 3s 4ms/step - loss: 0.1601 - accuracy: 0.9075 - val_loss: 0.2394 - val_accuracy: 0.8922\n",
            "Epoch 95/100\n",
            "700/709 [============================>.] - ETA: 0s - loss: 0.1601 - accuracy: 0.9077\n",
            "Epoch 95: val_accuracy did not improve from 0.89431\n",
            "709/709 [==============================] - 3s 4ms/step - loss: 0.1601 - accuracy: 0.9077 - val_loss: 0.2370 - val_accuracy: 0.8916\n",
            "Epoch 96/100\n",
            "702/709 [============================>.] - ETA: 0s - loss: 0.1598 - accuracy: 0.9084\n",
            "Epoch 96: val_accuracy did not improve from 0.89431\n",
            "709/709 [==============================] - 3s 4ms/step - loss: 0.1599 - accuracy: 0.9085 - val_loss: 0.2363 - val_accuracy: 0.8933\n",
            "Epoch 97/100\n",
            "699/709 [============================>.] - ETA: 0s - loss: 0.1594 - accuracy: 0.9089\n",
            "Epoch 97: val_accuracy did not improve from 0.89431\n",
            "709/709 [==============================] - 3s 4ms/step - loss: 0.1597 - accuracy: 0.9087 - val_loss: 0.2380 - val_accuracy: 0.8902\n",
            "Epoch 98/100\n",
            "697/709 [============================>.] - ETA: 0s - loss: 0.1605 - accuracy: 0.9069\n",
            "Epoch 98: val_accuracy did not improve from 0.89431\n",
            "709/709 [==============================] - 3s 4ms/step - loss: 0.1605 - accuracy: 0.9069 - val_loss: 0.2385 - val_accuracy: 0.8938\n",
            "Epoch 99/100\n",
            "700/709 [============================>.] - ETA: 0s - loss: 0.1596 - accuracy: 0.9091\n",
            "Epoch 99: val_accuracy did not improve from 0.89431\n",
            "709/709 [==============================] - 3s 4ms/step - loss: 0.1595 - accuracy: 0.9090 - val_loss: 0.2376 - val_accuracy: 0.8930\n",
            "Epoch 100/100\n",
            "700/709 [============================>.] - ETA: 0s - loss: 0.1599 - accuracy: 0.9074\n",
            "Epoch 100: val_accuracy did not improve from 0.89431\n",
            "709/709 [==============================] - 3s 4ms/step - loss: 0.1600 - accuracy: 0.9074 - val_loss: 0.2384 - val_accuracy: 0.8935\n"
          ]
        }
      ]
    },
    {
      "cell_type": "code",
      "source": [],
      "metadata": {
        "id": "EVhpy2S-YfI6"
      },
      "id": "EVhpy2S-YfI6",
      "execution_count": null,
      "outputs": []
    },
    {
      "cell_type": "code",
      "source": [
        "print('Summary of the results after each epoch: ')\n",
        "hist = pd.DataFrame(history.history)\n",
        "hist['epoch'] = history.epoch\n",
        "hist.tail()"
      ],
      "metadata": {
        "colab": {
          "base_uri": "https://localhost:8080/",
          "height": 224
        },
        "outputId": "083164e3-b218-40d2-98e9-f1edbc7aa60f",
        "id": "syFE7lOOYgrW"
      },
      "execution_count": null,
      "outputs": [
        {
          "output_type": "stream",
          "name": "stdout",
          "text": [
            "Summary of the results after each epoch: \n"
          ]
        },
        {
          "output_type": "execute_result",
          "data": {
            "text/plain": [
              "        loss  accuracy  val_loss  val_accuracy  epoch\n",
              "95  0.159900  0.908509  0.236254      0.893251     95\n",
              "96  0.159655  0.908686  0.238022      0.890211     96\n",
              "97  0.160483  0.906921  0.238451      0.893780     97\n",
              "98  0.159546  0.908984  0.237565      0.892954     98\n",
              "99  0.159982  0.907428  0.238396      0.893549     99"
            ],
            "text/html": [
              "\n",
              "  <div id=\"df-bfdbcd56-5138-4db2-b9cf-9cbf4a1ad565\">\n",
              "    <div class=\"colab-df-container\">\n",
              "      <div>\n",
              "<style scoped>\n",
              "    .dataframe tbody tr th:only-of-type {\n",
              "        vertical-align: middle;\n",
              "    }\n",
              "\n",
              "    .dataframe tbody tr th {\n",
              "        vertical-align: top;\n",
              "    }\n",
              "\n",
              "    .dataframe thead th {\n",
              "        text-align: right;\n",
              "    }\n",
              "</style>\n",
              "<table border=\"1\" class=\"dataframe\">\n",
              "  <thead>\n",
              "    <tr style=\"text-align: right;\">\n",
              "      <th></th>\n",
              "      <th>loss</th>\n",
              "      <th>accuracy</th>\n",
              "      <th>val_loss</th>\n",
              "      <th>val_accuracy</th>\n",
              "      <th>epoch</th>\n",
              "    </tr>\n",
              "  </thead>\n",
              "  <tbody>\n",
              "    <tr>\n",
              "      <th>95</th>\n",
              "      <td>0.159900</td>\n",
              "      <td>0.908509</td>\n",
              "      <td>0.236254</td>\n",
              "      <td>0.893251</td>\n",
              "      <td>95</td>\n",
              "    </tr>\n",
              "    <tr>\n",
              "      <th>96</th>\n",
              "      <td>0.159655</td>\n",
              "      <td>0.908686</td>\n",
              "      <td>0.238022</td>\n",
              "      <td>0.890211</td>\n",
              "      <td>96</td>\n",
              "    </tr>\n",
              "    <tr>\n",
              "      <th>97</th>\n",
              "      <td>0.160483</td>\n",
              "      <td>0.906921</td>\n",
              "      <td>0.238451</td>\n",
              "      <td>0.893780</td>\n",
              "      <td>97</td>\n",
              "    </tr>\n",
              "    <tr>\n",
              "      <th>98</th>\n",
              "      <td>0.159546</td>\n",
              "      <td>0.908984</td>\n",
              "      <td>0.237565</td>\n",
              "      <td>0.892954</td>\n",
              "      <td>98</td>\n",
              "    </tr>\n",
              "    <tr>\n",
              "      <th>99</th>\n",
              "      <td>0.159982</td>\n",
              "      <td>0.907428</td>\n",
              "      <td>0.238396</td>\n",
              "      <td>0.893549</td>\n",
              "      <td>99</td>\n",
              "    </tr>\n",
              "  </tbody>\n",
              "</table>\n",
              "</div>\n",
              "      <button class=\"colab-df-convert\" onclick=\"convertToInteractive('df-bfdbcd56-5138-4db2-b9cf-9cbf4a1ad565')\"\n",
              "              title=\"Convert this dataframe to an interactive table.\"\n",
              "              style=\"display:none;\">\n",
              "        \n",
              "  <svg xmlns=\"http://www.w3.org/2000/svg\" height=\"24px\"viewBox=\"0 0 24 24\"\n",
              "       width=\"24px\">\n",
              "    <path d=\"M0 0h24v24H0V0z\" fill=\"none\"/>\n",
              "    <path d=\"M18.56 5.44l.94 2.06.94-2.06 2.06-.94-2.06-.94-.94-2.06-.94 2.06-2.06.94zm-11 1L8.5 8.5l.94-2.06 2.06-.94-2.06-.94L8.5 2.5l-.94 2.06-2.06.94zm10 10l.94 2.06.94-2.06 2.06-.94-2.06-.94-.94-2.06-.94 2.06-2.06.94z\"/><path d=\"M17.41 7.96l-1.37-1.37c-.4-.4-.92-.59-1.43-.59-.52 0-1.04.2-1.43.59L10.3 9.45l-7.72 7.72c-.78.78-.78 2.05 0 2.83L4 21.41c.39.39.9.59 1.41.59.51 0 1.02-.2 1.41-.59l7.78-7.78 2.81-2.81c.8-.78.8-2.07 0-2.86zM5.41 20L4 18.59l7.72-7.72 1.47 1.35L5.41 20z\"/>\n",
              "  </svg>\n",
              "      </button>\n",
              "      \n",
              "  <style>\n",
              "    .colab-df-container {\n",
              "      display:flex;\n",
              "      flex-wrap:wrap;\n",
              "      gap: 12px;\n",
              "    }\n",
              "\n",
              "    .colab-df-convert {\n",
              "      background-color: #E8F0FE;\n",
              "      border: none;\n",
              "      border-radius: 50%;\n",
              "      cursor: pointer;\n",
              "      display: none;\n",
              "      fill: #1967D2;\n",
              "      height: 32px;\n",
              "      padding: 0 0 0 0;\n",
              "      width: 32px;\n",
              "    }\n",
              "\n",
              "    .colab-df-convert:hover {\n",
              "      background-color: #E2EBFA;\n",
              "      box-shadow: 0px 1px 2px rgba(60, 64, 67, 0.3), 0px 1px 3px 1px rgba(60, 64, 67, 0.15);\n",
              "      fill: #174EA6;\n",
              "    }\n",
              "\n",
              "    [theme=dark] .colab-df-convert {\n",
              "      background-color: #3B4455;\n",
              "      fill: #D2E3FC;\n",
              "    }\n",
              "\n",
              "    [theme=dark] .colab-df-convert:hover {\n",
              "      background-color: #434B5C;\n",
              "      box-shadow: 0px 1px 3px 1px rgba(0, 0, 0, 0.15);\n",
              "      filter: drop-shadow(0px 1px 2px rgba(0, 0, 0, 0.3));\n",
              "      fill: #FFFFFF;\n",
              "    }\n",
              "  </style>\n",
              "\n",
              "      <script>\n",
              "        const buttonEl =\n",
              "          document.querySelector('#df-bfdbcd56-5138-4db2-b9cf-9cbf4a1ad565 button.colab-df-convert');\n",
              "        buttonEl.style.display =\n",
              "          google.colab.kernel.accessAllowed ? 'block' : 'none';\n",
              "\n",
              "        async function convertToInteractive(key) {\n",
              "          const element = document.querySelector('#df-bfdbcd56-5138-4db2-b9cf-9cbf4a1ad565');\n",
              "          const dataTable =\n",
              "            await google.colab.kernel.invokeFunction('convertToInteractive',\n",
              "                                                     [key], {});\n",
              "          if (!dataTable) return;\n",
              "\n",
              "          const docLinkHtml = 'Like what you see? Visit the ' +\n",
              "            '<a target=\"_blank\" href=https://colab.research.google.com/notebooks/data_table.ipynb>data table notebook</a>'\n",
              "            + ' to learn more about interactive tables.';\n",
              "          element.innerHTML = '';\n",
              "          dataTable['output_type'] = 'display_data';\n",
              "          await google.colab.output.renderOutput(dataTable, element);\n",
              "          const docLink = document.createElement('div');\n",
              "          docLink.innerHTML = docLinkHtml;\n",
              "          element.appendChild(docLink);\n",
              "        }\n",
              "      </script>\n",
              "    </div>\n",
              "  </div>\n",
              "  "
            ]
          },
          "metadata": {},
          "execution_count": 26
        }
      ],
      "id": "syFE7lOOYgrW"
    },
    {
      "cell_type": "code",
      "source": [
        "from matplotlib import pyplot as plt\n",
        "plt.plot(history.history['accuracy'])\n",
        "plt.plot(history.history['val_accuracy'])\n",
        "plt.title('model accuracy')\n",
        "plt.ylabel('accuracy')\n",
        "plt.xlabel('epoch')\n",
        "plt.legend(['Train', 'Cross-Validation'], loc='upper left')\n",
        "plt.show()"
      ],
      "metadata": {
        "colab": {
          "base_uri": "https://localhost:8080/",
          "height": 295
        },
        "outputId": "c0d9a57a-ceb7-4f64-c3f9-5c08a19b9647",
        "id": "ZxJFNcgoYgrY"
      },
      "execution_count": null,
      "outputs": [
        {
          "output_type": "display_data",
          "data": {
            "text/plain": [
              "<Figure size 432x288 with 1 Axes>"
            ],
            "image/png": "[encoded data removed]"
          },
          "metadata": {
            "needs_background": "light"
          }
        }
      ],
      "id": "ZxJFNcgoYgrY"
    },
    {
      "cell_type": "code",
      "source": [
        "plt.plot(history.history['loss'])\n",
        "plt.plot(history.history['val_loss'])\n",
        "plt.title('Model Loss')\n",
        "plt.ylabel('Loss')\n",
        "plt.xlabel('epoch')\n",
        "plt.legend(['Train', 'Cross-Validation'], loc='upper left')\n",
        "plt.show()"
      ],
      "metadata": {
        "colab": {
          "base_uri": "https://localhost:8080/",
          "height": 295
        },
        "outputId": "0c7e6a81-d340-449a-c979-90bdd62c40c4",
        "id": "hRTjCqQDYgrZ"
      },
      "execution_count": null,
      "outputs": [
        {
          "output_type": "display_data",
          "data": {
            "text/plain": [
              "<Figure size 432x288 with 1 Axes>"
            ],
            "image/png": "[encoded data removed]"
          },
          "metadata": {
            "needs_background": "light"
          }
        }
      ],
      "id": "hRTjCqQDYgrZ"
    },
    {
      "cell_type": "code",
      "source": [
        "print('Train Split: ')\n",
        "loss, accuracy = model.evaluate(X_train_tf_idf, y_train, verbose=1)\n",
        "print(\"Accuracy   : {:5.2f} \".format(accuracy))\n",
        "\n",
        "print('Evaluation Split: ')\n",
        "loss, accuracy =  model.evaluate(X_valid_tf_idf, y_valid, verbose=2)\n",
        "print(\"Accuracy   : {:5.2f} \".format(accuracy))\n",
        "\n",
        "print('Test Split: ')\n",
        "loss, accuracy =  model.evaluate(X_test_tf_idf, y_test, verbose=2)\n",
        "print(\"Accuracy   : {:5.2f} \".format(accuracy))"
      ],
      "metadata": {
        "colab": {
          "base_uri": "https://localhost:8080/"
        },
        "outputId": "59247441-a4e7-4e07-b810-da7cb0289294",
        "id": "4KNHPtFbYgra"
      },
      "execution_count": null,
      "outputs": [
        {
          "output_type": "stream",
          "name": "stdout",
          "text": [
            "Train Split: \n",
            "2837/2837 [==============================] - 6s 2ms/step - loss: 0.1570 - accuracy: 0.9101\n",
            "Accuracy   :  0.91 \n",
            "Evaluation Split: \n",
            "946/946 - 2s - loss: 0.2384 - accuracy: 0.8935 - 2s/epoch - 2ms/step\n",
            "Accuracy   :  0.89 \n",
            "Test Split: \n",
            "946/946 - 2s - loss: 0.2416 - accuracy: 0.8938 - 2s/epoch - 2ms/step\n",
            "Accuracy   :  0.89 \n"
          ]
        }
      ],
      "id": "4KNHPtFbYgra"
    },
    {
      "cell_type": "code",
      "source": [
        "model.pedict(X_test)"
      ],
      "metadata": {
        "colab": {
          "base_uri": "https://localhost:8080/",
          "height": 165
        },
        "id": "E3cRXLPXYfFi",
        "outputId": "3cf3d1ae-55b6-4669-8a47-85f2cd29ab75"
      },
      "id": "E3cRXLPXYfFi",
      "execution_count": null,
      "outputs": [
        {
          "output_type": "error",
          "ename": "NameError",
          "evalue": "ignored",
          "traceback": [
            "\u001b[0;31m---------------------------------------------------------------------------\u001b[0m",
            "\u001b[0;31mNameError\u001b[0m                                 Traceback (most recent call last)",
            "\u001b[0;32m<ipython-input-1-47ff7b5e9765>\u001b[0m in \u001b[0;36m<module>\u001b[0;34m\u001b[0m\n\u001b[0;32m----> 1\u001b[0;31m \u001b[0mmodel\u001b[0m\u001b[0;34m.\u001b[0m\u001b[0mpedict\u001b[0m\u001b[0;34m(\u001b[0m\u001b[0mX_test\u001b[0m\u001b[0;34m)\u001b[0m\u001b[0;34m\u001b[0m\u001b[0;34m\u001b[0m\u001b[0m\n\u001b[0m",
            "\u001b[0;31mNameError\u001b[0m: name 'model' is not defined"
          ]
        }
      ]
    },
    {
      "cell_type": "code",
      "source": [],
      "metadata": {
        "id": "9iuuHAunYVki"
      },
      "id": "9iuuHAunYVki",
      "execution_count": null,
      "outputs": []
    },
    {
      "cell_type": "code",
      "source": [],
      "metadata": {
        "id": "Wh8j6u3GYVcT"
      },
      "id": "Wh8j6u3GYVcT",
      "execution_count": null,
      "outputs": []
    },
    {
      "cell_type": "markdown",
      "id": "20fd88fe",
      "metadata": {
        "id": "20fd88fe"
      },
      "source": [
        "### Applying Logistic Regression"
      ]
    },
    {
      "cell_type": "code",
      "execution_count": null,
      "id": "a8325144",
      "metadata": {
        "id": "a8325144",
        "outputId": "b110eacc-f9c3-47b7-d188-5a31e1bb5c61"
      },
      "outputs": [
        {
          "name": "stderr",
          "output_type": "stream",
          "text": [
            "c:\\Users\\ritik\\AppData\\Local\\Programs\\Python\\Python310\\lib\\site-packages\\sklearn\\linear_model\\_logistic.py:444: ConvergenceWarning: lbfgs failed to converge (status=1):\n",
            "STOP: TOTAL NO. of ITERATIONS REACHED LIMIT.\n",
            "\n",
            "Increase the number of iterations (max_iter) or scale the data as shown in:\n",
            "    https://scikit-learn.org/stable/modules/preprocessing.html\n",
            "Please also refer to the documentation for alternative solver options:\n",
            "    https://scikit-learn.org/stable/modules/linear_model.html#logistic-regression\n",
            "  n_iter_i = _check_optimize_result(\n"
          ]
        },
        {
          "data": {
            "text/html": [
              "<style>#sk-container-id-3 {color: black;background-color: white;}#sk-container-id-3 pre{padding: 0;}#sk-container-id-3 div.sk-toggleable {background-color: white;}#sk-container-id-3 label.sk-toggleable__label {cursor: pointer;display: block;width: 100%;margin-bottom: 0;padding: 0.3em;box-sizing: border-box;text-align: center;}#sk-container-id-3 label.sk-toggleable__label-arrow:before {content: \"▸\";float: left;margin-right: 0.25em;color: #696969;}#sk-container-id-3 label.sk-toggleable__label-arrow:hover:before {color: black;}#sk-container-id-3 div.sk-estimator:hover label.sk-toggleable__label-arrow:before {color: black;}#sk-container-id-3 div.sk-toggleable__content {max-height: 0;max-width: 0;overflow: hidden;text-align: left;background-color: #f0f8ff;}#sk-container-id-3 div.sk-toggleable__content pre {margin: 0.2em;color: black;border-radius: 0.25em;background-color: #f0f8ff;}#sk-container-id-3 input.sk-toggleable__control:checked~div.sk-toggleable__content {max-height: 200px;max-width: 100%;overflow: auto;}#sk-container-id-3 input.sk-toggleable__control:checked~label.sk-toggleable__label-arrow:before {content: \"▾\";}#sk-container-id-3 div.sk-estimator input.sk-toggleable__control:checked~label.sk-toggleable__label {background-color: #d4ebff;}#sk-container-id-3 div.sk-label input.sk-toggleable__control:checked~label.sk-toggleable__label {background-color: #d4ebff;}#sk-container-id-3 input.sk-hidden--visually {border: 0;clip: rect(1px 1px 1px 1px);clip: rect(1px, 1px, 1px, 1px);height: 1px;margin: -1px;overflow: hidden;padding: 0;position: absolute;width: 1px;}#sk-container-id-3 div.sk-estimator {font-family: monospace;background-color: #f0f8ff;border: 1px dotted black;border-radius: 0.25em;box-sizing: border-box;margin-bottom: 0.5em;}#sk-container-id-3 div.sk-estimator:hover {background-color: #d4ebff;}#sk-container-id-3 div.sk-parallel-item::after {content: \"\";width: 100%;border-bottom: 1px solid gray;flex-grow: 1;}#sk-container-id-3 div.sk-label:hover label.sk-toggleable__label {background-color: #d4ebff;}#sk-container-id-3 div.sk-serial::before {content: \"\";position: absolute;border-left: 1px solid gray;box-sizing: border-box;top: 0;bottom: 0;left: 50%;z-index: 0;}#sk-container-id-3 div.sk-serial {display: flex;flex-direction: column;align-items: center;background-color: white;padding-right: 0.2em;padding-left: 0.2em;position: relative;}#sk-container-id-3 div.sk-item {position: relative;z-index: 1;}#sk-container-id-3 div.sk-parallel {display: flex;align-items: stretch;justify-content: center;background-color: white;position: relative;}#sk-container-id-3 div.sk-item::before, #sk-container-id-3 div.sk-parallel-item::before {content: \"\";position: absolute;border-left: 1px solid gray;box-sizing: border-box;top: 0;bottom: 0;left: 50%;z-index: -1;}#sk-container-id-3 div.sk-parallel-item {display: flex;flex-direction: column;z-index: 1;position: relative;background-color: white;}#sk-container-id-3 div.sk-parallel-item:first-child::after {align-self: flex-end;width: 50%;}#sk-container-id-3 div.sk-parallel-item:last-child::after {align-self: flex-start;width: 50%;}#sk-container-id-3 div.sk-parallel-item:only-child::after {width: 0;}#sk-container-id-3 div.sk-dashed-wrapped {border: 1px dashed gray;margin: 0 0.4em 0.5em 0.4em;box-sizing: border-box;padding-bottom: 0.4em;background-color: white;}#sk-container-id-3 div.sk-label label {font-family: monospace;font-weight: bold;display: inline-block;line-height: 1.2em;}#sk-container-id-3 div.sk-label-container {text-align: center;}#sk-container-id-3 div.sk-container {/* jupyter's `normalize.less` sets `[hidden] { display: none; }` but bootstrap.min.css set `[hidden] { display: none !important; }` so we also need the `!important` here to be able to override the default hidden behavior on the sphinx rendered scikit-learn.org. See: https://github.com/scikit-learn/scikit-learn/issues/21755 */display: inline-block !important;position: relative;}#sk-container-id-3 div.sk-text-repr-fallback {display: none;}</style><div id=\"sk-container-id-3\" class=\"sk-top-container\"><div class=\"sk-text-repr-fallback\"><pre>LogisticRegression()</pre><b>In a Jupyter environment, please rerun this cell to show the HTML representation or trust the notebook. <br />On GitHub, the HTML representation is unable to render, please try loading this page with nbviewer.org.</b></div><div class=\"sk-container\" hidden><div class=\"sk-item\"><div class=\"sk-estimator sk-toggleable\"><input class=\"sk-toggleable__control sk-hidden--visually\" id=\"sk-estimator-id-3\" type=\"checkbox\" checked><label for=\"sk-estimator-id-3\" class=\"sk-toggleable__label sk-toggleable__label-arrow\">LogisticRegression</label><div class=\"sk-toggleable__content\"><pre>LogisticRegression()</pre></div></div></div></div></div>"
            ],
            "text/plain": [
              "LogisticRegression()"
            ]
          },
          "execution_count": 50,
          "metadata": {},
          "output_type": "execute_result"
        }
      ],
      "source": [
        "# Model Building using logistic regression\n",
        "logit = LogisticRegression()\n",
        "logit.fit(X_train_tf_idf, y_train)"
      ]
    },
    {
      "cell_type": "code",
      "execution_count": null,
      "id": "b13a9223",
      "metadata": {
        "id": "b13a9223"
      },
      "outputs": [],
      "source": [
        "logit_tf_idf_pred = logit.predict(X_test_tf_idf)"
      ]
    },
    {
      "cell_type": "code",
      "execution_count": null,
      "id": "5439f166",
      "metadata": {
        "id": "5439f166",
        "outputId": "49831cd5-9aaa-4df8-d8d0-dbc67f49da85"
      },
      "outputs": [
        {
          "name": "stdout",
          "output_type": "stream",
          "text": [
            "Accuracy of Logistic Regression model is:  0.9316874876065834\n"
          ]
        }
      ],
      "source": [
        "cm = confusion_matrix(y_test, logit_tf_idf_pred)\n",
        "ac = accuracy_score(y_test, logit_tf_idf_pred)\n",
        "# Accuracy of Our Model\n",
        "print(\"Accuracy of Logistic Regression model is: \",ac)"
      ]
    },
    {
      "cell_type": "code",
      "execution_count": null,
      "id": "e5a89d39",
      "metadata": {
        "id": "e5a89d39",
        "outputId": "638d7a9d-329c-4a14-bc5a-ed88b7d79dc9"
      },
      "outputs": [
        {
          "data": {
            "text/plain": [
              "<AxesSubplot:>"
            ]
          },
          "execution_count": 53,
          "metadata": {},
          "output_type": "execute_result"
        },
        {
          "data": {
            "image/png": "[encoded data removed]",
            "text/plain": [
              "<Figure size 432x288 with 1 Axes>"
            ]
          },
          "metadata": {
            "needs_background": "light"
          },
          "output_type": "display_data"
        }
      ],
      "source": [
        "# print confusion matrix\n",
        "sn.heatmap(cm, square=True, annot=True, cmap='Blues', fmt='d', cbar=False)"
      ]
    },
    {
      "cell_type": "code",
      "execution_count": null,
      "id": "3e38349b",
      "metadata": {
        "scrolled": true,
        "id": "3e38349b",
        "outputId": "b98c1aff-2b4c-4738-fb94-56a1989dc58c"
      },
      "outputs": [
        {
          "name": "stdout",
          "output_type": "stream",
          "text": [
            "              precision    recall  f1-score   support\n",
            "\n",
            "           0       0.91      0.96      0.93     15129\n",
            "           1       0.96      0.90      0.93     15129\n",
            "\n",
            "    accuracy                           0.93     30258\n",
            "   macro avg       0.93      0.93      0.93     30258\n",
            "weighted avg       0.93      0.93      0.93     30258\n",
            "\n"
          ]
        }
      ],
      "source": [
        "print(classification_report(y_test, logit_tf_idf_pred))"
      ]
    },
    {
      "cell_type": "code",
      "execution_count": null,
      "id": "14b7672b",
      "metadata": {
        "id": "14b7672b"
      },
      "outputs": [],
      "source": [
        "tf_idf_results.append((\"LogR \", accuracy_score(y_test,  logit_tf_idf_pred)*100,\n",
        "                precision_score(y_test,  logit_tf_idf_pred)*100,\n",
        "                recall_score(y_test,  logit_tf_idf_pred)*100,\n",
        "                f1_score(y_test,  logit_tf_idf_pred)*100 ))\n"
      ]
    },
    {
      "cell_type": "markdown",
      "id": "75be9c7e",
      "metadata": {
        "id": "75be9c7e"
      },
      "source": [
        "### Applying Naive Bayes"
      ]
    },
    {
      "cell_type": "code",
      "execution_count": null,
      "id": "3a75c1ea",
      "metadata": {
        "id": "3a75c1ea",
        "outputId": "b2bfbab9-1d20-43a0-a986-577df1897f52"
      },
      "outputs": [
        {
          "data": {
            "text/html": [
              "<style>#sk-container-id-4 {color: black;background-color: white;}#sk-container-id-4 pre{padding: 0;}#sk-container-id-4 div.sk-toggleable {background-color: white;}#sk-container-id-4 label.sk-toggleable__label {cursor: pointer;display: block;width: 100%;margin-bottom: 0;padding: 0.3em;box-sizing: border-box;text-align: center;}#sk-container-id-4 label.sk-toggleable__label-arrow:before {content: \"▸\";float: left;margin-right: 0.25em;color: #696969;}#sk-container-id-4 label.sk-toggleable__label-arrow:hover:before {color: black;}#sk-container-id-4 div.sk-estimator:hover label.sk-toggleable__label-arrow:before {color: black;}#sk-container-id-4 div.sk-toggleable__content {max-height: 0;max-width: 0;overflow: hidden;text-align: left;background-color: #f0f8ff;}#sk-container-id-4 div.sk-toggleable__content pre {margin: 0.2em;color: black;border-radius: 0.25em;background-color: #f0f8ff;}#sk-container-id-4 input.sk-toggleable__control:checked~div.sk-toggleable__content {max-height: 200px;max-width: 100%;overflow: auto;}#sk-container-id-4 input.sk-toggleable__control:checked~label.sk-toggleable__label-arrow:before {content: \"▾\";}#sk-container-id-4 div.sk-estimator input.sk-toggleable__control:checked~label.sk-toggleable__label {background-color: #d4ebff;}#sk-container-id-4 div.sk-label input.sk-toggleable__control:checked~label.sk-toggleable__label {background-color: #d4ebff;}#sk-container-id-4 input.sk-hidden--visually {border: 0;clip: rect(1px 1px 1px 1px);clip: rect(1px, 1px, 1px, 1px);height: 1px;margin: -1px;overflow: hidden;padding: 0;position: absolute;width: 1px;}#sk-container-id-4 div.sk-estimator {font-family: monospace;background-color: #f0f8ff;border: 1px dotted black;border-radius: 0.25em;box-sizing: border-box;margin-bottom: 0.5em;}#sk-container-id-4 div.sk-estimator:hover {background-color: #d4ebff;}#sk-container-id-4 div.sk-parallel-item::after {content: \"\";width: 100%;border-bottom: 1px solid gray;flex-grow: 1;}#sk-container-id-4 div.sk-label:hover label.sk-toggleable__label {background-color: #d4ebff;}#sk-container-id-4 div.sk-serial::before {content: \"\";position: absolute;border-left: 1px solid gray;box-sizing: border-box;top: 0;bottom: 0;left: 50%;z-index: 0;}#sk-container-id-4 div.sk-serial {display: flex;flex-direction: column;align-items: center;background-color: white;padding-right: 0.2em;padding-left: 0.2em;position: relative;}#sk-container-id-4 div.sk-item {position: relative;z-index: 1;}#sk-container-id-4 div.sk-parallel {display: flex;align-items: stretch;justify-content: center;background-color: white;position: relative;}#sk-container-id-4 div.sk-item::before, #sk-container-id-4 div.sk-parallel-item::before {content: \"\";position: absolute;border-left: 1px solid gray;box-sizing: border-box;top: 0;bottom: 0;left: 50%;z-index: -1;}#sk-container-id-4 div.sk-parallel-item {display: flex;flex-direction: column;z-index: 1;position: relative;background-color: white;}#sk-container-id-4 div.sk-parallel-item:first-child::after {align-self: flex-end;width: 50%;}#sk-container-id-4 div.sk-parallel-item:last-child::after {align-self: flex-start;width: 50%;}#sk-container-id-4 div.sk-parallel-item:only-child::after {width: 0;}#sk-container-id-4 div.sk-dashed-wrapped {border: 1px dashed gray;margin: 0 0.4em 0.5em 0.4em;box-sizing: border-box;padding-bottom: 0.4em;background-color: white;}#sk-container-id-4 div.sk-label label {font-family: monospace;font-weight: bold;display: inline-block;line-height: 1.2em;}#sk-container-id-4 div.sk-label-container {text-align: center;}#sk-container-id-4 div.sk-container {/* jupyter's `normalize.less` sets `[hidden] { display: none; }` but bootstrap.min.css set `[hidden] { display: none !important; }` so we also need the `!important` here to be able to override the default hidden behavior on the sphinx rendered scikit-learn.org. See: https://github.com/scikit-learn/scikit-learn/issues/21755 */display: inline-block !important;position: relative;}#sk-container-id-4 div.sk-text-repr-fallback {display: none;}</style><div id=\"sk-container-id-4\" class=\"sk-top-container\"><div class=\"sk-text-repr-fallback\"><pre>MultinomialNB()</pre><b>In a Jupyter environment, please rerun this cell to show the HTML representation or trust the notebook. <br />On GitHub, the HTML representation is unable to render, please try loading this page with nbviewer.org.</b></div><div class=\"sk-container\" hidden><div class=\"sk-item\"><div class=\"sk-estimator sk-toggleable\"><input class=\"sk-toggleable__control sk-hidden--visually\" id=\"sk-estimator-id-4\" type=\"checkbox\" checked><label for=\"sk-estimator-id-4\" class=\"sk-toggleable__label sk-toggleable__label-arrow\">MultinomialNB</label><div class=\"sk-toggleable__content\"><pre>MultinomialNB()</pre></div></div></div></div></div>"
            ],
            "text/plain": [
              "MultinomialNB()"
            ]
          },
          "execution_count": 56,
          "metadata": {},
          "output_type": "execute_result"
        }
      ],
      "source": [
        "from sklearn.naive_bayes import MultinomialNB\n",
        "mnb = MultinomialNB()\n",
        "mnb.fit(X_train_tf_idf, y_train)"
      ]
    },
    {
      "cell_type": "code",
      "execution_count": null,
      "id": "5c40665e",
      "metadata": {
        "id": "5c40665e"
      },
      "outputs": [],
      "source": [
        "mnb_tf_idf_pred = mnb.predict(X_test_tf_idf)"
      ]
    },
    {
      "cell_type": "code",
      "execution_count": null,
      "id": "fb04a016",
      "metadata": {
        "id": "fb04a016",
        "outputId": "a9d6f33f-a584-42aa-88aa-9905a654d26d"
      },
      "outputs": [
        {
          "name": "stdout",
          "output_type": "stream",
          "text": [
            "Accuracy of SVM model is:  0.9289113622843546\n"
          ]
        }
      ],
      "source": [
        "cm = confusion_matrix(y_test, mnb_tf_idf_pred)\n",
        "ac = accuracy_score(y_test, mnb_tf_idf_pred)\n",
        "# Accuracy of Our Model\n",
        "print(\"Accuracy of SVM model is: \",ac)"
      ]
    },
    {
      "cell_type": "code",
      "execution_count": null,
      "id": "c2dd687a",
      "metadata": {
        "id": "c2dd687a",
        "outputId": "bdb335a8-1e11-43c3-b7d6-b5151d1e4f3c"
      },
      "outputs": [
        {
          "data": {
            "text/plain": [
              "<AxesSubplot:>"
            ]
          },
          "execution_count": 59,
          "metadata": {},
          "output_type": "execute_result"
        },
        {
          "data": {
            "image/png": "[encoded data removed]",
            "text/plain": [
              "<Figure size 432x288 with 1 Axes>"
            ]
          },
          "metadata": {
            "needs_background": "light"
          },
          "output_type": "display_data"
        }
      ],
      "source": [
        "# print confusion matrix\n",
        "sn.heatmap(cm, square=True, annot=True, cmap='Blues', fmt='d', cbar=False)"
      ]
    },
    {
      "cell_type": "code",
      "execution_count": null,
      "id": "4da398c5",
      "metadata": {
        "id": "4da398c5",
        "outputId": "41881c84-7acf-491f-c63d-2c4b91a9a5b5"
      },
      "outputs": [
        {
          "name": "stdout",
          "output_type": "stream",
          "text": [
            "              precision    recall  f1-score   support\n",
            "\n",
            "           0       0.90      0.96      0.93     15129\n",
            "           1       0.96      0.90      0.93     15129\n",
            "\n",
            "    accuracy                           0.93     30258\n",
            "   macro avg       0.93      0.93      0.93     30258\n",
            "weighted avg       0.93      0.93      0.93     30258\n",
            "\n"
          ]
        }
      ],
      "source": [
        "print(classification_report(y_test, mnb_tf_idf_pred))"
      ]
    },
    {
      "cell_type": "code",
      "execution_count": null,
      "id": "1a5ed919",
      "metadata": {
        "id": "1a5ed919"
      },
      "outputs": [],
      "source": [
        "tf_idf_results.append((\"MNB \", accuracy_score(y_test,  mnb_tf_idf_pred)*100,\n",
        "                precision_score(y_test,  mnb_tf_idf_pred)*100,\n",
        "                recall_score(y_test,  mnb_tf_idf_pred)*100,\n",
        "                f1_score(y_test,  mnb_tf_idf_pred)*100 ))\n"
      ]
    },
    {
      "cell_type": "markdown",
      "id": "0380cd27",
      "metadata": {
        "id": "0380cd27"
      },
      "source": [
        "### Applying Decision Tree"
      ]
    },
    {
      "cell_type": "code",
      "execution_count": null,
      "id": "40360d0c",
      "metadata": {
        "id": "40360d0c",
        "outputId": "7babe29e-6d30-4282-8156-5274129b0c68"
      },
      "outputs": [
        {
          "data": {
            "text/html": [
              "<style>#sk-container-id-5 {color: black;background-color: white;}#sk-container-id-5 pre{padding: 0;}#sk-container-id-5 div.sk-toggleable {background-color: white;}#sk-container-id-5 label.sk-toggleable__label {cursor: pointer;display: block;width: 100%;margin-bottom: 0;padding: 0.3em;box-sizing: border-box;text-align: center;}#sk-container-id-5 label.sk-toggleable__label-arrow:before {content: \"▸\";float: left;margin-right: 0.25em;color: #696969;}#sk-container-id-5 label.sk-toggleable__label-arrow:hover:before {color: black;}#sk-container-id-5 div.sk-estimator:hover label.sk-toggleable__label-arrow:before {color: black;}#sk-container-id-5 div.sk-toggleable__content {max-height: 0;max-width: 0;overflow: hidden;text-align: left;background-color: #f0f8ff;}#sk-container-id-5 div.sk-toggleable__content pre {margin: 0.2em;color: black;border-radius: 0.25em;background-color: #f0f8ff;}#sk-container-id-5 input.sk-toggleable__control:checked~div.sk-toggleable__content {max-height: 200px;max-width: 100%;overflow: auto;}#sk-container-id-5 input.sk-toggleable__control:checked~label.sk-toggleable__label-arrow:before {content: \"▾\";}#sk-container-id-5 div.sk-estimator input.sk-toggleable__control:checked~label.sk-toggleable__label {background-color: #d4ebff;}#sk-container-id-5 div.sk-label input.sk-toggleable__control:checked~label.sk-toggleable__label {background-color: #d4ebff;}#sk-container-id-5 input.sk-hidden--visually {border: 0;clip: rect(1px 1px 1px 1px);clip: rect(1px, 1px, 1px, 1px);height: 1px;margin: -1px;overflow: hidden;padding: 0;position: absolute;width: 1px;}#sk-container-id-5 div.sk-estimator {font-family: monospace;background-color: #f0f8ff;border: 1px dotted black;border-radius: 0.25em;box-sizing: border-box;margin-bottom: 0.5em;}#sk-container-id-5 div.sk-estimator:hover {background-color: #d4ebff;}#sk-container-id-5 div.sk-parallel-item::after {content: \"\";width: 100%;border-bottom: 1px solid gray;flex-grow: 1;}#sk-container-id-5 div.sk-label:hover label.sk-toggleable__label {background-color: #d4ebff;}#sk-container-id-5 div.sk-serial::before {content: \"\";position: absolute;border-left: 1px solid gray;box-sizing: border-box;top: 0;bottom: 0;left: 50%;z-index: 0;}#sk-container-id-5 div.sk-serial {display: flex;flex-direction: column;align-items: center;background-color: white;padding-right: 0.2em;padding-left: 0.2em;position: relative;}#sk-container-id-5 div.sk-item {position: relative;z-index: 1;}#sk-container-id-5 div.sk-parallel {display: flex;align-items: stretch;justify-content: center;background-color: white;position: relative;}#sk-container-id-5 div.sk-item::before, #sk-container-id-5 div.sk-parallel-item::before {content: \"\";position: absolute;border-left: 1px solid gray;box-sizing: border-box;top: 0;bottom: 0;left: 50%;z-index: -1;}#sk-container-id-5 div.sk-parallel-item {display: flex;flex-direction: column;z-index: 1;position: relative;background-color: white;}#sk-container-id-5 div.sk-parallel-item:first-child::after {align-self: flex-end;width: 50%;}#sk-container-id-5 div.sk-parallel-item:last-child::after {align-self: flex-start;width: 50%;}#sk-container-id-5 div.sk-parallel-item:only-child::after {width: 0;}#sk-container-id-5 div.sk-dashed-wrapped {border: 1px dashed gray;margin: 0 0.4em 0.5em 0.4em;box-sizing: border-box;padding-bottom: 0.4em;background-color: white;}#sk-container-id-5 div.sk-label label {font-family: monospace;font-weight: bold;display: inline-block;line-height: 1.2em;}#sk-container-id-5 div.sk-label-container {text-align: center;}#sk-container-id-5 div.sk-container {/* jupyter's `normalize.less` sets `[hidden] { display: none; }` but bootstrap.min.css set `[hidden] { display: none !important; }` so we also need the `!important` here to be able to override the default hidden behavior on the sphinx rendered scikit-learn.org. See: https://github.com/scikit-learn/scikit-learn/issues/21755 */display: inline-block !important;position: relative;}#sk-container-id-5 div.sk-text-repr-fallback {display: none;}</style><div id=\"sk-container-id-5\" class=\"sk-top-container\"><div class=\"sk-text-repr-fallback\"><pre>DecisionTreeClassifier(criterion=&#x27;entropy&#x27;)</pre><b>In a Jupyter environment, please rerun this cell to show the HTML representation or trust the notebook. <br />On GitHub, the HTML representation is unable to render, please try loading this page with nbviewer.org.</b></div><div class=\"sk-container\" hidden><div class=\"sk-item\"><div class=\"sk-estimator sk-toggleable\"><input class=\"sk-toggleable__control sk-hidden--visually\" id=\"sk-estimator-id-5\" type=\"checkbox\" checked><label for=\"sk-estimator-id-5\" class=\"sk-toggleable__label sk-toggleable__label-arrow\">DecisionTreeClassifier</label><div class=\"sk-toggleable__content\"><pre>DecisionTreeClassifier(criterion=&#x27;entropy&#x27;)</pre></div></div></div></div></div>"
            ],
            "text/plain": [
              "DecisionTreeClassifier(criterion='entropy')"
            ]
          },
          "execution_count": 62,
          "metadata": {},
          "output_type": "execute_result"
        }
      ],
      "source": [
        "from sklearn.tree import DecisionTreeClassifier\n",
        "dtc = DecisionTreeClassifier(criterion='entropy')\n",
        "dtc.fit(X_train_tf_idf, y_train)"
      ]
    },
    {
      "cell_type": "code",
      "execution_count": null,
      "id": "b8e72515",
      "metadata": {
        "id": "b8e72515"
      },
      "outputs": [],
      "source": [
        "dt_tf_idf_pred = dtc.predict(X_test_tf_idf)"
      ]
    },
    {
      "cell_type": "code",
      "execution_count": null,
      "id": "bc4f9585",
      "metadata": {
        "id": "bc4f9585",
        "outputId": "c43ce86a-6244-4cd0-db72-a4976b74e552"
      },
      "outputs": [
        {
          "name": "stdout",
          "output_type": "stream",
          "text": [
            "Accuracy of SVM model is:  0.9134113292352436\n"
          ]
        }
      ],
      "source": [
        "cm = confusion_matrix(y_test, dt_tf_idf_pred)\n",
        "ac = accuracy_score(y_test, dt_tf_idf_pred)\n",
        "# Accuracy of Our Model\n",
        "print(\"Accuracy of SVM model is: \",ac)"
      ]
    },
    {
      "cell_type": "code",
      "execution_count": null,
      "id": "34efac1d",
      "metadata": {
        "id": "34efac1d",
        "outputId": "aad61c18-58c0-4745-f766-b43e1e295b2e"
      },
      "outputs": [
        {
          "data": {
            "text/plain": [
              "<AxesSubplot:>"
            ]
          },
          "execution_count": 65,
          "metadata": {},
          "output_type": "execute_result"
        },
        {
          "data": {
            "image/png": "[encoded data removed]",
            "text/plain": [
              "<Figure size 432x288 with 1 Axes>"
            ]
          },
          "metadata": {
            "needs_background": "light"
          },
          "output_type": "display_data"
        }
      ],
      "source": [
        "# print confusion matrix\n",
        "sn.heatmap(cm, square=True, annot=True, cmap='Blues', fmt='d', cbar=False)"
      ]
    },
    {
      "cell_type": "code",
      "execution_count": null,
      "id": "601e3235",
      "metadata": {
        "scrolled": true,
        "id": "601e3235",
        "outputId": "b3b799a1-dd00-4cd2-b2bb-4f8fbe94504b"
      },
      "outputs": [
        {
          "name": "stdout",
          "output_type": "stream",
          "text": [
            "              precision    recall  f1-score   support\n",
            "\n",
            "           0       0.89      0.95      0.92     15129\n",
            "           1       0.94      0.88      0.91     15129\n",
            "\n",
            "    accuracy                           0.91     30258\n",
            "   macro avg       0.92      0.91      0.91     30258\n",
            "weighted avg       0.92      0.91      0.91     30258\n",
            "\n"
          ]
        }
      ],
      "source": [
        "print(classification_report(y_test, dt_tf_idf_pred))"
      ]
    },
    {
      "cell_type": "code",
      "execution_count": null,
      "id": "1d6c98f3",
      "metadata": {
        "id": "1d6c98f3"
      },
      "outputs": [],
      "source": [
        "tf_idf_results.append((\"DT \", accuracy_score(y_test,  dt_tf_idf_pred)*100,\n",
        "                precision_score(y_test,  dt_tf_idf_pred)*100,\n",
        "                recall_score(y_test,  dt_tf_idf_pred)*100,\n",
        "                f1_score(y_test,  dt_tf_idf_pred)*100 ))\n"
      ]
    },
    {
      "cell_type": "code",
      "execution_count": null,
      "id": "070fb755",
      "metadata": {
        "id": "070fb755",
        "outputId": "b5e2afed-2f66-4a82-bae4-e2f31cabf9ac"
      },
      "outputs": [
        {
          "data": {
            "text/html": [
              "<div>\n",
              "<style scoped>\n",
              "    .dataframe tbody tr th:only-of-type {\n",
              "        vertical-align: middle;\n",
              "    }\n",
              "\n",
              "    .dataframe tbody tr th {\n",
              "        vertical-align: top;\n",
              "    }\n",
              "\n",
              "    .dataframe thead th {\n",
              "        text-align: right;\n",
              "    }\n",
              "</style>\n",
              "<table border=\"1\" class=\"dataframe\">\n",
              "  <thead>\n",
              "    <tr style=\"text-align: right;\">\n",
              "      <th></th>\n",
              "      <th>0</th>\n",
              "      <th>1</th>\n",
              "      <th>2</th>\n",
              "      <th>3</th>\n",
              "      <th>4</th>\n",
              "    </tr>\n",
              "  </thead>\n",
              "  <tbody>\n",
              "    <tr>\n",
              "      <th>0</th>\n",
              "      <td>Classifier</td>\n",
              "      <td>Accurary</td>\n",
              "      <td>Precision</td>\n",
              "      <td>Recall</td>\n",
              "      <td>F1-Score</td>\n",
              "    </tr>\n",
              "    <tr>\n",
              "      <th>1</th>\n",
              "      <td>LogR</td>\n",
              "      <td>93.168749</td>\n",
              "      <td>96.090332</td>\n",
              "      <td>89.999339</td>\n",
              "      <td>92.945152</td>\n",
              "    </tr>\n",
              "    <tr>\n",
              "      <th>2</th>\n",
              "      <td>MNB</td>\n",
              "      <td>92.891136</td>\n",
              "      <td>95.588029</td>\n",
              "      <td>89.933241</td>\n",
              "      <td>92.674454</td>\n",
              "    </tr>\n",
              "    <tr>\n",
              "      <th>3</th>\n",
              "      <td>DT</td>\n",
              "      <td>91.341133</td>\n",
              "      <td>94.411702</td>\n",
              "      <td>87.884196</td>\n",
              "      <td>91.031083</td>\n",
              "    </tr>\n",
              "  </tbody>\n",
              "</table>\n",
              "</div>"
            ],
            "text/plain": [
              "            0          1          2          3          4\n",
              "0  Classifier   Accurary  Precision     Recall   F1-Score\n",
              "1       LogR   93.168749  96.090332  89.999339  92.945152\n",
              "2        MNB   92.891136  95.588029  89.933241  92.674454\n",
              "3         DT   91.341133  94.411702  87.884196  91.031083"
            ]
          },
          "execution_count": 68,
          "metadata": {},
          "output_type": "execute_result"
        }
      ],
      "source": [
        "pd.DataFrame(tf_idf_results)"
      ]
    },
    {
      "cell_type": "code",
      "execution_count": null,
      "id": "d79dbc96",
      "metadata": {
        "id": "d79dbc96"
      },
      "outputs": [],
      "source": []
    },
    {
      "cell_type": "markdown",
      "id": "304206d7",
      "metadata": {
        "id": "304206d7"
      },
      "source": [
        "### Visualize Results"
      ]
    },
    {
      "cell_type": "markdown",
      "id": "6144a71c",
      "metadata": {
        "id": "6144a71c"
      },
      "source": [
        "#### CountVectorizer"
      ]
    },
    {
      "cell_type": "code",
      "execution_count": null,
      "id": "b4361813",
      "metadata": {
        "id": "b4361813",
        "outputId": "ed84435f-3761-45f6-b660-fcc5eecc4c2a"
      },
      "outputs": [
        {
          "data": {
            "image/png": "[encoded data removed]",
            "text/plain": [
              "<Figure size 864x504 with 1 Axes>"
            ]
          },
          "metadata": {
            "needs_background": "light"
          },
          "output_type": "display_data"
        }
      ],
      "source": [
        "plt.figure(figsize=(12,7))\n",
        "X_axis = np.arange(len(cv_results)-1)\n",
        "models_name = [x[0] for x in cv_results[1:]]\n",
        "\n",
        "accuracy_list = [x[1] for x in cv_results[1:]]\n",
        "precision_list = [x[2] for x in cv_results[1:]]\n",
        "recall_list = [x[3] for x in cv_results[1:]]\n",
        "f1_list = [x[4] for x in cv_results[1:]]\n",
        "\n",
        "\n",
        "p1 = plt.bar(X_axis - 0.3, accuracy_list, 0.2, label = 'Accuracy')\n",
        "for rect in p1:\n",
        "    height = rect.get_height()\n",
        "    plt.annotate( \"{:.2f}%\".format(height),(rect.get_x() + rect.get_width()/2, 1),ha=\"center\",va=\"bottom\",fontsize=10, color='white')\n",
        "    \n",
        "p2 = plt.bar(X_axis - 0.1, precision_list, 0.2, label = 'Precision')\n",
        "for rect in p2:\n",
        "    height = rect.get_height()\n",
        "    plt.annotate( \"{:.2f}%\".format(height),(rect.get_x() + rect.get_width()/2, 1),ha=\"center\",va=\"bottom\",fontsize=10, color='white')\n",
        "    \n",
        "p3 = plt.bar(X_axis + 0.1, recall_list, 0.2, label = 'Recall')\n",
        "for rect in p3:\n",
        "    height = rect.get_height()\n",
        "    plt.annotate( \"{:.2f}%\".format(height),(rect.get_x() + rect.get_width()/2, 1),ha=\"center\",va=\"bottom\",fontsize=10, color='white')\n",
        "    \n",
        "p4 = plt.bar(X_axis + 0.3, f1_list, 0.2, label = 'F1-Score')\n",
        "for rect in p4:\n",
        "    height = rect.get_height()\n",
        "    plt.annotate( \"{:.2f}%\".format(height),(rect.get_x() + rect.get_width()/2, 1),ha=\"center\",va=\"bottom\",fontsize=10, color='white')\n",
        "\n",
        "\n",
        "plt.xticks(X_axis, models_name)\n",
        "plt.xlabel(\"Classification Model\")\n",
        "plt.ylabel(\"Score\")\n",
        "plt.title(\"Performance of classification models\")\n",
        "plt.legend(loc='upper right')\n",
        "plt.show()"
      ]
    },
    {
      "cell_type": "markdown",
      "id": "81d94a19",
      "metadata": {
        "id": "81d94a19"
      },
      "source": [
        "#### TFIDF Vectorizer"
      ]
    },
    {
      "cell_type": "code",
      "execution_count": null,
      "id": "2c46a954",
      "metadata": {
        "id": "2c46a954",
        "outputId": "eaaa3b62-3902-4da3-c356-d6f500a293d9"
      },
      "outputs": [
        {
          "data": {
            "image/png": "[encoded data removed]",
            "text/plain": [
              "<Figure size 864x504 with 1 Axes>"
            ]
          },
          "metadata": {
            "needs_background": "light"
          },
          "output_type": "display_data"
        }
      ],
      "source": [
        "plt.figure(figsize=(12,7))\n",
        "X_axis = np.arange(len(tf_idf_results)-1)\n",
        "models_name = [x[0] for x in tf_idf_results[1:]]\n",
        "\n",
        "accuracy_list = [x[1] for x in tf_idf_results[1:]]\n",
        "precision_list = [x[2] for x in tf_idf_results[1:]]\n",
        "recall_list = [x[3] for x in tf_idf_results[1:]]\n",
        "f1_list = [x[4] for x in tf_idf_results[1:]]\n",
        "\n",
        "\n",
        "p1 = plt.bar(X_axis - 0.3, accuracy_list, 0.2, label = 'Accuracy')\n",
        "for rect in p1:\n",
        "    height = rect.get_height()\n",
        "    plt.annotate( \"{:.2f}%\".format(height),(rect.get_x() + rect.get_width()/2, 1),ha=\"center\",va=\"bottom\",fontsize=10, color='white')\n",
        "    \n",
        "p2 = plt.bar(X_axis - 0.1, precision_list, 0.2, label = 'Precision')\n",
        "for rect in p2:\n",
        "    height = rect.get_height()\n",
        "    plt.annotate( \"{:.2f}%\".format(height),(rect.get_x() + rect.get_width()/2, 1),ha=\"center\",va=\"bottom\",fontsize=10, color='white')\n",
        "    \n",
        "p3 = plt.bar(X_axis + 0.1, recall_list, 0.2, label = 'Recall')\n",
        "for rect in p3:\n",
        "    height = rect.get_height()\n",
        "    plt.annotate( \"{:.2f}%\".format(height),(rect.get_x() + rect.get_width()/2, 1),ha=\"center\",va=\"bottom\",fontsize=10, color='white')\n",
        "    \n",
        "p4 = plt.bar(X_axis + 0.3, f1_list, 0.2, label = 'F1-Score')\n",
        "for rect in p4:\n",
        "    height = rect.get_height()\n",
        "    plt.annotate( \"{:.2f}%\".format(height),(rect.get_x() + rect.get_width()/2, 1),ha=\"center\",va=\"bottom\",fontsize=10, color='white')\n",
        "\n",
        "\n",
        "plt.xticks(X_axis, models_name)\n",
        "plt.xlabel(\"Classification Model\")\n",
        "plt.ylabel(\"Score\")\n",
        "plt.title(\"Performance of classification models\")\n",
        "plt.legend(loc='upper right')\n",
        "plt.show()"
      ]
    },
    {
      "cell_type": "code",
      "execution_count": null,
      "id": "b57aa99a",
      "metadata": {
        "id": "b57aa99a"
      },
      "outputs": [],
      "source": []
    },
    {
      "cell_type": "code",
      "execution_count": null,
      "id": "9244dfa4",
      "metadata": {
        "id": "9244dfa4"
      },
      "outputs": [],
      "source": []
    },
    {
      "cell_type": "code",
      "execution_count": null,
      "id": "856eb312",
      "metadata": {
        "id": "856eb312"
      },
      "outputs": [],
      "source": []
    },
    {
      "cell_type": "code",
      "execution_count": null,
      "id": "77935c2e",
      "metadata": {
        "id": "77935c2e"
      },
      "outputs": [],
      "source": []
    },
    {
      "cell_type": "code",
      "execution_count": null,
      "id": "cbdbccdc",
      "metadata": {
        "id": "cbdbccdc"
      },
      "outputs": [],
      "source": []
    }
  ],
  "metadata": {
    "kernelspec": {
      "display_name": "Python 3 (ipykernel)",
      "language": "python",
      "name": "python3"
    },
    "language_info": {
      "codemirror_mode": {
        "name": "ipython",
        "version": 3
      },
      "file_extension": ".py",
      "mimetype": "text/x-python",
      "name": "python",
      "nbconvert_exporter": "python",
      "pygments_lexer": "ipython3",
      "version": "3.10.5"
    },
    "colab": {
      "provenance": [],
      "collapsed_sections": [
        "I-kJwv3sQ_24",
        "861130f6",
        "8d5fa066",
        "4759549e",
        "0380cd27",
        "304206d7",
        "6144a71c",
        "81d94a19"
      ]
    },
    "accelerator": "GPU",
    "gpuClass": "standard"
  },
  "nbformat": 4,
  "nbformat_minor": 5
}